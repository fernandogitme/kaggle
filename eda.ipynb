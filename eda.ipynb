{
 "cells": [
  {
   "cell_type": "code",
   "execution_count": 43,
   "metadata": {},
   "outputs": [],
   "source": [
    "import pandas as pd\n",
    "import seaborn as sns\n",
    "import numpy as np\n",
    "import matplotlib.pyplot as plt\n",
    "#import streamlit as st\n",
    "import pandas as pd\n",
    "from sklearn.preprocessing import OneHotEncoder\n"
   ]
  },
  {
   "cell_type": "code",
   "execution_count": 44,
   "metadata": {},
   "outputs": [],
   "source": [
    "df = pd.read_csv(\"archive/KAG_conversion_data.csv\")"
   ]
  },
  {
   "cell_type": "markdown",
   "metadata": {},
   "source": [
    "Contenido\n",
    "\n",
    "Los datos utilizados en este proyecto proceden de una campaña publicitaria en redes sociales de una organización anónima. El archivo de datos puede descargarse desde aquí. El archivo conversion_data.csv contiene 1143 observaciones en 11 variables. A continuación se describen las variables.\n",
    "\n",
    "1.) ad_id: un ID único para cada anuncio.\n",
    "\n",
    "2.) xyz_campaign_id: un ID asociado a cada campaña publi\n",
    "\n",
    "3.) fb_campaign_id: un ID asociado a la forma en que Facebook realiza el seguimiento de cada campaña.\n",
    "\n",
    "4.) age: edad de la persona a la que se muestra el anuncio.\n",
    "\n",
    "5.) género: género de la persona a la que se muestra el anuncio.\n",
    "\n",
    "6.) interés: un código que especifica la categoría a la que pertenece el interés de la persona (los intereses son los mencionados en el perfil público de Facebook de la persona).\n",
    "\n",
    "7.) impresiones: el número de veces que se ha mostrado el anuncio.\n",
    "\n",
    "8.) Clics: número de clics en ese anuncio.\n",
    "\n",
    "9.) Gastado: Cantidad pagada por la empresa xyz a Facebook, para mostrar ese anuncio.\n",
    "\n",
    "10.) Conversión total: Número total de personas que preguntaron por el producto después de ver el anuncio.\n",
    "\n",
    "11.) Conversión aprobada: Número total de personas que compraron el producto después de ver el anuncio."
   ]
  },
  {
   "cell_type": "code",
   "execution_count": 45,
   "metadata": {},
   "outputs": [
    {
     "name": "stdout",
     "output_type": "stream",
     "text": [
      "<class 'pandas.core.frame.DataFrame'>\n",
      "RangeIndex: 1143 entries, 0 to 1142\n",
      "Data columns (total 11 columns):\n",
      " #   Column               Non-Null Count  Dtype  \n",
      "---  ------               --------------  -----  \n",
      " 0   ad_id                1143 non-null   int64  \n",
      " 1   xyz_campaign_id      1143 non-null   int64  \n",
      " 2   fb_campaign_id       1143 non-null   int64  \n",
      " 3   age                  1143 non-null   object \n",
      " 4   gender               1143 non-null   object \n",
      " 5   interest             1143 non-null   int64  \n",
      " 6   Impressions          1143 non-null   int64  \n",
      " 7   Clicks               1143 non-null   int64  \n",
      " 8   Spent                1143 non-null   float64\n",
      " 9   Total_Conversion     1143 non-null   int64  \n",
      " 10  Approved_Conversion  1143 non-null   int64  \n",
      "dtypes: float64(1), int64(8), object(2)\n",
      "memory usage: 98.4+ KB\n"
     ]
    }
   ],
   "source": [
    "df.info() #no hay nulos."
   ]
  },
  {
   "cell_type": "code",
   "execution_count": 46,
   "metadata": {},
   "outputs": [
    {
     "data": {
      "text/html": [
       "<div>\n",
       "<style scoped>\n",
       "    .dataframe tbody tr th:only-of-type {\n",
       "        vertical-align: middle;\n",
       "    }\n",
       "\n",
       "    .dataframe tbody tr th {\n",
       "        vertical-align: top;\n",
       "    }\n",
       "\n",
       "    .dataframe thead th {\n",
       "        text-align: right;\n",
       "    }\n",
       "</style>\n",
       "<table border=\"1\" class=\"dataframe\">\n",
       "  <thead>\n",
       "    <tr style=\"text-align: right;\">\n",
       "      <th></th>\n",
       "      <th>xyz_campaign_id</th>\n",
       "      <th>count</th>\n",
       "    </tr>\n",
       "  </thead>\n",
       "  <tbody>\n",
       "    <tr>\n",
       "      <th>0</th>\n",
       "      <td>1178</td>\n",
       "      <td>625</td>\n",
       "    </tr>\n",
       "    <tr>\n",
       "      <th>1</th>\n",
       "      <td>936</td>\n",
       "      <td>464</td>\n",
       "    </tr>\n",
       "    <tr>\n",
       "      <th>2</th>\n",
       "      <td>916</td>\n",
       "      <td>54</td>\n",
       "    </tr>\n",
       "  </tbody>\n",
       "</table>\n",
       "</div>"
      ],
      "text/plain": [
       "   xyz_campaign_id  count\n",
       "0             1178    625\n",
       "1              936    464\n",
       "2              916     54"
      ]
     },
     "execution_count": 46,
     "metadata": {},
     "output_type": "execute_result"
    }
   ],
   "source": [
    "df[\"xyz_campaign_id\"].value_counts().reset_index() # 3 camapañas de diferentes productos o bien campañas del mismo producto pero en diferente tiempo.. ) "
   ]
  },
  {
   "cell_type": "code",
   "execution_count": 47,
   "metadata": {},
   "outputs": [
    {
     "data": {
      "text/plain": [
       "1143"
      ]
     },
     "execution_count": 47,
     "metadata": {},
     "output_type": "execute_result"
    }
   ],
   "source": [
    "len(df[\"ad_id\"].unique()) # 1143 anuncios diferentes"
   ]
  },
  {
   "cell_type": "code",
   "execution_count": 48,
   "metadata": {},
   "outputs": [
    {
     "data": {
      "text/plain": [
       "691"
      ]
     },
     "execution_count": 48,
     "metadata": {},
     "output_type": "execute_result"
    }
   ],
   "source": [
    "len(df[\"fb_campaign_id\"].unique()) #691 tipos de anuncios de facb"
   ]
  },
  {
   "cell_type": "code",
   "execution_count": 49,
   "metadata": {},
   "outputs": [
    {
     "data": {
      "text/html": [
       "<div>\n",
       "<style scoped>\n",
       "    .dataframe tbody tr th:only-of-type {\n",
       "        vertical-align: middle;\n",
       "    }\n",
       "\n",
       "    .dataframe tbody tr th {\n",
       "        vertical-align: top;\n",
       "    }\n",
       "\n",
       "    .dataframe thead th {\n",
       "        text-align: right;\n",
       "    }\n",
       "</style>\n",
       "<table border=\"1\" class=\"dataframe\">\n",
       "  <thead>\n",
       "    <tr style=\"text-align: right;\">\n",
       "      <th></th>\n",
       "      <th>age</th>\n",
       "      <th>count</th>\n",
       "    </tr>\n",
       "  </thead>\n",
       "  <tbody>\n",
       "    <tr>\n",
       "      <th>0</th>\n",
       "      <td>30-34</td>\n",
       "      <td>426</td>\n",
       "    </tr>\n",
       "    <tr>\n",
       "      <th>1</th>\n",
       "      <td>45-49</td>\n",
       "      <td>259</td>\n",
       "    </tr>\n",
       "    <tr>\n",
       "      <th>2</th>\n",
       "      <td>35-39</td>\n",
       "      <td>248</td>\n",
       "    </tr>\n",
       "    <tr>\n",
       "      <th>3</th>\n",
       "      <td>40-44</td>\n",
       "      <td>210</td>\n",
       "    </tr>\n",
       "  </tbody>\n",
       "</table>\n",
       "</div>"
      ],
      "text/plain": [
       "     age  count\n",
       "0  30-34    426\n",
       "1  45-49    259\n",
       "2  35-39    248\n",
       "3  40-44    210"
      ]
     },
     "execution_count": 49,
     "metadata": {},
     "output_type": "execute_result"
    }
   ],
   "source": [
    "#vemos el df normal.\n",
    "df[\"age\"].value_counts().reset_index() #4"
   ]
  },
  {
   "cell_type": "code",
   "execution_count": 50,
   "metadata": {},
   "outputs": [
    {
     "data": {
      "text/html": [
       "<div>\n",
       "<style scoped>\n",
       "    .dataframe tbody tr th:only-of-type {\n",
       "        vertical-align: middle;\n",
       "    }\n",
       "\n",
       "    .dataframe tbody tr th {\n",
       "        vertical-align: top;\n",
       "    }\n",
       "\n",
       "    .dataframe thead th {\n",
       "        text-align: right;\n",
       "    }\n",
       "</style>\n",
       "<table border=\"1\" class=\"dataframe\">\n",
       "  <thead>\n",
       "    <tr style=\"text-align: right;\">\n",
       "      <th></th>\n",
       "      <th>gender</th>\n",
       "      <th>count</th>\n",
       "    </tr>\n",
       "  </thead>\n",
       "  <tbody>\n",
       "    <tr>\n",
       "      <th>0</th>\n",
       "      <td>M</td>\n",
       "      <td>592</td>\n",
       "    </tr>\n",
       "    <tr>\n",
       "      <th>1</th>\n",
       "      <td>F</td>\n",
       "      <td>551</td>\n",
       "    </tr>\n",
       "  </tbody>\n",
       "</table>\n",
       "</div>"
      ],
      "text/plain": [
       "  gender  count\n",
       "0      M    592\n",
       "1      F    551"
      ]
     },
     "execution_count": 50,
     "metadata": {},
     "output_type": "execute_result"
    }
   ],
   "source": [
    "df[\"gender\"].value_counts().reset_index()"
   ]
  },
  {
   "cell_type": "code",
   "execution_count": 51,
   "metadata": {},
   "outputs": [
    {
     "data": {
      "text/plain": [
       "40"
      ]
     },
     "execution_count": 51,
     "metadata": {},
     "output_type": "execute_result"
    }
   ],
   "source": [
    "len(df[\"interest\"].unique()) #hay 40 grupos de intereses que atacan este dataset"
   ]
  },
  {
   "cell_type": "code",
   "execution_count": 52,
   "metadata": {},
   "outputs": [
    {
     "data": {
      "text/html": [
       "<div>\n",
       "<style scoped>\n",
       "    .dataframe tbody tr th:only-of-type {\n",
       "        vertical-align: middle;\n",
       "    }\n",
       "\n",
       "    .dataframe tbody tr th {\n",
       "        vertical-align: top;\n",
       "    }\n",
       "\n",
       "    .dataframe thead th {\n",
       "        text-align: right;\n",
       "    }\n",
       "</style>\n",
       "<table border=\"1\" class=\"dataframe\">\n",
       "  <thead>\n",
       "    <tr style=\"text-align: right;\">\n",
       "      <th></th>\n",
       "      <th>count</th>\n",
       "      <th>mean</th>\n",
       "      <th>std</th>\n",
       "      <th>min</th>\n",
       "      <th>25%</th>\n",
       "      <th>50%</th>\n",
       "      <th>75%</th>\n",
       "      <th>max</th>\n",
       "    </tr>\n",
       "  </thead>\n",
       "  <tbody>\n",
       "    <tr>\n",
       "      <th>ad_id</th>\n",
       "      <td>1143.0</td>\n",
       "      <td>987261.130359</td>\n",
       "      <td>193992.814738</td>\n",
       "      <td>708746.0</td>\n",
       "      <td>777632.50</td>\n",
       "      <td>1121185.00</td>\n",
       "      <td>1121804.500</td>\n",
       "      <td>1.314415e+06</td>\n",
       "    </tr>\n",
       "    <tr>\n",
       "      <th>xyz_campaign_id</th>\n",
       "      <td>1143.0</td>\n",
       "      <td>1067.382327</td>\n",
       "      <td>121.629393</td>\n",
       "      <td>916.0</td>\n",
       "      <td>936.00</td>\n",
       "      <td>1178.00</td>\n",
       "      <td>1178.000</td>\n",
       "      <td>1.178000e+03</td>\n",
       "    </tr>\n",
       "    <tr>\n",
       "      <th>fb_campaign_id</th>\n",
       "      <td>1143.0</td>\n",
       "      <td>133783.989501</td>\n",
       "      <td>20500.308622</td>\n",
       "      <td>103916.0</td>\n",
       "      <td>115716.00</td>\n",
       "      <td>144549.00</td>\n",
       "      <td>144657.500</td>\n",
       "      <td>1.799820e+05</td>\n",
       "    </tr>\n",
       "    <tr>\n",
       "      <th>interest</th>\n",
       "      <td>1143.0</td>\n",
       "      <td>32.766404</td>\n",
       "      <td>26.952131</td>\n",
       "      <td>2.0</td>\n",
       "      <td>16.00</td>\n",
       "      <td>25.00</td>\n",
       "      <td>31.000</td>\n",
       "      <td>1.140000e+02</td>\n",
       "    </tr>\n",
       "    <tr>\n",
       "      <th>Impressions</th>\n",
       "      <td>1143.0</td>\n",
       "      <td>186732.132983</td>\n",
       "      <td>312762.183208</td>\n",
       "      <td>87.0</td>\n",
       "      <td>6503.50</td>\n",
       "      <td>51509.00</td>\n",
       "      <td>221769.000</td>\n",
       "      <td>3.052003e+06</td>\n",
       "    </tr>\n",
       "    <tr>\n",
       "      <th>Clicks</th>\n",
       "      <td>1143.0</td>\n",
       "      <td>33.390201</td>\n",
       "      <td>56.892438</td>\n",
       "      <td>0.0</td>\n",
       "      <td>1.00</td>\n",
       "      <td>8.00</td>\n",
       "      <td>37.500</td>\n",
       "      <td>4.210000e+02</td>\n",
       "    </tr>\n",
       "    <tr>\n",
       "      <th>Spent</th>\n",
       "      <td>1143.0</td>\n",
       "      <td>51.360656</td>\n",
       "      <td>86.908418</td>\n",
       "      <td>0.0</td>\n",
       "      <td>1.48</td>\n",
       "      <td>12.37</td>\n",
       "      <td>60.025</td>\n",
       "      <td>6.399500e+02</td>\n",
       "    </tr>\n",
       "    <tr>\n",
       "      <th>Total_Conversion</th>\n",
       "      <td>1143.0</td>\n",
       "      <td>2.855643</td>\n",
       "      <td>4.483593</td>\n",
       "      <td>0.0</td>\n",
       "      <td>1.00</td>\n",
       "      <td>1.00</td>\n",
       "      <td>3.000</td>\n",
       "      <td>6.000000e+01</td>\n",
       "    </tr>\n",
       "    <tr>\n",
       "      <th>Approved_Conversion</th>\n",
       "      <td>1143.0</td>\n",
       "      <td>0.944007</td>\n",
       "      <td>1.737708</td>\n",
       "      <td>0.0</td>\n",
       "      <td>0.00</td>\n",
       "      <td>1.00</td>\n",
       "      <td>1.000</td>\n",
       "      <td>2.100000e+01</td>\n",
       "    </tr>\n",
       "  </tbody>\n",
       "</table>\n",
       "</div>"
      ],
      "text/plain": [
       "                      count           mean            std       min  \\\n",
       "ad_id                1143.0  987261.130359  193992.814738  708746.0   \n",
       "xyz_campaign_id      1143.0    1067.382327     121.629393     916.0   \n",
       "fb_campaign_id       1143.0  133783.989501   20500.308622  103916.0   \n",
       "interest             1143.0      32.766404      26.952131       2.0   \n",
       "Impressions          1143.0  186732.132983  312762.183208      87.0   \n",
       "Clicks               1143.0      33.390201      56.892438       0.0   \n",
       "Spent                1143.0      51.360656      86.908418       0.0   \n",
       "Total_Conversion     1143.0       2.855643       4.483593       0.0   \n",
       "Approved_Conversion  1143.0       0.944007       1.737708       0.0   \n",
       "\n",
       "                           25%         50%          75%           max  \n",
       "ad_id                777632.50  1121185.00  1121804.500  1.314415e+06  \n",
       "xyz_campaign_id         936.00     1178.00     1178.000  1.178000e+03  \n",
       "fb_campaign_id       115716.00   144549.00   144657.500  1.799820e+05  \n",
       "interest                 16.00       25.00       31.000  1.140000e+02  \n",
       "Impressions            6503.50    51509.00   221769.000  3.052003e+06  \n",
       "Clicks                    1.00        8.00       37.500  4.210000e+02  \n",
       "Spent                     1.48       12.37       60.025  6.399500e+02  \n",
       "Total_Conversion          1.00        1.00        3.000  6.000000e+01  \n",
       "Approved_Conversion       0.00        1.00        1.000  2.100000e+01  "
      ]
     },
     "execution_count": 52,
     "metadata": {},
     "output_type": "execute_result"
    }
   ],
   "source": [
    "df.describe().T"
   ]
  },
  {
   "cell_type": "code",
   "execution_count": 53,
   "metadata": {},
   "outputs": [
    {
     "data": {
      "text/html": [
       "<div>\n",
       "<style scoped>\n",
       "    .dataframe tbody tr th:only-of-type {\n",
       "        vertical-align: middle;\n",
       "    }\n",
       "\n",
       "    .dataframe tbody tr th {\n",
       "        vertical-align: top;\n",
       "    }\n",
       "\n",
       "    .dataframe thead th {\n",
       "        text-align: right;\n",
       "    }\n",
       "</style>\n",
       "<table border=\"1\" class=\"dataframe\">\n",
       "  <thead>\n",
       "    <tr style=\"text-align: right;\">\n",
       "      <th></th>\n",
       "      <th>count</th>\n",
       "      <th>mean</th>\n",
       "      <th>std</th>\n",
       "      <th>min</th>\n",
       "      <th>25%</th>\n",
       "      <th>50%</th>\n",
       "      <th>75%</th>\n",
       "      <th>max</th>\n",
       "    </tr>\n",
       "  </thead>\n",
       "  <tbody>\n",
       "    <tr>\n",
       "      <th>ad_id</th>\n",
       "      <td>680.0</td>\n",
       "      <td>1.033102e+06</td>\n",
       "      <td>149867.883880</td>\n",
       "      <td>708815.0</td>\n",
       "      <td>951237.75</td>\n",
       "      <td>1121378.50</td>\n",
       "      <td>1.121812e+06</td>\n",
       "      <td>1.122313e+06</td>\n",
       "    </tr>\n",
       "    <tr>\n",
       "      <th>xyz_campaign_id</th>\n",
       "      <td>680.0</td>\n",
       "      <td>1.111424e+03</td>\n",
       "      <td>108.612172</td>\n",
       "      <td>916.0</td>\n",
       "      <td>936.00</td>\n",
       "      <td>1178.00</td>\n",
       "      <td>1.178000e+03</td>\n",
       "      <td>1.178000e+03</td>\n",
       "    </tr>\n",
       "    <tr>\n",
       "      <th>fb_campaign_id</th>\n",
       "      <td>680.0</td>\n",
       "      <td>1.365761e+05</td>\n",
       "      <td>13429.952731</td>\n",
       "      <td>103928.0</td>\n",
       "      <td>123633.50</td>\n",
       "      <td>144586.50</td>\n",
       "      <td>1.446590e+05</td>\n",
       "      <td>1.447420e+05</td>\n",
       "    </tr>\n",
       "    <tr>\n",
       "      <th>interest</th>\n",
       "      <td>680.0</td>\n",
       "      <td>2.555000e+01</td>\n",
       "      <td>15.296784</td>\n",
       "      <td>2.0</td>\n",
       "      <td>16.00</td>\n",
       "      <td>22.00</td>\n",
       "      <td>2.900000e+01</td>\n",
       "      <td>6.600000e+01</td>\n",
       "    </tr>\n",
       "    <tr>\n",
       "      <th>Impressions</th>\n",
       "      <td>680.0</td>\n",
       "      <td>2.527927e+05</td>\n",
       "      <td>354816.015624</td>\n",
       "      <td>152.0</td>\n",
       "      <td>24458.75</td>\n",
       "      <td>116687.00</td>\n",
       "      <td>3.215425e+05</td>\n",
       "      <td>3.052003e+06</td>\n",
       "    </tr>\n",
       "    <tr>\n",
       "      <th>Clicks</th>\n",
       "      <td>680.0</td>\n",
       "      <td>4.507500e+01</td>\n",
       "      <td>64.366279</td>\n",
       "      <td>0.0</td>\n",
       "      <td>3.00</td>\n",
       "      <td>20.00</td>\n",
       "      <td>5.525000e+01</td>\n",
       "      <td>4.210000e+02</td>\n",
       "    </tr>\n",
       "    <tr>\n",
       "      <th>Spent</th>\n",
       "      <td>680.0</td>\n",
       "      <td>7.046941e+01</td>\n",
       "      <td>99.044556</td>\n",
       "      <td>0.0</td>\n",
       "      <td>4.76</td>\n",
       "      <td>33.78</td>\n",
       "      <td>8.945250e+01</td>\n",
       "      <td>6.399500e+02</td>\n",
       "    </tr>\n",
       "    <tr>\n",
       "      <th>Total_Conversion</th>\n",
       "      <td>680.0</td>\n",
       "      <td>3.394118e+00</td>\n",
       "      <td>5.043314</td>\n",
       "      <td>0.0</td>\n",
       "      <td>1.00</td>\n",
       "      <td>2.00</td>\n",
       "      <td>4.000000e+00</td>\n",
       "      <td>6.000000e+01</td>\n",
       "    </tr>\n",
       "    <tr>\n",
       "      <th>Approved_Conversion</th>\n",
       "      <td>680.0</td>\n",
       "      <td>1.152941e+00</td>\n",
       "      <td>2.028550</td>\n",
       "      <td>0.0</td>\n",
       "      <td>0.00</td>\n",
       "      <td>1.00</td>\n",
       "      <td>1.000000e+00</td>\n",
       "      <td>2.100000e+01</td>\n",
       "    </tr>\n",
       "  </tbody>\n",
       "</table>\n",
       "</div>"
      ],
      "text/plain": [
       "                     count          mean            std       min        25%  \\\n",
       "ad_id                680.0  1.033102e+06  149867.883880  708815.0  951237.75   \n",
       "xyz_campaign_id      680.0  1.111424e+03     108.612172     916.0     936.00   \n",
       "fb_campaign_id       680.0  1.365761e+05   13429.952731  103928.0  123633.50   \n",
       "interest             680.0  2.555000e+01      15.296784       2.0      16.00   \n",
       "Impressions          680.0  2.527927e+05  354816.015624     152.0   24458.75   \n",
       "Clicks               680.0  4.507500e+01      64.366279       0.0       3.00   \n",
       "Spent                680.0  7.046941e+01      99.044556       0.0       4.76   \n",
       "Total_Conversion     680.0  3.394118e+00       5.043314       0.0       1.00   \n",
       "Approved_Conversion  680.0  1.152941e+00       2.028550       0.0       0.00   \n",
       "\n",
       "                            50%           75%           max  \n",
       "ad_id                1121378.50  1.121812e+06  1.122313e+06  \n",
       "xyz_campaign_id         1178.00  1.178000e+03  1.178000e+03  \n",
       "fb_campaign_id        144586.50  1.446590e+05  1.447420e+05  \n",
       "interest                  22.00  2.900000e+01  6.600000e+01  \n",
       "Impressions           116687.00  3.215425e+05  3.052003e+06  \n",
       "Clicks                    20.00  5.525000e+01  4.210000e+02  \n",
       "Spent                     33.78  8.945250e+01  6.399500e+02  \n",
       "Total_Conversion           2.00  4.000000e+00  6.000000e+01  \n",
       "Approved_Conversion        1.00  1.000000e+00  2.100000e+01  "
      ]
     },
     "execution_count": 53,
     "metadata": {},
     "output_type": "execute_result"
    }
   ],
   "source": [
    "more_1_ad_campaign = df[\"fb_campaign_id\"].value_counts()[df[\"fb_campaign_id\"].value_counts()>1].index.to_list() \n",
    "df[df[\"fb_campaign_id\"].isin(more_1_ad_campaign)].describe().T"
   ]
  },
  {
   "cell_type": "code",
   "execution_count": 54,
   "metadata": {},
   "outputs": [
    {
     "data": {
      "text/html": [
       "<div>\n",
       "<style scoped>\n",
       "    .dataframe tbody tr th:only-of-type {\n",
       "        vertical-align: middle;\n",
       "    }\n",
       "\n",
       "    .dataframe tbody tr th {\n",
       "        vertical-align: top;\n",
       "    }\n",
       "\n",
       "    .dataframe thead th {\n",
       "        text-align: right;\n",
       "    }\n",
       "</style>\n",
       "<table border=\"1\" class=\"dataframe\">\n",
       "  <thead>\n",
       "    <tr style=\"text-align: right;\">\n",
       "      <th></th>\n",
       "      <th>ad_id</th>\n",
       "      <th>xyz_campaign_id</th>\n",
       "      <th>fb_campaign_id</th>\n",
       "      <th>age</th>\n",
       "      <th>gender</th>\n",
       "      <th>interest</th>\n",
       "      <th>Impressions</th>\n",
       "      <th>Clicks</th>\n",
       "      <th>Spent</th>\n",
       "      <th>Total_Conversion</th>\n",
       "      <th>Approved_Conversion</th>\n",
       "    </tr>\n",
       "  </thead>\n",
       "  <tbody>\n",
       "    <tr>\n",
       "      <th>0</th>\n",
       "      <td>708746</td>\n",
       "      <td>916</td>\n",
       "      <td>103916</td>\n",
       "      <td>30-34</td>\n",
       "      <td>M</td>\n",
       "      <td>15</td>\n",
       "      <td>7350</td>\n",
       "      <td>1</td>\n",
       "      <td>1.430000</td>\n",
       "      <td>2</td>\n",
       "      <td>1</td>\n",
       "    </tr>\n",
       "    <tr>\n",
       "      <th>1</th>\n",
       "      <td>708749</td>\n",
       "      <td>916</td>\n",
       "      <td>103917</td>\n",
       "      <td>30-34</td>\n",
       "      <td>M</td>\n",
       "      <td>16</td>\n",
       "      <td>17861</td>\n",
       "      <td>2</td>\n",
       "      <td>1.820000</td>\n",
       "      <td>2</td>\n",
       "      <td>0</td>\n",
       "    </tr>\n",
       "    <tr>\n",
       "      <th>3</th>\n",
       "      <td>708815</td>\n",
       "      <td>916</td>\n",
       "      <td>103928</td>\n",
       "      <td>30-34</td>\n",
       "      <td>M</td>\n",
       "      <td>28</td>\n",
       "      <td>4259</td>\n",
       "      <td>1</td>\n",
       "      <td>1.250000</td>\n",
       "      <td>1</td>\n",
       "      <td>0</td>\n",
       "    </tr>\n",
       "    <tr>\n",
       "      <th>4</th>\n",
       "      <td>708818</td>\n",
       "      <td>916</td>\n",
       "      <td>103928</td>\n",
       "      <td>30-34</td>\n",
       "      <td>M</td>\n",
       "      <td>28</td>\n",
       "      <td>4133</td>\n",
       "      <td>1</td>\n",
       "      <td>1.290000</td>\n",
       "      <td>1</td>\n",
       "      <td>1</td>\n",
       "    </tr>\n",
       "    <tr>\n",
       "      <th>6</th>\n",
       "      <td>708889</td>\n",
       "      <td>916</td>\n",
       "      <td>103940</td>\n",
       "      <td>30-34</td>\n",
       "      <td>M</td>\n",
       "      <td>15</td>\n",
       "      <td>15615</td>\n",
       "      <td>3</td>\n",
       "      <td>4.770000</td>\n",
       "      <td>1</td>\n",
       "      <td>0</td>\n",
       "    </tr>\n",
       "    <tr>\n",
       "      <th>...</th>\n",
       "      <td>...</td>\n",
       "      <td>...</td>\n",
       "      <td>...</td>\n",
       "      <td>...</td>\n",
       "      <td>...</td>\n",
       "      <td>...</td>\n",
       "      <td>...</td>\n",
       "      <td>...</td>\n",
       "      <td>...</td>\n",
       "      <td>...</td>\n",
       "      <td>...</td>\n",
       "    </tr>\n",
       "    <tr>\n",
       "      <th>1138</th>\n",
       "      <td>1314410</td>\n",
       "      <td>1178</td>\n",
       "      <td>179977</td>\n",
       "      <td>45-49</td>\n",
       "      <td>F</td>\n",
       "      <td>109</td>\n",
       "      <td>1129773</td>\n",
       "      <td>252</td>\n",
       "      <td>358.189997</td>\n",
       "      <td>13</td>\n",
       "      <td>2</td>\n",
       "    </tr>\n",
       "    <tr>\n",
       "      <th>1139</th>\n",
       "      <td>1314411</td>\n",
       "      <td>1178</td>\n",
       "      <td>179978</td>\n",
       "      <td>45-49</td>\n",
       "      <td>F</td>\n",
       "      <td>110</td>\n",
       "      <td>637549</td>\n",
       "      <td>120</td>\n",
       "      <td>173.880003</td>\n",
       "      <td>3</td>\n",
       "      <td>0</td>\n",
       "    </tr>\n",
       "    <tr>\n",
       "      <th>1140</th>\n",
       "      <td>1314412</td>\n",
       "      <td>1178</td>\n",
       "      <td>179979</td>\n",
       "      <td>45-49</td>\n",
       "      <td>F</td>\n",
       "      <td>111</td>\n",
       "      <td>151531</td>\n",
       "      <td>28</td>\n",
       "      <td>40.289999</td>\n",
       "      <td>2</td>\n",
       "      <td>0</td>\n",
       "    </tr>\n",
       "    <tr>\n",
       "      <th>1141</th>\n",
       "      <td>1314414</td>\n",
       "      <td>1178</td>\n",
       "      <td>179981</td>\n",
       "      <td>45-49</td>\n",
       "      <td>F</td>\n",
       "      <td>113</td>\n",
       "      <td>790253</td>\n",
       "      <td>135</td>\n",
       "      <td>198.710001</td>\n",
       "      <td>8</td>\n",
       "      <td>2</td>\n",
       "    </tr>\n",
       "    <tr>\n",
       "      <th>1142</th>\n",
       "      <td>1314415</td>\n",
       "      <td>1178</td>\n",
       "      <td>179982</td>\n",
       "      <td>45-49</td>\n",
       "      <td>F</td>\n",
       "      <td>114</td>\n",
       "      <td>513161</td>\n",
       "      <td>114</td>\n",
       "      <td>165.609999</td>\n",
       "      <td>5</td>\n",
       "      <td>2</td>\n",
       "    </tr>\n",
       "  </tbody>\n",
       "</table>\n",
       "<p>939 rows × 11 columns</p>\n",
       "</div>"
      ],
      "text/plain": [
       "        ad_id  xyz_campaign_id  fb_campaign_id    age gender  interest  \\\n",
       "0      708746              916          103916  30-34      M        15   \n",
       "1      708749              916          103917  30-34      M        16   \n",
       "3      708815              916          103928  30-34      M        28   \n",
       "4      708818              916          103928  30-34      M        28   \n",
       "6      708889              916          103940  30-34      M        15   \n",
       "...       ...              ...             ...    ...    ...       ...   \n",
       "1138  1314410             1178          179977  45-49      F       109   \n",
       "1139  1314411             1178          179978  45-49      F       110   \n",
       "1140  1314412             1178          179979  45-49      F       111   \n",
       "1141  1314414             1178          179981  45-49      F       113   \n",
       "1142  1314415             1178          179982  45-49      F       114   \n",
       "\n",
       "      Impressions  Clicks       Spent  Total_Conversion  Approved_Conversion  \n",
       "0            7350       1    1.430000                 2                    1  \n",
       "1           17861       2    1.820000                 2                    0  \n",
       "3            4259       1    1.250000                 1                    0  \n",
       "4            4133       1    1.290000                 1                    1  \n",
       "6           15615       3    4.770000                 1                    0  \n",
       "...           ...     ...         ...               ...                  ...  \n",
       "1138      1129773     252  358.189997                13                    2  \n",
       "1139       637549     120  173.880003                 3                    0  \n",
       "1140       151531      28   40.289999                 2                    0  \n",
       "1141       790253     135  198.710001                 8                    2  \n",
       "1142       513161     114  165.609999                 5                    2  \n",
       "\n",
       "[939 rows x 11 columns]"
      ]
     },
     "execution_count": 54,
     "metadata": {},
     "output_type": "execute_result"
    }
   ],
   "source": [
    "df[~((df[\"Total_Conversion\"] >= 1) & (df[\"Spent\"] == 0))]"
   ]
  },
  {
   "cell_type": "code",
   "execution_count": 55,
   "metadata": {},
   "outputs": [
    {
     "data": {
      "text/html": [
       "<div>\n",
       "<style scoped>\n",
       "    .dataframe tbody tr th:only-of-type {\n",
       "        vertical-align: middle;\n",
       "    }\n",
       "\n",
       "    .dataframe tbody tr th {\n",
       "        vertical-align: top;\n",
       "    }\n",
       "\n",
       "    .dataframe thead th {\n",
       "        text-align: right;\n",
       "    }\n",
       "</style>\n",
       "<table border=\"1\" class=\"dataframe\">\n",
       "  <thead>\n",
       "    <tr style=\"text-align: right;\">\n",
       "      <th></th>\n",
       "      <th>count</th>\n",
       "      <th>mean</th>\n",
       "      <th>std</th>\n",
       "      <th>min</th>\n",
       "      <th>25%</th>\n",
       "      <th>50%</th>\n",
       "      <th>75%</th>\n",
       "      <th>max</th>\n",
       "    </tr>\n",
       "  </thead>\n",
       "  <tbody>\n",
       "    <tr>\n",
       "      <th>ad_id</th>\n",
       "      <td>463.0</td>\n",
       "      <td>919936.131749</td>\n",
       "      <td>228864.106787</td>\n",
       "      <td>708746.0</td>\n",
       "      <td>738642.5</td>\n",
       "      <td>779995.0</td>\n",
       "      <td>1121728.0</td>\n",
       "      <td>1.314415e+06</td>\n",
       "    </tr>\n",
       "    <tr>\n",
       "      <th>xyz_campaign_id</th>\n",
       "      <td>463.0</td>\n",
       "      <td>1002.699784</td>\n",
       "      <td>110.375797</td>\n",
       "      <td>916.0</td>\n",
       "      <td>936.0</td>\n",
       "      <td>936.0</td>\n",
       "      <td>1178.0</td>\n",
       "      <td>1.178000e+03</td>\n",
       "    </tr>\n",
       "    <tr>\n",
       "      <th>fb_campaign_id</th>\n",
       "      <td>463.0</td>\n",
       "      <td>129683.231102</td>\n",
       "      <td>27302.452490</td>\n",
       "      <td>103916.0</td>\n",
       "      <td>109858.0</td>\n",
       "      <td>116123.0</td>\n",
       "      <td>144645.0</td>\n",
       "      <td>1.799820e+05</td>\n",
       "    </tr>\n",
       "    <tr>\n",
       "      <th>interest</th>\n",
       "      <td>463.0</td>\n",
       "      <td>43.365011</td>\n",
       "      <td>35.531442</td>\n",
       "      <td>2.0</td>\n",
       "      <td>19.0</td>\n",
       "      <td>27.0</td>\n",
       "      <td>64.0</td>\n",
       "      <td>1.140000e+02</td>\n",
       "    </tr>\n",
       "    <tr>\n",
       "      <th>Impressions</th>\n",
       "      <td>463.0</td>\n",
       "      <td>89710.140389</td>\n",
       "      <td>202273.266114</td>\n",
       "      <td>87.0</td>\n",
       "      <td>2185.5</td>\n",
       "      <td>8410.0</td>\n",
       "      <td>70845.0</td>\n",
       "      <td>1.357386e+06</td>\n",
       "    </tr>\n",
       "    <tr>\n",
       "      <th>Clicks</th>\n",
       "      <td>463.0</td>\n",
       "      <td>16.228942</td>\n",
       "      <td>37.625914</td>\n",
       "      <td>0.0</td>\n",
       "      <td>0.0</td>\n",
       "      <td>2.0</td>\n",
       "      <td>10.0</td>\n",
       "      <td>2.520000e+02</td>\n",
       "    </tr>\n",
       "    <tr>\n",
       "      <th>Spent</th>\n",
       "      <td>463.0</td>\n",
       "      <td>23.295961</td>\n",
       "      <td>54.091659</td>\n",
       "      <td>0.0</td>\n",
       "      <td>0.0</td>\n",
       "      <td>2.8</td>\n",
       "      <td>15.1</td>\n",
       "      <td>3.581900e+02</td>\n",
       "    </tr>\n",
       "    <tr>\n",
       "      <th>Total_Conversion</th>\n",
       "      <td>463.0</td>\n",
       "      <td>2.064795</td>\n",
       "      <td>3.354927</td>\n",
       "      <td>0.0</td>\n",
       "      <td>1.0</td>\n",
       "      <td>1.0</td>\n",
       "      <td>1.0</td>\n",
       "      <td>3.100000e+01</td>\n",
       "    </tr>\n",
       "    <tr>\n",
       "      <th>Approved_Conversion</th>\n",
       "      <td>463.0</td>\n",
       "      <td>0.637149</td>\n",
       "      <td>1.121456</td>\n",
       "      <td>0.0</td>\n",
       "      <td>0.0</td>\n",
       "      <td>0.0</td>\n",
       "      <td>1.0</td>\n",
       "      <td>1.000000e+01</td>\n",
       "    </tr>\n",
       "  </tbody>\n",
       "</table>\n",
       "</div>"
      ],
      "text/plain": [
       "                     count           mean            std       min       25%  \\\n",
       "ad_id                463.0  919936.131749  228864.106787  708746.0  738642.5   \n",
       "xyz_campaign_id      463.0    1002.699784     110.375797     916.0     936.0   \n",
       "fb_campaign_id       463.0  129683.231102   27302.452490  103916.0  109858.0   \n",
       "interest             463.0      43.365011      35.531442       2.0      19.0   \n",
       "Impressions          463.0   89710.140389  202273.266114      87.0    2185.5   \n",
       "Clicks               463.0      16.228942      37.625914       0.0       0.0   \n",
       "Spent                463.0      23.295961      54.091659       0.0       0.0   \n",
       "Total_Conversion     463.0       2.064795       3.354927       0.0       1.0   \n",
       "Approved_Conversion  463.0       0.637149       1.121456       0.0       0.0   \n",
       "\n",
       "                          50%        75%           max  \n",
       "ad_id                779995.0  1121728.0  1.314415e+06  \n",
       "xyz_campaign_id         936.0     1178.0  1.178000e+03  \n",
       "fb_campaign_id       116123.0   144645.0  1.799820e+05  \n",
       "interest                 27.0       64.0  1.140000e+02  \n",
       "Impressions            8410.0    70845.0  1.357386e+06  \n",
       "Clicks                    2.0       10.0  2.520000e+02  \n",
       "Spent                     2.8       15.1  3.581900e+02  \n",
       "Total_Conversion          1.0        1.0  3.100000e+01  \n",
       "Approved_Conversion       0.0        1.0  1.000000e+01  "
      ]
     },
     "execution_count": 55,
     "metadata": {},
     "output_type": "execute_result"
    }
   ],
   "source": [
    "df[~df[\"fb_campaign_id\"].isin(more_1_ad_campaign)].describe().T"
   ]
  },
  {
   "cell_type": "code",
   "execution_count": 56,
   "metadata": {},
   "outputs": [],
   "source": [
    "# de los 3 describe: no se puede ver la comparativa entre las campañas de fb si no hacemos feauture engeneering \n",
    "\n",
    "# Coste por click cada mil impresiones --> (Spent / impression) * 1000\n",
    "# CTR --> (Clicks/impresiones)\n",
    "# Coste por lead (conversion) --> Spent / Total_Conversion\n",
    "# Coste por venta --> Spent/Approved_Conversion\n",
    "# Tasa de clicks --> clicks/Impressions\n",
    "# Porcentaje de Total_Conversion en base a Spent   -->  Spent/Total_conversion\n",
    "# porcentaje de Total_Conversion en base a Clicks  --> TOtal_Conversion / Clicks \n",
    "# Tasa conversion aprovada--> Approved_Conversion / Clicks\n",
    "# Porcentaje de Approved_Conversion en base a Total_Conversion --> Approved_Conversion/ Total_Conversion\n",
    "\n",
    "# en el df normal, vemos que hay anuncios con 0€ gasto, lo cual no tiene mucho sentido A PRIORI. ¿Habrá clicks con 0 € de gasto? si es así el dato está contaminado y deberemos actuar conforme creamos:\n",
    "# eliminar registro o poner un valor adecuado.\n",
    "\n",
    "#posteriormente para hacer recomendaciones hay dos puntos a tener en cuentas. Sabemos que hay 3 campañas. \n",
    "# Si son campañas que anuncian productos muy diferentes no se puede hacer recomendaciones basadas en todo el dataset si no sus propias camp para optimizarlos. Deberíamos tener esto en cuenta si queremos generalizar una optimizacion.\n",
    "# si son campañas que estas promocionando productos similares si podemos hacer la comparativa.\n",
    "\n",
    "# en cualquier caso si debemos saber que lo mas importante son el publico donde va dirigido (intereses y edad) ya que hay que hacer optimizaciones en base a cada publico, eso debería ser lo ideal. Habrías que ver métricass "
   ]
  },
  {
   "cell_type": "code",
   "execution_count": 57,
   "metadata": {},
   "outputs": [
    {
     "data": {
      "text/html": [
       "<div>\n",
       "<style scoped>\n",
       "    .dataframe tbody tr th:only-of-type {\n",
       "        vertical-align: middle;\n",
       "    }\n",
       "\n",
       "    .dataframe tbody tr th {\n",
       "        vertical-align: top;\n",
       "    }\n",
       "\n",
       "    .dataframe thead th {\n",
       "        text-align: right;\n",
       "    }\n",
       "</style>\n",
       "<table border=\"1\" class=\"dataframe\">\n",
       "  <thead>\n",
       "    <tr style=\"text-align: right;\">\n",
       "      <th></th>\n",
       "      <th>ad_id</th>\n",
       "      <th>xyz_campaign_id</th>\n",
       "      <th>fb_campaign_id</th>\n",
       "      <th>age</th>\n",
       "      <th>gender</th>\n",
       "      <th>interest</th>\n",
       "      <th>Impressions</th>\n",
       "      <th>Clicks</th>\n",
       "      <th>Spent</th>\n",
       "      <th>Total_Conversion</th>\n",
       "      <th>Approved_Conversion</th>\n",
       "    </tr>\n",
       "  </thead>\n",
       "  <tbody>\n",
       "    <tr>\n",
       "      <th>0</th>\n",
       "      <td>708746</td>\n",
       "      <td>916</td>\n",
       "      <td>103916</td>\n",
       "      <td>30-34</td>\n",
       "      <td>M</td>\n",
       "      <td>15</td>\n",
       "      <td>7350</td>\n",
       "      <td>1</td>\n",
       "      <td>1.43</td>\n",
       "      <td>2</td>\n",
       "      <td>1</td>\n",
       "    </tr>\n",
       "    <tr>\n",
       "      <th>1</th>\n",
       "      <td>708749</td>\n",
       "      <td>916</td>\n",
       "      <td>103917</td>\n",
       "      <td>30-34</td>\n",
       "      <td>M</td>\n",
       "      <td>16</td>\n",
       "      <td>17861</td>\n",
       "      <td>2</td>\n",
       "      <td>1.82</td>\n",
       "      <td>2</td>\n",
       "      <td>0</td>\n",
       "    </tr>\n",
       "    <tr>\n",
       "      <th>2</th>\n",
       "      <td>708771</td>\n",
       "      <td>916</td>\n",
       "      <td>103920</td>\n",
       "      <td>30-34</td>\n",
       "      <td>M</td>\n",
       "      <td>20</td>\n",
       "      <td>693</td>\n",
       "      <td>0</td>\n",
       "      <td>0.00</td>\n",
       "      <td>1</td>\n",
       "      <td>0</td>\n",
       "    </tr>\n",
       "    <tr>\n",
       "      <th>3</th>\n",
       "      <td>708815</td>\n",
       "      <td>916</td>\n",
       "      <td>103928</td>\n",
       "      <td>30-34</td>\n",
       "      <td>M</td>\n",
       "      <td>28</td>\n",
       "      <td>4259</td>\n",
       "      <td>1</td>\n",
       "      <td>1.25</td>\n",
       "      <td>1</td>\n",
       "      <td>0</td>\n",
       "    </tr>\n",
       "    <tr>\n",
       "      <th>4</th>\n",
       "      <td>708818</td>\n",
       "      <td>916</td>\n",
       "      <td>103928</td>\n",
       "      <td>30-34</td>\n",
       "      <td>M</td>\n",
       "      <td>28</td>\n",
       "      <td>4133</td>\n",
       "      <td>1</td>\n",
       "      <td>1.29</td>\n",
       "      <td>1</td>\n",
       "      <td>1</td>\n",
       "    </tr>\n",
       "    <tr>\n",
       "      <th>5</th>\n",
       "      <td>708820</td>\n",
       "      <td>916</td>\n",
       "      <td>103929</td>\n",
       "      <td>30-34</td>\n",
       "      <td>M</td>\n",
       "      <td>29</td>\n",
       "      <td>1915</td>\n",
       "      <td>0</td>\n",
       "      <td>0.00</td>\n",
       "      <td>1</td>\n",
       "      <td>1</td>\n",
       "    </tr>\n",
       "    <tr>\n",
       "      <th>6</th>\n",
       "      <td>708889</td>\n",
       "      <td>916</td>\n",
       "      <td>103940</td>\n",
       "      <td>30-34</td>\n",
       "      <td>M</td>\n",
       "      <td>15</td>\n",
       "      <td>15615</td>\n",
       "      <td>3</td>\n",
       "      <td>4.77</td>\n",
       "      <td>1</td>\n",
       "      <td>0</td>\n",
       "    </tr>\n",
       "    <tr>\n",
       "      <th>7</th>\n",
       "      <td>708895</td>\n",
       "      <td>916</td>\n",
       "      <td>103941</td>\n",
       "      <td>30-34</td>\n",
       "      <td>M</td>\n",
       "      <td>16</td>\n",
       "      <td>10951</td>\n",
       "      <td>1</td>\n",
       "      <td>1.27</td>\n",
       "      <td>1</td>\n",
       "      <td>1</td>\n",
       "    </tr>\n",
       "    <tr>\n",
       "      <th>8</th>\n",
       "      <td>708953</td>\n",
       "      <td>916</td>\n",
       "      <td>103951</td>\n",
       "      <td>30-34</td>\n",
       "      <td>M</td>\n",
       "      <td>27</td>\n",
       "      <td>2355</td>\n",
       "      <td>1</td>\n",
       "      <td>1.50</td>\n",
       "      <td>1</td>\n",
       "      <td>0</td>\n",
       "    </tr>\n",
       "    <tr>\n",
       "      <th>9</th>\n",
       "      <td>708958</td>\n",
       "      <td>916</td>\n",
       "      <td>103952</td>\n",
       "      <td>30-34</td>\n",
       "      <td>M</td>\n",
       "      <td>28</td>\n",
       "      <td>9502</td>\n",
       "      <td>3</td>\n",
       "      <td>3.16</td>\n",
       "      <td>1</td>\n",
       "      <td>0</td>\n",
       "    </tr>\n",
       "  </tbody>\n",
       "</table>\n",
       "</div>"
      ],
      "text/plain": [
       "    ad_id  xyz_campaign_id  fb_campaign_id    age gender  interest  \\\n",
       "0  708746              916          103916  30-34      M        15   \n",
       "1  708749              916          103917  30-34      M        16   \n",
       "2  708771              916          103920  30-34      M        20   \n",
       "3  708815              916          103928  30-34      M        28   \n",
       "4  708818              916          103928  30-34      M        28   \n",
       "5  708820              916          103929  30-34      M        29   \n",
       "6  708889              916          103940  30-34      M        15   \n",
       "7  708895              916          103941  30-34      M        16   \n",
       "8  708953              916          103951  30-34      M        27   \n",
       "9  708958              916          103952  30-34      M        28   \n",
       "\n",
       "   Impressions  Clicks  Spent  Total_Conversion  Approved_Conversion  \n",
       "0         7350       1   1.43                 2                    1  \n",
       "1        17861       2   1.82                 2                    0  \n",
       "2          693       0   0.00                 1                    0  \n",
       "3         4259       1   1.25                 1                    0  \n",
       "4         4133       1   1.29                 1                    1  \n",
       "5         1915       0   0.00                 1                    1  \n",
       "6        15615       3   4.77                 1                    0  \n",
       "7        10951       1   1.27                 1                    1  \n",
       "8         2355       1   1.50                 1                    0  \n",
       "9         9502       3   3.16                 1                    0  "
      ]
     },
     "execution_count": 57,
     "metadata": {},
     "output_type": "execute_result"
    }
   ],
   "source": [
    "df.head(10)"
   ]
  },
  {
   "cell_type": "code",
   "execution_count": 58,
   "metadata": {},
   "outputs": [
    {
     "data": {
      "text/html": [
       "<div>\n",
       "<style scoped>\n",
       "    .dataframe tbody tr th:only-of-type {\n",
       "        vertical-align: middle;\n",
       "    }\n",
       "\n",
       "    .dataframe tbody tr th {\n",
       "        vertical-align: top;\n",
       "    }\n",
       "\n",
       "    .dataframe thead th {\n",
       "        text-align: right;\n",
       "    }\n",
       "</style>\n",
       "<table border=\"1\" class=\"dataframe\">\n",
       "  <thead>\n",
       "    <tr style=\"text-align: right;\">\n",
       "      <th></th>\n",
       "      <th>ad_id</th>\n",
       "      <th>xyz_campaign_id</th>\n",
       "      <th>fb_campaign_id</th>\n",
       "      <th>age</th>\n",
       "      <th>gender</th>\n",
       "      <th>interest</th>\n",
       "      <th>Impressions</th>\n",
       "      <th>Clicks</th>\n",
       "      <th>Spent</th>\n",
       "      <th>Total_Conversion</th>\n",
       "      <th>Approved_Conversion</th>\n",
       "    </tr>\n",
       "  </thead>\n",
       "  <tbody>\n",
       "    <tr>\n",
       "      <th>11</th>\n",
       "      <td>709023</td>\n",
       "      <td>916</td>\n",
       "      <td>103962</td>\n",
       "      <td>30-34</td>\n",
       "      <td>M</td>\n",
       "      <td>7</td>\n",
       "      <td>735</td>\n",
       "      <td>0</td>\n",
       "      <td>0.00</td>\n",
       "      <td>1</td>\n",
       "      <td>0</td>\n",
       "    </tr>\n",
       "    <tr>\n",
       "      <th>0</th>\n",
       "      <td>708746</td>\n",
       "      <td>916</td>\n",
       "      <td>103916</td>\n",
       "      <td>30-34</td>\n",
       "      <td>M</td>\n",
       "      <td>15</td>\n",
       "      <td>7350</td>\n",
       "      <td>1</td>\n",
       "      <td>1.43</td>\n",
       "      <td>2</td>\n",
       "      <td>1</td>\n",
       "    </tr>\n",
       "    <tr>\n",
       "      <th>6</th>\n",
       "      <td>708889</td>\n",
       "      <td>916</td>\n",
       "      <td>103940</td>\n",
       "      <td>30-34</td>\n",
       "      <td>M</td>\n",
       "      <td>15</td>\n",
       "      <td>15615</td>\n",
       "      <td>3</td>\n",
       "      <td>4.77</td>\n",
       "      <td>1</td>\n",
       "      <td>0</td>\n",
       "    </tr>\n",
       "    <tr>\n",
       "      <th>7</th>\n",
       "      <td>708895</td>\n",
       "      <td>916</td>\n",
       "      <td>103941</td>\n",
       "      <td>30-34</td>\n",
       "      <td>M</td>\n",
       "      <td>16</td>\n",
       "      <td>10951</td>\n",
       "      <td>1</td>\n",
       "      <td>1.27</td>\n",
       "      <td>1</td>\n",
       "      <td>1</td>\n",
       "    </tr>\n",
       "    <tr>\n",
       "      <th>12</th>\n",
       "      <td>709038</td>\n",
       "      <td>916</td>\n",
       "      <td>103965</td>\n",
       "      <td>30-34</td>\n",
       "      <td>M</td>\n",
       "      <td>16</td>\n",
       "      <td>5117</td>\n",
       "      <td>0</td>\n",
       "      <td>0.00</td>\n",
       "      <td>1</td>\n",
       "      <td>0</td>\n",
       "    </tr>\n",
       "    <tr>\n",
       "      <th>13</th>\n",
       "      <td>709040</td>\n",
       "      <td>916</td>\n",
       "      <td>103965</td>\n",
       "      <td>30-34</td>\n",
       "      <td>M</td>\n",
       "      <td>16</td>\n",
       "      <td>5120</td>\n",
       "      <td>0</td>\n",
       "      <td>0.00</td>\n",
       "      <td>1</td>\n",
       "      <td>0</td>\n",
       "    </tr>\n",
       "    <tr>\n",
       "      <th>1</th>\n",
       "      <td>708749</td>\n",
       "      <td>916</td>\n",
       "      <td>103917</td>\n",
       "      <td>30-34</td>\n",
       "      <td>M</td>\n",
       "      <td>16</td>\n",
       "      <td>17861</td>\n",
       "      <td>2</td>\n",
       "      <td>1.82</td>\n",
       "      <td>2</td>\n",
       "      <td>0</td>\n",
       "    </tr>\n",
       "    <tr>\n",
       "      <th>2</th>\n",
       "      <td>708771</td>\n",
       "      <td>916</td>\n",
       "      <td>103920</td>\n",
       "      <td>30-34</td>\n",
       "      <td>M</td>\n",
       "      <td>20</td>\n",
       "      <td>693</td>\n",
       "      <td>0</td>\n",
       "      <td>0.00</td>\n",
       "      <td>1</td>\n",
       "      <td>0</td>\n",
       "    </tr>\n",
       "    <tr>\n",
       "      <th>14</th>\n",
       "      <td>709059</td>\n",
       "      <td>916</td>\n",
       "      <td>103968</td>\n",
       "      <td>30-34</td>\n",
       "      <td>M</td>\n",
       "      <td>20</td>\n",
       "      <td>14669</td>\n",
       "      <td>7</td>\n",
       "      <td>10.28</td>\n",
       "      <td>1</td>\n",
       "      <td>1</td>\n",
       "    </tr>\n",
       "    <tr>\n",
       "      <th>8</th>\n",
       "      <td>708953</td>\n",
       "      <td>916</td>\n",
       "      <td>103951</td>\n",
       "      <td>30-34</td>\n",
       "      <td>M</td>\n",
       "      <td>27</td>\n",
       "      <td>2355</td>\n",
       "      <td>1</td>\n",
       "      <td>1.50</td>\n",
       "      <td>1</td>\n",
       "      <td>0</td>\n",
       "    </tr>\n",
       "    <tr>\n",
       "      <th>3</th>\n",
       "      <td>708815</td>\n",
       "      <td>916</td>\n",
       "      <td>103928</td>\n",
       "      <td>30-34</td>\n",
       "      <td>M</td>\n",
       "      <td>28</td>\n",
       "      <td>4259</td>\n",
       "      <td>1</td>\n",
       "      <td>1.25</td>\n",
       "      <td>1</td>\n",
       "      <td>0</td>\n",
       "    </tr>\n",
       "    <tr>\n",
       "      <th>4</th>\n",
       "      <td>708818</td>\n",
       "      <td>916</td>\n",
       "      <td>103928</td>\n",
       "      <td>30-34</td>\n",
       "      <td>M</td>\n",
       "      <td>28</td>\n",
       "      <td>4133</td>\n",
       "      <td>1</td>\n",
       "      <td>1.29</td>\n",
       "      <td>1</td>\n",
       "      <td>1</td>\n",
       "    </tr>\n",
       "    <tr>\n",
       "      <th>15</th>\n",
       "      <td>709105</td>\n",
       "      <td>916</td>\n",
       "      <td>103976</td>\n",
       "      <td>30-34</td>\n",
       "      <td>M</td>\n",
       "      <td>28</td>\n",
       "      <td>1241</td>\n",
       "      <td>0</td>\n",
       "      <td>0.00</td>\n",
       "      <td>1</td>\n",
       "      <td>1</td>\n",
       "    </tr>\n",
       "    <tr>\n",
       "      <th>9</th>\n",
       "      <td>708958</td>\n",
       "      <td>916</td>\n",
       "      <td>103952</td>\n",
       "      <td>30-34</td>\n",
       "      <td>M</td>\n",
       "      <td>28</td>\n",
       "      <td>9502</td>\n",
       "      <td>3</td>\n",
       "      <td>3.16</td>\n",
       "      <td>1</td>\n",
       "      <td>0</td>\n",
       "    </tr>\n",
       "    <tr>\n",
       "      <th>5</th>\n",
       "      <td>708820</td>\n",
       "      <td>916</td>\n",
       "      <td>103929</td>\n",
       "      <td>30-34</td>\n",
       "      <td>M</td>\n",
       "      <td>29</td>\n",
       "      <td>1915</td>\n",
       "      <td>0</td>\n",
       "      <td>0.00</td>\n",
       "      <td>1</td>\n",
       "      <td>1</td>\n",
       "    </tr>\n",
       "    <tr>\n",
       "      <th>16</th>\n",
       "      <td>709115</td>\n",
       "      <td>916</td>\n",
       "      <td>103978</td>\n",
       "      <td>30-34</td>\n",
       "      <td>M</td>\n",
       "      <td>30</td>\n",
       "      <td>2305</td>\n",
       "      <td>1</td>\n",
       "      <td>0.57</td>\n",
       "      <td>1</td>\n",
       "      <td>0</td>\n",
       "    </tr>\n",
       "    <tr>\n",
       "      <th>10</th>\n",
       "      <td>708979</td>\n",
       "      <td>916</td>\n",
       "      <td>103955</td>\n",
       "      <td>30-34</td>\n",
       "      <td>M</td>\n",
       "      <td>31</td>\n",
       "      <td>1224</td>\n",
       "      <td>0</td>\n",
       "      <td>0.00</td>\n",
       "      <td>1</td>\n",
       "      <td>0</td>\n",
       "    </tr>\n",
       "    <tr>\n",
       "      <th>17</th>\n",
       "      <td>709124</td>\n",
       "      <td>916</td>\n",
       "      <td>103979</td>\n",
       "      <td>30-34</td>\n",
       "      <td>M</td>\n",
       "      <td>31</td>\n",
       "      <td>1024</td>\n",
       "      <td>0</td>\n",
       "      <td>0.00</td>\n",
       "      <td>1</td>\n",
       "      <td>1</td>\n",
       "    </tr>\n",
       "  </tbody>\n",
       "</table>\n",
       "</div>"
      ],
      "text/plain": [
       "     ad_id  xyz_campaign_id  fb_campaign_id    age gender  interest  \\\n",
       "11  709023              916          103962  30-34      M         7   \n",
       "0   708746              916          103916  30-34      M        15   \n",
       "6   708889              916          103940  30-34      M        15   \n",
       "7   708895              916          103941  30-34      M        16   \n",
       "12  709038              916          103965  30-34      M        16   \n",
       "13  709040              916          103965  30-34      M        16   \n",
       "1   708749              916          103917  30-34      M        16   \n",
       "2   708771              916          103920  30-34      M        20   \n",
       "14  709059              916          103968  30-34      M        20   \n",
       "8   708953              916          103951  30-34      M        27   \n",
       "3   708815              916          103928  30-34      M        28   \n",
       "4   708818              916          103928  30-34      M        28   \n",
       "15  709105              916          103976  30-34      M        28   \n",
       "9   708958              916          103952  30-34      M        28   \n",
       "5   708820              916          103929  30-34      M        29   \n",
       "16  709115              916          103978  30-34      M        30   \n",
       "10  708979              916          103955  30-34      M        31   \n",
       "17  709124              916          103979  30-34      M        31   \n",
       "\n",
       "    Impressions  Clicks  Spent  Total_Conversion  Approved_Conversion  \n",
       "11          735       0   0.00                 1                    0  \n",
       "0          7350       1   1.43                 2                    1  \n",
       "6         15615       3   4.77                 1                    0  \n",
       "7         10951       1   1.27                 1                    1  \n",
       "12         5117       0   0.00                 1                    0  \n",
       "13         5120       0   0.00                 1                    0  \n",
       "1         17861       2   1.82                 2                    0  \n",
       "2           693       0   0.00                 1                    0  \n",
       "14        14669       7  10.28                 1                    1  \n",
       "8          2355       1   1.50                 1                    0  \n",
       "3          4259       1   1.25                 1                    0  \n",
       "4          4133       1   1.29                 1                    1  \n",
       "15         1241       0   0.00                 1                    1  \n",
       "9          9502       3   3.16                 1                    0  \n",
       "5          1915       0   0.00                 1                    1  \n",
       "16         2305       1   0.57                 1                    0  \n",
       "10         1224       0   0.00                 1                    0  \n",
       "17         1024       0   0.00                 1                    1  "
      ]
     },
     "execution_count": 58,
     "metadata": {},
     "output_type": "execute_result"
    }
   ],
   "source": [
    "# ¿entender datos?\n",
    "df[(df[\"xyz_campaign_id\"] == 916) & (df[\"age\"] == \"30-34\") & (df[\"gender\"] == \"M\")].sort_values(by='interest')\n",
    "#no se entiende que haya a veces diferentes anuncios con distintito identificador para personas con mismos intereses y iguales caracteristicas.(15,20,28,31).\n",
    "# Podemos suponer que pueden ser lanzadas en diferentes dias o tiempo. Diferente objetivo: Campaña de marca vs comercial, etc. Puede ser que  haya alguna egmentación adicional no visible.\n"
   ]
  },
  {
   "cell_type": "code",
   "execution_count": 59,
   "metadata": {},
   "outputs": [
    {
     "data": {
      "text/html": [
       "<div>\n",
       "<style scoped>\n",
       "    .dataframe tbody tr th:only-of-type {\n",
       "        vertical-align: middle;\n",
       "    }\n",
       "\n",
       "    .dataframe tbody tr th {\n",
       "        vertical-align: top;\n",
       "    }\n",
       "\n",
       "    .dataframe thead th {\n",
       "        text-align: right;\n",
       "    }\n",
       "</style>\n",
       "<table border=\"1\" class=\"dataframe\">\n",
       "  <thead>\n",
       "    <tr style=\"text-align: right;\">\n",
       "      <th></th>\n",
       "      <th>ad_id</th>\n",
       "      <th>xyz_campaign_id</th>\n",
       "      <th>fb_campaign_id</th>\n",
       "      <th>age</th>\n",
       "      <th>gender</th>\n",
       "      <th>interest</th>\n",
       "      <th>Impressions</th>\n",
       "      <th>Clicks</th>\n",
       "      <th>Spent</th>\n",
       "      <th>Total_Conversion</th>\n",
       "      <th>Approved_Conversion</th>\n",
       "    </tr>\n",
       "  </thead>\n",
       "  <tbody>\n",
       "  </tbody>\n",
       "</table>\n",
       "</div>"
      ],
      "text/plain": [
       "Empty DataFrame\n",
       "Columns: [ad_id, xyz_campaign_id, fb_campaign_id, age, gender, interest, Impressions, Clicks, Spent, Total_Conversion, Approved_Conversion]\n",
       "Index: []"
      ]
     },
     "execution_count": 59,
     "metadata": {},
     "output_type": "execute_result"
    }
   ],
   "source": [
    "# Total_Conversion == 1 y 0 segun el gasto.  \n",
    "# integridad de los datos entre gasto y clicks correcta\n",
    "\n",
    "df[(df[\"Spent\"] == 0) & (df[\"Clicks\"] != 0)]\n"
   ]
  },
  {
   "cell_type": "code",
   "execution_count": 60,
   "metadata": {},
   "outputs": [
    {
     "data": {
      "text/html": [
       "<div>\n",
       "<style scoped>\n",
       "    .dataframe tbody tr th:only-of-type {\n",
       "        vertical-align: middle;\n",
       "    }\n",
       "\n",
       "    .dataframe tbody tr th {\n",
       "        vertical-align: top;\n",
       "    }\n",
       "\n",
       "    .dataframe thead th {\n",
       "        text-align: right;\n",
       "    }\n",
       "</style>\n",
       "<table border=\"1\" class=\"dataframe\">\n",
       "  <thead>\n",
       "    <tr style=\"text-align: right;\">\n",
       "      <th></th>\n",
       "      <th>ad_id</th>\n",
       "      <th>xyz_campaign_id</th>\n",
       "      <th>fb_campaign_id</th>\n",
       "      <th>age</th>\n",
       "      <th>gender</th>\n",
       "      <th>interest</th>\n",
       "      <th>Impressions</th>\n",
       "      <th>Clicks</th>\n",
       "      <th>Spent</th>\n",
       "      <th>Total_Conversion</th>\n",
       "      <th>Approved_Conversion</th>\n",
       "    </tr>\n",
       "  </thead>\n",
       "  <tbody>\n",
       "  </tbody>\n",
       "</table>\n",
       "</div>"
      ],
      "text/plain": [
       "Empty DataFrame\n",
       "Columns: [ad_id, xyz_campaign_id, fb_campaign_id, age, gender, interest, Impressions, Clicks, Spent, Total_Conversion, Approved_Conversion]\n",
       "Index: []"
      ]
     },
     "execution_count": 60,
     "metadata": {},
     "output_type": "execute_result"
    }
   ],
   "source": [
    "# integridad de los datos entre Total_Conversion y Approved_Conversion correcta\n",
    "\n",
    "df[(df[\"Total_Conversion\"] == 0) & (df[\"Approved_Conversion\"] != 0)]"
   ]
  },
  {
   "cell_type": "code",
   "execution_count": 61,
   "metadata": {},
   "outputs": [
    {
     "data": {
      "text/html": [
       "<div>\n",
       "<style scoped>\n",
       "    .dataframe tbody tr th:only-of-type {\n",
       "        vertical-align: middle;\n",
       "    }\n",
       "\n",
       "    .dataframe tbody tr th {\n",
       "        vertical-align: top;\n",
       "    }\n",
       "\n",
       "    .dataframe thead th {\n",
       "        text-align: right;\n",
       "    }\n",
       "</style>\n",
       "<table border=\"1\" class=\"dataframe\">\n",
       "  <thead>\n",
       "    <tr style=\"text-align: right;\">\n",
       "      <th></th>\n",
       "      <th>ad_id</th>\n",
       "      <th>xyz_campaign_id</th>\n",
       "      <th>fb_campaign_id</th>\n",
       "      <th>age</th>\n",
       "      <th>gender</th>\n",
       "      <th>interest</th>\n",
       "      <th>Impressions</th>\n",
       "      <th>Clicks</th>\n",
       "      <th>Spent</th>\n",
       "      <th>Total_Conversion</th>\n",
       "      <th>Approved_Conversion</th>\n",
       "    </tr>\n",
       "  </thead>\n",
       "  <tbody>\n",
       "    <tr>\n",
       "      <th>95</th>\n",
       "      <td>735033</td>\n",
       "      <td>936</td>\n",
       "      <td>108792</td>\n",
       "      <td>35-39</td>\n",
       "      <td>F</td>\n",
       "      <td>36</td>\n",
       "      <td>652</td>\n",
       "      <td>0</td>\n",
       "      <td>0.000000</td>\n",
       "      <td>0</td>\n",
       "      <td>0</td>\n",
       "    </tr>\n",
       "    <tr>\n",
       "      <th>184</th>\n",
       "      <td>747968</td>\n",
       "      <td>936</td>\n",
       "      <td>110962</td>\n",
       "      <td>35-39</td>\n",
       "      <td>F</td>\n",
       "      <td>21</td>\n",
       "      <td>512</td>\n",
       "      <td>0</td>\n",
       "      <td>0.000000</td>\n",
       "      <td>0</td>\n",
       "      <td>0</td>\n",
       "    </tr>\n",
       "    <tr>\n",
       "      <th>221</th>\n",
       "      <td>776476</td>\n",
       "      <td>936</td>\n",
       "      <td>115510</td>\n",
       "      <td>30-34</td>\n",
       "      <td>M</td>\n",
       "      <td>16</td>\n",
       "      <td>43756</td>\n",
       "      <td>5</td>\n",
       "      <td>5.440000</td>\n",
       "      <td>0</td>\n",
       "      <td>0</td>\n",
       "    </tr>\n",
       "    <tr>\n",
       "      <th>510</th>\n",
       "      <td>951853</td>\n",
       "      <td>936</td>\n",
       "      <td>123736</td>\n",
       "      <td>30-34</td>\n",
       "      <td>F</td>\n",
       "      <td>20</td>\n",
       "      <td>529</td>\n",
       "      <td>0</td>\n",
       "      <td>0.000000</td>\n",
       "      <td>0</td>\n",
       "      <td>0</td>\n",
       "    </tr>\n",
       "    <tr>\n",
       "      <th>655</th>\n",
       "      <td>1121352</td>\n",
       "      <td>1178</td>\n",
       "      <td>144582</td>\n",
       "      <td>35-39</td>\n",
       "      <td>M</td>\n",
       "      <td>25</td>\n",
       "      <td>368986</td>\n",
       "      <td>59</td>\n",
       "      <td>100.289999</td>\n",
       "      <td>0</td>\n",
       "      <td>0</td>\n",
       "    </tr>\n",
       "    <tr>\n",
       "      <th>866</th>\n",
       "      <td>1121820</td>\n",
       "      <td>1178</td>\n",
       "      <td>144660</td>\n",
       "      <td>30-34</td>\n",
       "      <td>F</td>\n",
       "      <td>28</td>\n",
       "      <td>11471</td>\n",
       "      <td>1</td>\n",
       "      <td>1.570000</td>\n",
       "      <td>0</td>\n",
       "      <td>0</td>\n",
       "    </tr>\n",
       "    <tr>\n",
       "      <th>981</th>\n",
       "      <td>1122146</td>\n",
       "      <td>1178</td>\n",
       "      <td>144714</td>\n",
       "      <td>40-44</td>\n",
       "      <td>F</td>\n",
       "      <td>32</td>\n",
       "      <td>319501</td>\n",
       "      <td>79</td>\n",
       "      <td>111.650000</td>\n",
       "      <td>0</td>\n",
       "      <td>0</td>\n",
       "    </tr>\n",
       "    <tr>\n",
       "      <th>990</th>\n",
       "      <td>1122182</td>\n",
       "      <td>1178</td>\n",
       "      <td>144720</td>\n",
       "      <td>40-44</td>\n",
       "      <td>F</td>\n",
       "      <td>7</td>\n",
       "      <td>40801</td>\n",
       "      <td>12</td>\n",
       "      <td>15.920000</td>\n",
       "      <td>0</td>\n",
       "      <td>0</td>\n",
       "    </tr>\n",
       "  </tbody>\n",
       "</table>\n",
       "</div>"
      ],
      "text/plain": [
       "       ad_id  xyz_campaign_id  fb_campaign_id    age gender  interest  \\\n",
       "95    735033              936          108792  35-39      F        36   \n",
       "184   747968              936          110962  35-39      F        21   \n",
       "221   776476              936          115510  30-34      M        16   \n",
       "510   951853              936          123736  30-34      F        20   \n",
       "655  1121352             1178          144582  35-39      M        25   \n",
       "866  1121820             1178          144660  30-34      F        28   \n",
       "981  1122146             1178          144714  40-44      F        32   \n",
       "990  1122182             1178          144720  40-44      F         7   \n",
       "\n",
       "     Impressions  Clicks       Spent  Total_Conversion  Approved_Conversion  \n",
       "95           652       0    0.000000                 0                    0  \n",
       "184          512       0    0.000000                 0                    0  \n",
       "221        43756       5    5.440000                 0                    0  \n",
       "510          529       0    0.000000                 0                    0  \n",
       "655       368986      59  100.289999                 0                    0  \n",
       "866        11471       1    1.570000                 0                    0  \n",
       "981       319501      79  111.650000                 0                    0  \n",
       "990        40801      12   15.920000                 0                    0  "
      ]
     },
     "execution_count": 61,
     "metadata": {},
     "output_type": "execute_result"
    }
   ],
   "source": [
    "df[df[\"Total_Conversion\"] == 0] #es muy raro que no haya conversiones solo en unos pocos valores"
   ]
  },
  {
   "cell_type": "code",
   "execution_count": 62,
   "metadata": {},
   "outputs": [],
   "source": [
    " #es bastante raro que esto pase. Ventanas de atribucion. Deberíamos homegeneizar todos los datos, si en los demas ads, están\n",
    "# así entonces no pasa nada. Podríamos decir que si hay compra, son los más rentables. "
   ]
  },
  {
   "cell_type": "code",
   "execution_count": 63,
   "metadata": {},
   "outputs": [
    {
     "data": {
      "text/html": [
       "<div>\n",
       "<style scoped>\n",
       "    .dataframe tbody tr th:only-of-type {\n",
       "        vertical-align: middle;\n",
       "    }\n",
       "\n",
       "    .dataframe tbody tr th {\n",
       "        vertical-align: top;\n",
       "    }\n",
       "\n",
       "    .dataframe thead th {\n",
       "        text-align: right;\n",
       "    }\n",
       "</style>\n",
       "<table border=\"1\" class=\"dataframe\">\n",
       "  <thead>\n",
       "    <tr style=\"text-align: right;\">\n",
       "      <th></th>\n",
       "      <th>ad_id</th>\n",
       "      <th>xyz_campaign_id</th>\n",
       "      <th>fb_campaign_id</th>\n",
       "      <th>age</th>\n",
       "      <th>gender</th>\n",
       "      <th>interest</th>\n",
       "      <th>Impressions</th>\n",
       "      <th>Clicks</th>\n",
       "      <th>Spent</th>\n",
       "      <th>Total_Conversion</th>\n",
       "      <th>Approved_Conversion</th>\n",
       "    </tr>\n",
       "  </thead>\n",
       "  <tbody>\n",
       "    <tr>\n",
       "      <th>5</th>\n",
       "      <td>708820</td>\n",
       "      <td>916</td>\n",
       "      <td>103929</td>\n",
       "      <td>30-34</td>\n",
       "      <td>M</td>\n",
       "      <td>29</td>\n",
       "      <td>1915</td>\n",
       "      <td>0</td>\n",
       "      <td>0.0</td>\n",
       "      <td>1</td>\n",
       "      <td>1</td>\n",
       "    </tr>\n",
       "    <tr>\n",
       "      <th>15</th>\n",
       "      <td>709105</td>\n",
       "      <td>916</td>\n",
       "      <td>103976</td>\n",
       "      <td>30-34</td>\n",
       "      <td>M</td>\n",
       "      <td>28</td>\n",
       "      <td>1241</td>\n",
       "      <td>0</td>\n",
       "      <td>0.0</td>\n",
       "      <td>1</td>\n",
       "      <td>1</td>\n",
       "    </tr>\n",
       "    <tr>\n",
       "      <th>17</th>\n",
       "      <td>709124</td>\n",
       "      <td>916</td>\n",
       "      <td>103979</td>\n",
       "      <td>30-34</td>\n",
       "      <td>M</td>\n",
       "      <td>31</td>\n",
       "      <td>1024</td>\n",
       "      <td>0</td>\n",
       "      <td>0.0</td>\n",
       "      <td>1</td>\n",
       "      <td>1</td>\n",
       "    </tr>\n",
       "    <tr>\n",
       "      <th>20</th>\n",
       "      <td>709320</td>\n",
       "      <td>916</td>\n",
       "      <td>104012</td>\n",
       "      <td>35-39</td>\n",
       "      <td>M</td>\n",
       "      <td>15</td>\n",
       "      <td>1422</td>\n",
       "      <td>0</td>\n",
       "      <td>0.0</td>\n",
       "      <td>1</td>\n",
       "      <td>1</td>\n",
       "    </tr>\n",
       "    <tr>\n",
       "      <th>24</th>\n",
       "      <td>709328</td>\n",
       "      <td>916</td>\n",
       "      <td>104013</td>\n",
       "      <td>35-39</td>\n",
       "      <td>M</td>\n",
       "      <td>16</td>\n",
       "      <td>3332</td>\n",
       "      <td>0</td>\n",
       "      <td>0.0</td>\n",
       "      <td>1</td>\n",
       "      <td>1</td>\n",
       "    </tr>\n",
       "    <tr>\n",
       "      <th>...</th>\n",
       "      <td>...</td>\n",
       "      <td>...</td>\n",
       "      <td>...</td>\n",
       "      <td>...</td>\n",
       "      <td>...</td>\n",
       "      <td>...</td>\n",
       "      <td>...</td>\n",
       "      <td>...</td>\n",
       "      <td>...</td>\n",
       "      <td>...</td>\n",
       "      <td>...</td>\n",
       "    </tr>\n",
       "    <tr>\n",
       "      <th>500</th>\n",
       "      <td>951641</td>\n",
       "      <td>936</td>\n",
       "      <td>123700</td>\n",
       "      <td>40-44</td>\n",
       "      <td>F</td>\n",
       "      <td>2</td>\n",
       "      <td>87</td>\n",
       "      <td>0</td>\n",
       "      <td>0.0</td>\n",
       "      <td>1</td>\n",
       "      <td>1</td>\n",
       "    </tr>\n",
       "    <tr>\n",
       "      <th>517</th>\n",
       "      <td>952100</td>\n",
       "      <td>936</td>\n",
       "      <td>123777</td>\n",
       "      <td>35-39</td>\n",
       "      <td>F</td>\n",
       "      <td>29</td>\n",
       "      <td>810</td>\n",
       "      <td>0</td>\n",
       "      <td>0.0</td>\n",
       "      <td>1</td>\n",
       "      <td>1</td>\n",
       "    </tr>\n",
       "    <tr>\n",
       "      <th>520</th>\n",
       "      <td>1121094</td>\n",
       "      <td>1178</td>\n",
       "      <td>144531</td>\n",
       "      <td>30-34</td>\n",
       "      <td>M</td>\n",
       "      <td>10</td>\n",
       "      <td>24362</td>\n",
       "      <td>0</td>\n",
       "      <td>0.0</td>\n",
       "      <td>1</td>\n",
       "      <td>1</td>\n",
       "    </tr>\n",
       "    <tr>\n",
       "      <th>599</th>\n",
       "      <td>1121252</td>\n",
       "      <td>1178</td>\n",
       "      <td>144565</td>\n",
       "      <td>30-34</td>\n",
       "      <td>M</td>\n",
       "      <td>63</td>\n",
       "      <td>11139</td>\n",
       "      <td>0</td>\n",
       "      <td>0.0</td>\n",
       "      <td>1</td>\n",
       "      <td>1</td>\n",
       "    </tr>\n",
       "    <tr>\n",
       "      <th>608</th>\n",
       "      <td>1121273</td>\n",
       "      <td>1178</td>\n",
       "      <td>144569</td>\n",
       "      <td>30-34</td>\n",
       "      <td>M</td>\n",
       "      <td>2</td>\n",
       "      <td>9370</td>\n",
       "      <td>0</td>\n",
       "      <td>0.0</td>\n",
       "      <td>1</td>\n",
       "      <td>1</td>\n",
       "    </tr>\n",
       "  </tbody>\n",
       "</table>\n",
       "<p>71 rows × 11 columns</p>\n",
       "</div>"
      ],
      "text/plain": [
       "       ad_id  xyz_campaign_id  fb_campaign_id    age gender  interest  \\\n",
       "5     708820              916          103929  30-34      M        29   \n",
       "15    709105              916          103976  30-34      M        28   \n",
       "17    709124              916          103979  30-34      M        31   \n",
       "20    709320              916          104012  35-39      M        15   \n",
       "24    709328              916          104013  35-39      M        16   \n",
       "..       ...              ...             ...    ...    ...       ...   \n",
       "500   951641              936          123700  40-44      F         2   \n",
       "517   952100              936          123777  35-39      F        29   \n",
       "520  1121094             1178          144531  30-34      M        10   \n",
       "599  1121252             1178          144565  30-34      M        63   \n",
       "608  1121273             1178          144569  30-34      M         2   \n",
       "\n",
       "     Impressions  Clicks  Spent  Total_Conversion  Approved_Conversion  \n",
       "5           1915       0    0.0                 1                    1  \n",
       "15          1241       0    0.0                 1                    1  \n",
       "17          1024       0    0.0                 1                    1  \n",
       "20          1422       0    0.0                 1                    1  \n",
       "24          3332       0    0.0                 1                    1  \n",
       "..           ...     ...    ...               ...                  ...  \n",
       "500           87       0    0.0                 1                    1  \n",
       "517          810       0    0.0                 1                    1  \n",
       "520        24362       0    0.0                 1                    1  \n",
       "599        11139       0    0.0                 1                    1  \n",
       "608         9370       0    0.0                 1                    1  \n",
       "\n",
       "[71 rows x 11 columns]"
      ]
     },
     "execution_count": 63,
     "metadata": {},
     "output_type": "execute_result"
    }
   ],
   "source": [
    "df[(df[\"Total_Conversion\"] >= 1) & (df[\"Spent\"] == 0) & (df[\"Approved_Conversion\"]>=1)]"
   ]
  },
  {
   "cell_type": "code",
   "execution_count": 64,
   "metadata": {},
   "outputs": [
    {
     "data": {
      "text/plain": [
       "Text(0.5, 0, 'Interest')"
      ]
     },
     "execution_count": 64,
     "metadata": {},
     "output_type": "execute_result"
    },
    {
     "data": {
      "image/png": "[encoded data removed]",
      "text/plain": [
       "<Figure size 2000x1100 with 9 Axes>"
      ]
     },
     "metadata": {},
     "output_type": "display_data"
    }
   ],
   "source": [
    "fig, ax = plt.subplots(3, 3, figsize=(20,11))\n",
    "\n",
    "df[\"xyz_campaign_id\"].value_counts().plot(kind=\"bar\", ax=ax[0, 0])\n",
    "ax[0, 0].tick_params(labelrotation=0)\n",
    "ax[0, 0].set_xlabel(\"xyz_campaign_id\")\n",
    "\n",
    "df[\"age\"].value_counts().plot(kind=\"bar\", ax=ax[0, 1])\n",
    "ax[0, 1].tick_params(labelrotation=0)\n",
    "ax[0, 1].set_xlabel(\"Age group\")\n",
    "\n",
    "\n",
    "df[\"gender\"].value_counts().plot(kind=\"bar\", ax=ax[0, 2])\n",
    "ax[0, 2].tick_params(labelrotation=0)\n",
    "ax[0, 2].set_xlabel(\"Gender\")\n",
    "\n",
    "df[\"Impressions\"].hist(ax=ax[1, 0], bins=20)\n",
    "ax[1, 0].grid(False)\n",
    "ax[1, 0].set_xlabel(\"Impressions\")\n",
    "\n",
    "df[\"Clicks\"].hist(ax=ax[1, 1], bins=20)\n",
    "ax[1, 1].grid(False)\n",
    "ax[1, 1].set_xlabel(\"Clicks\")\n",
    "\n",
    "df[\"Spent\"].hist(ax=ax[1, 2], bins=20)\n",
    "ax[1, 2].grid(False)\n",
    "ax[1, 2].set_xlabel(\"Spent\")\n",
    "\n",
    "df[\"Total_Conversion\"].hist(ax=ax[2, 0], bins=20)\n",
    "ax[2, 0].grid(False)\n",
    "ax[2, 0].set_xlabel(\"Total_Conversion\")\n",
    "\n",
    "df[\"Approved_Conversion\"].hist(ax=ax[2, 1], bins=20)\n",
    "ax[2, 1].grid(False)\n",
    "ax[2, 1].set_xlabel(\"Approved_Conversion\")\n",
    "\n",
    "df[\"interest\"].value_counts().plot(kind=\"bar\", ax=ax[2, 2])\n",
    "ax[2, 2].grid(False)\n",
    "ax[2, 2].set_xlabel(\"Interest\")\n",
    "\n"
   ]
  },
  {
   "cell_type": "code",
   "execution_count": 65,
   "metadata": {},
   "outputs": [
    {
     "data": {
      "text/html": [
       "<div>\n",
       "<style scoped>\n",
       "    .dataframe tbody tr th:only-of-type {\n",
       "        vertical-align: middle;\n",
       "    }\n",
       "\n",
       "    .dataframe tbody tr th {\n",
       "        vertical-align: top;\n",
       "    }\n",
       "\n",
       "    .dataframe thead th {\n",
       "        text-align: right;\n",
       "    }\n",
       "</style>\n",
       "<table border=\"1\" class=\"dataframe\">\n",
       "  <thead>\n",
       "    <tr style=\"text-align: right;\">\n",
       "      <th></th>\n",
       "      <th>ad_id</th>\n",
       "      <th>xyz_campaign_id</th>\n",
       "      <th>fb_campaign_id</th>\n",
       "      <th>age</th>\n",
       "      <th>gender</th>\n",
       "      <th>interest</th>\n",
       "      <th>Impressions</th>\n",
       "      <th>Clicks</th>\n",
       "      <th>Spent</th>\n",
       "      <th>Total_Conversion</th>\n",
       "      <th>Approved_Conversion</th>\n",
       "    </tr>\n",
       "  </thead>\n",
       "  <tbody>\n",
       "    <tr>\n",
       "      <th>0</th>\n",
       "      <td>708746</td>\n",
       "      <td>916</td>\n",
       "      <td>103916</td>\n",
       "      <td>30-34</td>\n",
       "      <td>M</td>\n",
       "      <td>15</td>\n",
       "      <td>7350</td>\n",
       "      <td>1</td>\n",
       "      <td>1.430000</td>\n",
       "      <td>2</td>\n",
       "      <td>1</td>\n",
       "    </tr>\n",
       "    <tr>\n",
       "      <th>1</th>\n",
       "      <td>708749</td>\n",
       "      <td>916</td>\n",
       "      <td>103917</td>\n",
       "      <td>30-34</td>\n",
       "      <td>M</td>\n",
       "      <td>16</td>\n",
       "      <td>17861</td>\n",
       "      <td>2</td>\n",
       "      <td>1.820000</td>\n",
       "      <td>2</td>\n",
       "      <td>0</td>\n",
       "    </tr>\n",
       "    <tr>\n",
       "      <th>2</th>\n",
       "      <td>708771</td>\n",
       "      <td>916</td>\n",
       "      <td>103920</td>\n",
       "      <td>30-34</td>\n",
       "      <td>M</td>\n",
       "      <td>20</td>\n",
       "      <td>693</td>\n",
       "      <td>0</td>\n",
       "      <td>0.000000</td>\n",
       "      <td>1</td>\n",
       "      <td>0</td>\n",
       "    </tr>\n",
       "    <tr>\n",
       "      <th>3</th>\n",
       "      <td>708815</td>\n",
       "      <td>916</td>\n",
       "      <td>103928</td>\n",
       "      <td>30-34</td>\n",
       "      <td>M</td>\n",
       "      <td>28</td>\n",
       "      <td>4259</td>\n",
       "      <td>1</td>\n",
       "      <td>1.250000</td>\n",
       "      <td>1</td>\n",
       "      <td>0</td>\n",
       "    </tr>\n",
       "    <tr>\n",
       "      <th>4</th>\n",
       "      <td>708818</td>\n",
       "      <td>916</td>\n",
       "      <td>103928</td>\n",
       "      <td>30-34</td>\n",
       "      <td>M</td>\n",
       "      <td>28</td>\n",
       "      <td>4133</td>\n",
       "      <td>1</td>\n",
       "      <td>1.290000</td>\n",
       "      <td>1</td>\n",
       "      <td>1</td>\n",
       "    </tr>\n",
       "    <tr>\n",
       "      <th>...</th>\n",
       "      <td>...</td>\n",
       "      <td>...</td>\n",
       "      <td>...</td>\n",
       "      <td>...</td>\n",
       "      <td>...</td>\n",
       "      <td>...</td>\n",
       "      <td>...</td>\n",
       "      <td>...</td>\n",
       "      <td>...</td>\n",
       "      <td>...</td>\n",
       "      <td>...</td>\n",
       "    </tr>\n",
       "    <tr>\n",
       "      <th>1138</th>\n",
       "      <td>1314410</td>\n",
       "      <td>1178</td>\n",
       "      <td>179977</td>\n",
       "      <td>45-49</td>\n",
       "      <td>F</td>\n",
       "      <td>109</td>\n",
       "      <td>1129773</td>\n",
       "      <td>252</td>\n",
       "      <td>358.189997</td>\n",
       "      <td>13</td>\n",
       "      <td>2</td>\n",
       "    </tr>\n",
       "    <tr>\n",
       "      <th>1139</th>\n",
       "      <td>1314411</td>\n",
       "      <td>1178</td>\n",
       "      <td>179978</td>\n",
       "      <td>45-49</td>\n",
       "      <td>F</td>\n",
       "      <td>110</td>\n",
       "      <td>637549</td>\n",
       "      <td>120</td>\n",
       "      <td>173.880003</td>\n",
       "      <td>3</td>\n",
       "      <td>0</td>\n",
       "    </tr>\n",
       "    <tr>\n",
       "      <th>1140</th>\n",
       "      <td>1314412</td>\n",
       "      <td>1178</td>\n",
       "      <td>179979</td>\n",
       "      <td>45-49</td>\n",
       "      <td>F</td>\n",
       "      <td>111</td>\n",
       "      <td>151531</td>\n",
       "      <td>28</td>\n",
       "      <td>40.289999</td>\n",
       "      <td>2</td>\n",
       "      <td>0</td>\n",
       "    </tr>\n",
       "    <tr>\n",
       "      <th>1141</th>\n",
       "      <td>1314414</td>\n",
       "      <td>1178</td>\n",
       "      <td>179981</td>\n",
       "      <td>45-49</td>\n",
       "      <td>F</td>\n",
       "      <td>113</td>\n",
       "      <td>790253</td>\n",
       "      <td>135</td>\n",
       "      <td>198.710001</td>\n",
       "      <td>8</td>\n",
       "      <td>2</td>\n",
       "    </tr>\n",
       "    <tr>\n",
       "      <th>1142</th>\n",
       "      <td>1314415</td>\n",
       "      <td>1178</td>\n",
       "      <td>179982</td>\n",
       "      <td>45-49</td>\n",
       "      <td>F</td>\n",
       "      <td>114</td>\n",
       "      <td>513161</td>\n",
       "      <td>114</td>\n",
       "      <td>165.609999</td>\n",
       "      <td>5</td>\n",
       "      <td>2</td>\n",
       "    </tr>\n",
       "  </tbody>\n",
       "</table>\n",
       "<p>1143 rows × 11 columns</p>\n",
       "</div>"
      ],
      "text/plain": [
       "        ad_id  xyz_campaign_id  fb_campaign_id    age gender  interest  \\\n",
       "0      708746              916          103916  30-34      M        15   \n",
       "1      708749              916          103917  30-34      M        16   \n",
       "2      708771              916          103920  30-34      M        20   \n",
       "3      708815              916          103928  30-34      M        28   \n",
       "4      708818              916          103928  30-34      M        28   \n",
       "...       ...              ...             ...    ...    ...       ...   \n",
       "1138  1314410             1178          179977  45-49      F       109   \n",
       "1139  1314411             1178          179978  45-49      F       110   \n",
       "1140  1314412             1178          179979  45-49      F       111   \n",
       "1141  1314414             1178          179981  45-49      F       113   \n",
       "1142  1314415             1178          179982  45-49      F       114   \n",
       "\n",
       "      Impressions  Clicks       Spent  Total_Conversion  Approved_Conversion  \n",
       "0            7350       1    1.430000                 2                    1  \n",
       "1           17861       2    1.820000                 2                    0  \n",
       "2             693       0    0.000000                 1                    0  \n",
       "3            4259       1    1.250000                 1                    0  \n",
       "4            4133       1    1.290000                 1                    1  \n",
       "...           ...     ...         ...               ...                  ...  \n",
       "1138      1129773     252  358.189997                13                    2  \n",
       "1139       637549     120  173.880003                 3                    0  \n",
       "1140       151531      28   40.289999                 2                    0  \n",
       "1141       790253     135  198.710001                 8                    2  \n",
       "1142       513161     114  165.609999                 5                    2  \n",
       "\n",
       "[1143 rows x 11 columns]"
      ]
     },
     "execution_count": 65,
     "metadata": {},
     "output_type": "execute_result"
    }
   ],
   "source": [
    "df"
   ]
  },
  {
   "cell_type": "code",
   "execution_count": 66,
   "metadata": {},
   "outputs": [
    {
     "data": {
      "image/png": "[encoded data removed]",
      "text/plain": [
       "<Figure size 640x480 with 1 Axes>"
      ]
     },
     "metadata": {},
     "output_type": "display_data"
    },
    {
     "data": {
      "image/png": "[encoded data removed]",
      "text/plain": [
       "<Figure size 640x480 with 1 Axes>"
      ]
     },
     "metadata": {},
     "output_type": "display_data"
    },
    {
     "data": {
      "image/png": "[encoded data removed]",
      "text/plain": [
       "<Figure size 640x480 with 1 Axes>"
      ]
     },
     "metadata": {},
     "output_type": "display_data"
    },
    {
     "data": {
      "image/png": "[encoded data removed]",
      "text/plain": [
       "<Figure size 640x480 with 1 Axes>"
      ]
     },
     "metadata": {},
     "output_type": "display_data"
    }
   ],
   "source": [
    "\n",
    "sns.violinplot(y=df[\"Impressions\"])\n",
    "plt.show()\n",
    "sns.boxplot(y = df[\"Impressions\"])\n",
    "plt.show()\n",
    "sns.boxplot(x = df[\"xyz_campaign_id\"],\n",
    "            y = df[\"Impressions\"])\n",
    "plt.show()\n",
    "sns.violinplot(x=df[\"xyz_campaign_id\"] , y=df[\"Impressions\"])\n",
    "plt.show()"
   ]
  },
  {
   "cell_type": "code",
   "execution_count": 67,
   "metadata": {},
   "outputs": [
    {
     "data": {
      "image/png": "[encoded data removed]",
      "text/plain": [
       "<Figure size 2200x600 with 1 Axes>"
      ]
     },
     "metadata": {},
     "output_type": "display_data"
    }
   ],
   "source": [
    "# Calcular percentiles\n",
    "p25 = np.percentile(df[\"Impressions\"], 25)\n",
    "p50 = np.percentile(df[\"Impressions\"], 50)\n",
    "p75 = np.percentile(df[\"Impressions\"], 75)\n",
    "p95 = np.percentile(df[\"Impressions\"], 90)\n",
    "\n",
    "\n",
    "# Crear la figura con un tamaño más ancho\n",
    "plt.figure(figsize=(22, 6))  # Ajusta el tamaño a 12x6 pulgadas\n",
    "\n",
    "# Crear gráfico de densidad\n",
    "sns.kdeplot(data=df, x=\"Impressions\", fill=True)\n",
    "plt.title('Gráfico de Densidad de Impresiones General')\n",
    "\n",
    "# Agregar líneas verticales para percentiles\n",
    "plt.axvline(p25, color='r', linestyle='--', label='Percentil 25')\n",
    "plt.axvline(p50, color='g', linestyle='-', label='Percentil 50 (Mediana)')\n",
    "plt.axvline(p75, color='b', linestyle='--', label='Percentil 75')\n",
    "plt.axvline(p95, color='y', linestyle='--', label='Percentil 90')\n",
    "\n",
    "\n",
    "# Mostrar leyenda\n",
    "plt.legend()\n",
    "\n",
    "# Mostrar gráfico\n",
    "plt.show()\n"
   ]
  },
  {
   "cell_type": "code",
   "execution_count": 68,
   "metadata": {},
   "outputs": [
    {
     "data": {
      "text/html": [
       "<div>\n",
       "<style scoped>\n",
       "    .dataframe tbody tr th:only-of-type {\n",
       "        vertical-align: middle;\n",
       "    }\n",
       "\n",
       "    .dataframe tbody tr th {\n",
       "        vertical-align: top;\n",
       "    }\n",
       "\n",
       "    .dataframe thead th {\n",
       "        text-align: right;\n",
       "    }\n",
       "</style>\n",
       "<table border=\"1\" class=\"dataframe\">\n",
       "  <thead>\n",
       "    <tr style=\"text-align: right;\">\n",
       "      <th></th>\n",
       "      <th>ad_id</th>\n",
       "      <th>xyz_campaign_id</th>\n",
       "      <th>fb_campaign_id</th>\n",
       "      <th>age</th>\n",
       "      <th>gender</th>\n",
       "      <th>interest</th>\n",
       "      <th>Impressions</th>\n",
       "      <th>Clicks</th>\n",
       "      <th>Spent</th>\n",
       "      <th>Total_Conversion</th>\n",
       "      <th>...</th>\n",
       "      <th>CPL</th>\n",
       "      <th>CPA</th>\n",
       "      <th>CTR</th>\n",
       "      <th>CPC</th>\n",
       "      <th>Conversion_Rate_Lead</th>\n",
       "      <th>Conversion_Rate_Sale</th>\n",
       "      <th>Pct_Spent_per_Conversion</th>\n",
       "      <th>Pct_Conversion_per_Click</th>\n",
       "      <th>Approved_Conversion_Rate</th>\n",
       "      <th>Pct_Approved_Conversion</th>\n",
       "    </tr>\n",
       "  </thead>\n",
       "  <tbody>\n",
       "    <tr>\n",
       "      <th>0</th>\n",
       "      <td>708746</td>\n",
       "      <td>916</td>\n",
       "      <td>103916</td>\n",
       "      <td>30-34</td>\n",
       "      <td>M</td>\n",
       "      <td>15</td>\n",
       "      <td>7350</td>\n",
       "      <td>1</td>\n",
       "      <td>1.43</td>\n",
       "      <td>2</td>\n",
       "      <td>...</td>\n",
       "      <td>0.715</td>\n",
       "      <td>1.43</td>\n",
       "      <td>0.013605</td>\n",
       "      <td>1.43</td>\n",
       "      <td>0.027211</td>\n",
       "      <td>0.013605</td>\n",
       "      <td>0.715</td>\n",
       "      <td>2.0</td>\n",
       "      <td>1.0</td>\n",
       "      <td>0.5</td>\n",
       "    </tr>\n",
       "    <tr>\n",
       "      <th>1</th>\n",
       "      <td>708749</td>\n",
       "      <td>916</td>\n",
       "      <td>103917</td>\n",
       "      <td>30-34</td>\n",
       "      <td>M</td>\n",
       "      <td>16</td>\n",
       "      <td>17861</td>\n",
       "      <td>2</td>\n",
       "      <td>1.82</td>\n",
       "      <td>2</td>\n",
       "      <td>...</td>\n",
       "      <td>0.910</td>\n",
       "      <td>0.00</td>\n",
       "      <td>0.011198</td>\n",
       "      <td>0.91</td>\n",
       "      <td>0.011198</td>\n",
       "      <td>0.000000</td>\n",
       "      <td>0.910</td>\n",
       "      <td>1.0</td>\n",
       "      <td>0.0</td>\n",
       "      <td>0.0</td>\n",
       "    </tr>\n",
       "    <tr>\n",
       "      <th>2</th>\n",
       "      <td>708771</td>\n",
       "      <td>916</td>\n",
       "      <td>103920</td>\n",
       "      <td>30-34</td>\n",
       "      <td>M</td>\n",
       "      <td>20</td>\n",
       "      <td>693</td>\n",
       "      <td>0</td>\n",
       "      <td>0.00</td>\n",
       "      <td>1</td>\n",
       "      <td>...</td>\n",
       "      <td>0.000</td>\n",
       "      <td>0.00</td>\n",
       "      <td>0.000000</td>\n",
       "      <td>0.00</td>\n",
       "      <td>0.144300</td>\n",
       "      <td>0.000000</td>\n",
       "      <td>0.000</td>\n",
       "      <td>0.0</td>\n",
       "      <td>0.0</td>\n",
       "      <td>0.0</td>\n",
       "    </tr>\n",
       "    <tr>\n",
       "      <th>3</th>\n",
       "      <td>708815</td>\n",
       "      <td>916</td>\n",
       "      <td>103928</td>\n",
       "      <td>30-34</td>\n",
       "      <td>M</td>\n",
       "      <td>28</td>\n",
       "      <td>4259</td>\n",
       "      <td>1</td>\n",
       "      <td>1.25</td>\n",
       "      <td>1</td>\n",
       "      <td>...</td>\n",
       "      <td>1.250</td>\n",
       "      <td>0.00</td>\n",
       "      <td>0.023480</td>\n",
       "      <td>1.25</td>\n",
       "      <td>0.023480</td>\n",
       "      <td>0.000000</td>\n",
       "      <td>1.250</td>\n",
       "      <td>1.0</td>\n",
       "      <td>0.0</td>\n",
       "      <td>0.0</td>\n",
       "    </tr>\n",
       "    <tr>\n",
       "      <th>4</th>\n",
       "      <td>708818</td>\n",
       "      <td>916</td>\n",
       "      <td>103928</td>\n",
       "      <td>30-34</td>\n",
       "      <td>M</td>\n",
       "      <td>28</td>\n",
       "      <td>4133</td>\n",
       "      <td>1</td>\n",
       "      <td>1.29</td>\n",
       "      <td>1</td>\n",
       "      <td>...</td>\n",
       "      <td>1.290</td>\n",
       "      <td>1.29</td>\n",
       "      <td>0.024195</td>\n",
       "      <td>1.29</td>\n",
       "      <td>0.024195</td>\n",
       "      <td>0.024195</td>\n",
       "      <td>1.290</td>\n",
       "      <td>1.0</td>\n",
       "      <td>1.0</td>\n",
       "      <td>1.0</td>\n",
       "    </tr>\n",
       "  </tbody>\n",
       "</table>\n",
       "<p>5 rows × 22 columns</p>\n",
       "</div>"
      ],
      "text/plain": [
       "    ad_id  xyz_campaign_id  fb_campaign_id    age gender  interest  \\\n",
       "0  708746              916          103916  30-34      M        15   \n",
       "1  708749              916          103917  30-34      M        16   \n",
       "2  708771              916          103920  30-34      M        20   \n",
       "3  708815              916          103928  30-34      M        28   \n",
       "4  708818              916          103928  30-34      M        28   \n",
       "\n",
       "   Impressions  Clicks  Spent  Total_Conversion  ...    CPL   CPA       CTR  \\\n",
       "0         7350       1   1.43                 2  ...  0.715  1.43  0.013605   \n",
       "1        17861       2   1.82                 2  ...  0.910  0.00  0.011198   \n",
       "2          693       0   0.00                 1  ...  0.000  0.00  0.000000   \n",
       "3         4259       1   1.25                 1  ...  1.250  0.00  0.023480   \n",
       "4         4133       1   1.29                 1  ...  1.290  1.29  0.024195   \n",
       "\n",
       "    CPC  Conversion_Rate_Lead  Conversion_Rate_Sale  Pct_Spent_per_Conversion  \\\n",
       "0  1.43              0.027211              0.013605                     0.715   \n",
       "1  0.91              0.011198              0.000000                     0.910   \n",
       "2  0.00              0.144300              0.000000                     0.000   \n",
       "3  1.25              0.023480              0.000000                     1.250   \n",
       "4  1.29              0.024195              0.024195                     1.290   \n",
       "\n",
       "   Pct_Conversion_per_Click  Approved_Conversion_Rate  Pct_Approved_Conversion  \n",
       "0                       2.0                       1.0                      0.5  \n",
       "1                       1.0                       0.0                      0.0  \n",
       "2                       0.0                       0.0                      0.0  \n",
       "3                       1.0                       0.0                      0.0  \n",
       "4                       1.0                       1.0                      1.0  \n",
       "\n",
       "[5 rows x 22 columns]"
      ]
     },
     "execution_count": 68,
     "metadata": {},
     "output_type": "execute_result"
    }
   ],
   "source": [
    "\n",
    "# Coste por mil impresiones (CPM)\n",
    "df['CPM'] = np.where(df['Impressions'] != 0, (df['Spent'] / df['Impressions']) * 1000, 0)\n",
    "\n",
    "# Coste por lead (CPL)\n",
    "df['CPL'] = np.where(df['Total_Conversion'] != 0, df['Spent'] / df['Total_Conversion'], 0)\n",
    "\n",
    "# Coste por venta (CPA)\n",
    "df['CPA'] = np.where(df['Approved_Conversion'] != 0, df['Spent'] / df['Approved_Conversion'], 0)\n",
    "\n",
    "# Tasa de clics (CTR)\n",
    "df['CTR'] = np.where(df['Impressions'] != 0, (df['Clicks'] / df['Impressions']) * 100, 0)\n",
    "\n",
    "# Coste por clic (CPC)\n",
    "df['CPC'] = np.where(df['Clicks'] != 0, df['Spent'] / df['Clicks'], 0)\n",
    "\n",
    "# Tasa de conversión (Conversion Rate) para leads y ventas\n",
    "df['Conversion_Rate_Lead'] = np.where(df['Impressions'] != 0, (df['Total_Conversion'] / df['Impressions']) * 100, 0)\n",
    "df['Conversion_Rate_Sale'] = np.where(df['Impressions'] != 0, (df['Approved_Conversion'] / df['Impressions']) * 100, 0)\n",
    "\n",
    "# Porcentaje de Total_Conversion en base a Spent\n",
    "df['Pct_Spent_per_Conversion'] = np.where(df['Total_Conversion'] != 0, df['Spent'] / df['Total_Conversion'], 0)\n",
    "\n",
    "# Porcentaje de Total_Conversion en base a Clicks\n",
    "df['Pct_Conversion_per_Click'] = np.where(df['Clicks'] != 0, df['Total_Conversion'] / df['Clicks'], 0)\n",
    "\n",
    "# Tasa de conversión aprobada\n",
    "df['Approved_Conversion_Rate'] = np.where(df['Clicks'] != 0, df['Approved_Conversion'] / df['Clicks'], 0)\n",
    "\n",
    "# Porcentaje de Approved_Conversion en base a Total_Conversion\n",
    "df['Pct_Approved_Conversion'] = np.where(df['Total_Conversion'] != 0, df['Approved_Conversion'] / df['Total_Conversion'], 0)\n",
    "\n",
    "df.head()\n"
   ]
  },
  {
   "cell_type": "code",
   "execution_count": 69,
   "metadata": {},
   "outputs": [
    {
     "data": {
      "text/html": [
       "<div>\n",
       "<style scoped>\n",
       "    .dataframe tbody tr th:only-of-type {\n",
       "        vertical-align: middle;\n",
       "    }\n",
       "\n",
       "    .dataframe tbody tr th {\n",
       "        vertical-align: top;\n",
       "    }\n",
       "\n",
       "    .dataframe thead th {\n",
       "        text-align: right;\n",
       "    }\n",
       "</style>\n",
       "<table border=\"1\" class=\"dataframe\">\n",
       "  <thead>\n",
       "    <tr style=\"text-align: right;\">\n",
       "      <th></th>\n",
       "      <th>ad_id</th>\n",
       "      <th>xyz_campaign_id</th>\n",
       "      <th>fb_campaign_id</th>\n",
       "      <th>age</th>\n",
       "      <th>gender</th>\n",
       "      <th>interest</th>\n",
       "      <th>Impressions</th>\n",
       "      <th>Clicks</th>\n",
       "      <th>Spent</th>\n",
       "      <th>Total_Conversion</th>\n",
       "      <th>...</th>\n",
       "      <th>CPL</th>\n",
       "      <th>CPA</th>\n",
       "      <th>CTR</th>\n",
       "      <th>CPC</th>\n",
       "      <th>Conversion_Rate_Lead</th>\n",
       "      <th>Conversion_Rate_Sale</th>\n",
       "      <th>Pct_Spent_per_Conversion</th>\n",
       "      <th>Pct_Conversion_per_Click</th>\n",
       "      <th>Approved_Conversion_Rate</th>\n",
       "      <th>Pct_Approved_Conversion</th>\n",
       "    </tr>\n",
       "  </thead>\n",
       "  <tbody>\n",
       "    <tr>\n",
       "      <th>520</th>\n",
       "      <td>1121094</td>\n",
       "      <td>1178</td>\n",
       "      <td>144531</td>\n",
       "      <td>30-34</td>\n",
       "      <td>M</td>\n",
       "      <td>10</td>\n",
       "      <td>24362</td>\n",
       "      <td>0</td>\n",
       "      <td>0.0</td>\n",
       "      <td>1</td>\n",
       "      <td>...</td>\n",
       "      <td>0.0</td>\n",
       "      <td>0.0</td>\n",
       "      <td>0.0</td>\n",
       "      <td>0.0</td>\n",
       "      <td>0.004105</td>\n",
       "      <td>0.004105</td>\n",
       "      <td>0.0</td>\n",
       "      <td>0.0</td>\n",
       "      <td>0.0</td>\n",
       "      <td>1.0</td>\n",
       "    </tr>\n",
       "    <tr>\n",
       "      <th>587</th>\n",
       "      <td>1121224</td>\n",
       "      <td>1178</td>\n",
       "      <td>144558</td>\n",
       "      <td>30-34</td>\n",
       "      <td>M</td>\n",
       "      <td>31</td>\n",
       "      <td>14289</td>\n",
       "      <td>0</td>\n",
       "      <td>0.0</td>\n",
       "      <td>1</td>\n",
       "      <td>...</td>\n",
       "      <td>0.0</td>\n",
       "      <td>0.0</td>\n",
       "      <td>0.0</td>\n",
       "      <td>0.0</td>\n",
       "      <td>0.006998</td>\n",
       "      <td>0.000000</td>\n",
       "      <td>0.0</td>\n",
       "      <td>0.0</td>\n",
       "      <td>0.0</td>\n",
       "      <td>0.0</td>\n",
       "    </tr>\n",
       "    <tr>\n",
       "      <th>599</th>\n",
       "      <td>1121252</td>\n",
       "      <td>1178</td>\n",
       "      <td>144565</td>\n",
       "      <td>30-34</td>\n",
       "      <td>M</td>\n",
       "      <td>63</td>\n",
       "      <td>11139</td>\n",
       "      <td>0</td>\n",
       "      <td>0.0</td>\n",
       "      <td>1</td>\n",
       "      <td>...</td>\n",
       "      <td>0.0</td>\n",
       "      <td>0.0</td>\n",
       "      <td>0.0</td>\n",
       "      <td>0.0</td>\n",
       "      <td>0.008977</td>\n",
       "      <td>0.008977</td>\n",
       "      <td>0.0</td>\n",
       "      <td>0.0</td>\n",
       "      <td>0.0</td>\n",
       "      <td>1.0</td>\n",
       "    </tr>\n",
       "    <tr>\n",
       "      <th>618</th>\n",
       "      <td>1121286</td>\n",
       "      <td>1178</td>\n",
       "      <td>144571</td>\n",
       "      <td>30-34</td>\n",
       "      <td>M</td>\n",
       "      <td>66</td>\n",
       "      <td>10991</td>\n",
       "      <td>0</td>\n",
       "      <td>0.0</td>\n",
       "      <td>1</td>\n",
       "      <td>...</td>\n",
       "      <td>0.0</td>\n",
       "      <td>0.0</td>\n",
       "      <td>0.0</td>\n",
       "      <td>0.0</td>\n",
       "      <td>0.009098</td>\n",
       "      <td>0.000000</td>\n",
       "      <td>0.0</td>\n",
       "      <td>0.0</td>\n",
       "      <td>0.0</td>\n",
       "      <td>0.0</td>\n",
       "    </tr>\n",
       "    <tr>\n",
       "      <th>222</th>\n",
       "      <td>776477</td>\n",
       "      <td>936</td>\n",
       "      <td>115510</td>\n",
       "      <td>30-34</td>\n",
       "      <td>M</td>\n",
       "      <td>16</td>\n",
       "      <td>9982</td>\n",
       "      <td>0</td>\n",
       "      <td>0.0</td>\n",
       "      <td>1</td>\n",
       "      <td>...</td>\n",
       "      <td>0.0</td>\n",
       "      <td>0.0</td>\n",
       "      <td>0.0</td>\n",
       "      <td>0.0</td>\n",
       "      <td>0.010018</td>\n",
       "      <td>0.000000</td>\n",
       "      <td>0.0</td>\n",
       "      <td>0.0</td>\n",
       "      <td>0.0</td>\n",
       "      <td>0.0</td>\n",
       "    </tr>\n",
       "    <tr>\n",
       "      <th>...</th>\n",
       "      <td>...</td>\n",
       "      <td>...</td>\n",
       "      <td>...</td>\n",
       "      <td>...</td>\n",
       "      <td>...</td>\n",
       "      <td>...</td>\n",
       "      <td>...</td>\n",
       "      <td>...</td>\n",
       "      <td>...</td>\n",
       "      <td>...</td>\n",
       "      <td>...</td>\n",
       "      <td>...</td>\n",
       "      <td>...</td>\n",
       "      <td>...</td>\n",
       "      <td>...</td>\n",
       "      <td>...</td>\n",
       "      <td>...</td>\n",
       "      <td>...</td>\n",
       "      <td>...</td>\n",
       "      <td>...</td>\n",
       "      <td>...</td>\n",
       "    </tr>\n",
       "    <tr>\n",
       "      <th>449</th>\n",
       "      <td>950550</td>\n",
       "      <td>936</td>\n",
       "      <td>123519</td>\n",
       "      <td>30-34</td>\n",
       "      <td>M</td>\n",
       "      <td>30</td>\n",
       "      <td>219</td>\n",
       "      <td>0</td>\n",
       "      <td>0.0</td>\n",
       "      <td>1</td>\n",
       "      <td>...</td>\n",
       "      <td>0.0</td>\n",
       "      <td>0.0</td>\n",
       "      <td>0.0</td>\n",
       "      <td>0.0</td>\n",
       "      <td>0.456621</td>\n",
       "      <td>0.000000</td>\n",
       "      <td>0.0</td>\n",
       "      <td>0.0</td>\n",
       "      <td>0.0</td>\n",
       "      <td>0.0</td>\n",
       "    </tr>\n",
       "    <tr>\n",
       "      <th>462</th>\n",
       "      <td>950787</td>\n",
       "      <td>936</td>\n",
       "      <td>123558</td>\n",
       "      <td>30-34</td>\n",
       "      <td>M</td>\n",
       "      <td>27</td>\n",
       "      <td>199</td>\n",
       "      <td>0</td>\n",
       "      <td>0.0</td>\n",
       "      <td>1</td>\n",
       "      <td>...</td>\n",
       "      <td>0.0</td>\n",
       "      <td>0.0</td>\n",
       "      <td>0.0</td>\n",
       "      <td>0.0</td>\n",
       "      <td>0.502513</td>\n",
       "      <td>0.000000</td>\n",
       "      <td>0.0</td>\n",
       "      <td>0.0</td>\n",
       "      <td>0.0</td>\n",
       "      <td>0.0</td>\n",
       "    </tr>\n",
       "    <tr>\n",
       "      <th>454</th>\n",
       "      <td>950629</td>\n",
       "      <td>936</td>\n",
       "      <td>123532</td>\n",
       "      <td>30-34</td>\n",
       "      <td>M</td>\n",
       "      <td>65</td>\n",
       "      <td>152</td>\n",
       "      <td>0</td>\n",
       "      <td>0.0</td>\n",
       "      <td>1</td>\n",
       "      <td>...</td>\n",
       "      <td>0.0</td>\n",
       "      <td>0.0</td>\n",
       "      <td>0.0</td>\n",
       "      <td>0.0</td>\n",
       "      <td>0.657895</td>\n",
       "      <td>0.657895</td>\n",
       "      <td>0.0</td>\n",
       "      <td>0.0</td>\n",
       "      <td>0.0</td>\n",
       "      <td>1.0</td>\n",
       "    </tr>\n",
       "    <tr>\n",
       "      <th>455</th>\n",
       "      <td>950631</td>\n",
       "      <td>936</td>\n",
       "      <td>123532</td>\n",
       "      <td>30-34</td>\n",
       "      <td>M</td>\n",
       "      <td>65</td>\n",
       "      <td>152</td>\n",
       "      <td>0</td>\n",
       "      <td>0.0</td>\n",
       "      <td>1</td>\n",
       "      <td>...</td>\n",
       "      <td>0.0</td>\n",
       "      <td>0.0</td>\n",
       "      <td>0.0</td>\n",
       "      <td>0.0</td>\n",
       "      <td>0.657895</td>\n",
       "      <td>0.657895</td>\n",
       "      <td>0.0</td>\n",
       "      <td>0.0</td>\n",
       "      <td>0.0</td>\n",
       "      <td>1.0</td>\n",
       "    </tr>\n",
       "    <tr>\n",
       "      <th>500</th>\n",
       "      <td>951641</td>\n",
       "      <td>936</td>\n",
       "      <td>123700</td>\n",
       "      <td>40-44</td>\n",
       "      <td>F</td>\n",
       "      <td>2</td>\n",
       "      <td>87</td>\n",
       "      <td>0</td>\n",
       "      <td>0.0</td>\n",
       "      <td>1</td>\n",
       "      <td>...</td>\n",
       "      <td>0.0</td>\n",
       "      <td>0.0</td>\n",
       "      <td>0.0</td>\n",
       "      <td>0.0</td>\n",
       "      <td>1.149425</td>\n",
       "      <td>1.149425</td>\n",
       "      <td>0.0</td>\n",
       "      <td>0.0</td>\n",
       "      <td>0.0</td>\n",
       "      <td>1.0</td>\n",
       "    </tr>\n",
       "  </tbody>\n",
       "</table>\n",
       "<p>207 rows × 22 columns</p>\n",
       "</div>"
      ],
      "text/plain": [
       "       ad_id  xyz_campaign_id  fb_campaign_id    age gender  interest  \\\n",
       "520  1121094             1178          144531  30-34      M        10   \n",
       "587  1121224             1178          144558  30-34      M        31   \n",
       "599  1121252             1178          144565  30-34      M        63   \n",
       "618  1121286             1178          144571  30-34      M        66   \n",
       "222   776477              936          115510  30-34      M        16   \n",
       "..       ...              ...             ...    ...    ...       ...   \n",
       "449   950550              936          123519  30-34      M        30   \n",
       "462   950787              936          123558  30-34      M        27   \n",
       "454   950629              936          123532  30-34      M        65   \n",
       "455   950631              936          123532  30-34      M        65   \n",
       "500   951641              936          123700  40-44      F         2   \n",
       "\n",
       "     Impressions  Clicks  Spent  Total_Conversion  ...  CPL  CPA  CTR  CPC  \\\n",
       "520        24362       0    0.0                 1  ...  0.0  0.0  0.0  0.0   \n",
       "587        14289       0    0.0                 1  ...  0.0  0.0  0.0  0.0   \n",
       "599        11139       0    0.0                 1  ...  0.0  0.0  0.0  0.0   \n",
       "618        10991       0    0.0                 1  ...  0.0  0.0  0.0  0.0   \n",
       "222         9982       0    0.0                 1  ...  0.0  0.0  0.0  0.0   \n",
       "..           ...     ...    ...               ...  ...  ...  ...  ...  ...   \n",
       "449          219       0    0.0                 1  ...  0.0  0.0  0.0  0.0   \n",
       "462          199       0    0.0                 1  ...  0.0  0.0  0.0  0.0   \n",
       "454          152       0    0.0                 1  ...  0.0  0.0  0.0  0.0   \n",
       "455          152       0    0.0                 1  ...  0.0  0.0  0.0  0.0   \n",
       "500           87       0    0.0                 1  ...  0.0  0.0  0.0  0.0   \n",
       "\n",
       "     Conversion_Rate_Lead  Conversion_Rate_Sale  Pct_Spent_per_Conversion  \\\n",
       "520              0.004105              0.004105                       0.0   \n",
       "587              0.006998              0.000000                       0.0   \n",
       "599              0.008977              0.008977                       0.0   \n",
       "618              0.009098              0.000000                       0.0   \n",
       "222              0.010018              0.000000                       0.0   \n",
       "..                    ...                   ...                       ...   \n",
       "449              0.456621              0.000000                       0.0   \n",
       "462              0.502513              0.000000                       0.0   \n",
       "454              0.657895              0.657895                       0.0   \n",
       "455              0.657895              0.657895                       0.0   \n",
       "500              1.149425              1.149425                       0.0   \n",
       "\n",
       "     Pct_Conversion_per_Click  Approved_Conversion_Rate  \\\n",
       "520                       0.0                       0.0   \n",
       "587                       0.0                       0.0   \n",
       "599                       0.0                       0.0   \n",
       "618                       0.0                       0.0   \n",
       "222                       0.0                       0.0   \n",
       "..                        ...                       ...   \n",
       "449                       0.0                       0.0   \n",
       "462                       0.0                       0.0   \n",
       "454                       0.0                       0.0   \n",
       "455                       0.0                       0.0   \n",
       "500                       0.0                       0.0   \n",
       "\n",
       "     Pct_Approved_Conversion  \n",
       "520                      1.0  \n",
       "587                      0.0  \n",
       "599                      1.0  \n",
       "618                      0.0  \n",
       "222                      0.0  \n",
       "..                       ...  \n",
       "449                      0.0  \n",
       "462                      0.0  \n",
       "454                      1.0  \n",
       "455                      1.0  \n",
       "500                      1.0  \n",
       "\n",
       "[207 rows x 22 columns]"
      ]
     },
     "execution_count": 69,
     "metadata": {},
     "output_type": "execute_result"
    }
   ],
   "source": [
    "df[df[\"Spent\"] ==0].sort_values(by=\"Impressions\",ascending=False) #ventanas de atribucion hay que tener en cuenta esto para las predicciones.\n",
    "\n",
    "#no lo cambiamos porque se supone que no solo en las que están a 0 de clicks pasa, también puede pasar con las conversiones que tiene 100 clicks."
   ]
  },
  {
   "cell_type": "code",
   "execution_count": 70,
   "metadata": {},
   "outputs": [],
   "source": [
    "#hacer una landing en base embudos:\n",
    "# 1: filtros (campaña, generos, edad e intereses)\n",
    "# 2 embudo \n",
    "# engagement: Primera fase del anuncio es lo que tiene que funcionar mejor. Impresiones, CTR, CPM, CPC --> Mejors en segmentacion, creatividad, intereses.\n",
    "# leads: Aqui ya nos metemos en el por conversiones de landings. CPL, Conversion_Rate_Lead, Pct_Spent_per_Conversion\n",
    "# Costumers: esto ya es la fase de ventas: CPA,Conversion_Rate_Sale Approved_Conversion_Rate Pct_Approved_Conversion --> Estrategias para ver que es lo que falla en ventas. \n",
    "\n",
    "# 3: funcionalidad para ver si un anuncio tiene margen de mejora. \n",
    "# 4: predicción de alguna variable de interés"
   ]
  },
  {
   "cell_type": "code",
   "execution_count": 71,
   "metadata": {},
   "outputs": [
    {
     "data": {
      "text/plain": [
       "array(['30-34', '35-39', '40-44', '45-49'], dtype=object)"
      ]
     },
     "execution_count": 71,
     "metadata": {},
     "output_type": "execute_result"
    }
   ],
   "source": [
    "df[\"age\"].unique()"
   ]
  },
  {
   "cell_type": "code",
   "execution_count": 72,
   "metadata": {},
   "outputs": [
    {
     "data": {
      "text/html": [
       "<div>\n",
       "<style scoped>\n",
       "    .dataframe tbody tr th:only-of-type {\n",
       "        vertical-align: middle;\n",
       "    }\n",
       "\n",
       "    .dataframe tbody tr th {\n",
       "        vertical-align: top;\n",
       "    }\n",
       "\n",
       "    .dataframe thead th {\n",
       "        text-align: right;\n",
       "    }\n",
       "</style>\n",
       "<table border=\"1\" class=\"dataframe\">\n",
       "  <thead>\n",
       "    <tr style=\"text-align: right;\">\n",
       "      <th></th>\n",
       "      <th>ad_id</th>\n",
       "      <th>xyz_campaign_id</th>\n",
       "      <th>fb_campaign_id</th>\n",
       "      <th>age</th>\n",
       "      <th>gender</th>\n",
       "      <th>interest</th>\n",
       "      <th>Impressions</th>\n",
       "      <th>Clicks</th>\n",
       "      <th>Spent</th>\n",
       "      <th>Total_Conversion</th>\n",
       "      <th>...</th>\n",
       "      <th>CPL</th>\n",
       "      <th>CPA</th>\n",
       "      <th>CTR</th>\n",
       "      <th>CPC</th>\n",
       "      <th>Conversion_Rate_Lead</th>\n",
       "      <th>Conversion_Rate_Sale</th>\n",
       "      <th>Pct_Spent_per_Conversion</th>\n",
       "      <th>Pct_Conversion_per_Click</th>\n",
       "      <th>Approved_Conversion_Rate</th>\n",
       "      <th>Pct_Approved_Conversion</th>\n",
       "    </tr>\n",
       "  </thead>\n",
       "  <tbody>\n",
       "    <tr>\n",
       "      <th>0</th>\n",
       "      <td>708746</td>\n",
       "      <td>916</td>\n",
       "      <td>103916</td>\n",
       "      <td>30-34</td>\n",
       "      <td>M</td>\n",
       "      <td>15</td>\n",
       "      <td>7350</td>\n",
       "      <td>1</td>\n",
       "      <td>1.430000</td>\n",
       "      <td>2</td>\n",
       "      <td>...</td>\n",
       "      <td>0.715000</td>\n",
       "      <td>1.430000</td>\n",
       "      <td>0.013605</td>\n",
       "      <td>1.430000</td>\n",
       "      <td>0.027211</td>\n",
       "      <td>0.013605</td>\n",
       "      <td>0.715000</td>\n",
       "      <td>2.000000</td>\n",
       "      <td>1.000000</td>\n",
       "      <td>0.500000</td>\n",
       "    </tr>\n",
       "    <tr>\n",
       "      <th>1</th>\n",
       "      <td>708749</td>\n",
       "      <td>916</td>\n",
       "      <td>103917</td>\n",
       "      <td>30-34</td>\n",
       "      <td>M</td>\n",
       "      <td>16</td>\n",
       "      <td>17861</td>\n",
       "      <td>2</td>\n",
       "      <td>1.820000</td>\n",
       "      <td>2</td>\n",
       "      <td>...</td>\n",
       "      <td>0.910000</td>\n",
       "      <td>0.000000</td>\n",
       "      <td>0.011198</td>\n",
       "      <td>0.910000</td>\n",
       "      <td>0.011198</td>\n",
       "      <td>0.000000</td>\n",
       "      <td>0.910000</td>\n",
       "      <td>1.000000</td>\n",
       "      <td>0.000000</td>\n",
       "      <td>0.000000</td>\n",
       "    </tr>\n",
       "    <tr>\n",
       "      <th>2</th>\n",
       "      <td>708771</td>\n",
       "      <td>916</td>\n",
       "      <td>103920</td>\n",
       "      <td>30-34</td>\n",
       "      <td>M</td>\n",
       "      <td>20</td>\n",
       "      <td>693</td>\n",
       "      <td>0</td>\n",
       "      <td>0.000000</td>\n",
       "      <td>1</td>\n",
       "      <td>...</td>\n",
       "      <td>0.000000</td>\n",
       "      <td>0.000000</td>\n",
       "      <td>0.000000</td>\n",
       "      <td>0.000000</td>\n",
       "      <td>0.144300</td>\n",
       "      <td>0.000000</td>\n",
       "      <td>0.000000</td>\n",
       "      <td>0.000000</td>\n",
       "      <td>0.000000</td>\n",
       "      <td>0.000000</td>\n",
       "    </tr>\n",
       "    <tr>\n",
       "      <th>3</th>\n",
       "      <td>708815</td>\n",
       "      <td>916</td>\n",
       "      <td>103928</td>\n",
       "      <td>30-34</td>\n",
       "      <td>M</td>\n",
       "      <td>28</td>\n",
       "      <td>4259</td>\n",
       "      <td>1</td>\n",
       "      <td>1.250000</td>\n",
       "      <td>1</td>\n",
       "      <td>...</td>\n",
       "      <td>1.250000</td>\n",
       "      <td>0.000000</td>\n",
       "      <td>0.023480</td>\n",
       "      <td>1.250000</td>\n",
       "      <td>0.023480</td>\n",
       "      <td>0.000000</td>\n",
       "      <td>1.250000</td>\n",
       "      <td>1.000000</td>\n",
       "      <td>0.000000</td>\n",
       "      <td>0.000000</td>\n",
       "    </tr>\n",
       "    <tr>\n",
       "      <th>4</th>\n",
       "      <td>708818</td>\n",
       "      <td>916</td>\n",
       "      <td>103928</td>\n",
       "      <td>30-34</td>\n",
       "      <td>M</td>\n",
       "      <td>28</td>\n",
       "      <td>4133</td>\n",
       "      <td>1</td>\n",
       "      <td>1.290000</td>\n",
       "      <td>1</td>\n",
       "      <td>...</td>\n",
       "      <td>1.290000</td>\n",
       "      <td>1.290000</td>\n",
       "      <td>0.024195</td>\n",
       "      <td>1.290000</td>\n",
       "      <td>0.024195</td>\n",
       "      <td>0.024195</td>\n",
       "      <td>1.290000</td>\n",
       "      <td>1.000000</td>\n",
       "      <td>1.000000</td>\n",
       "      <td>1.000000</td>\n",
       "    </tr>\n",
       "    <tr>\n",
       "      <th>...</th>\n",
       "      <td>...</td>\n",
       "      <td>...</td>\n",
       "      <td>...</td>\n",
       "      <td>...</td>\n",
       "      <td>...</td>\n",
       "      <td>...</td>\n",
       "      <td>...</td>\n",
       "      <td>...</td>\n",
       "      <td>...</td>\n",
       "      <td>...</td>\n",
       "      <td>...</td>\n",
       "      <td>...</td>\n",
       "      <td>...</td>\n",
       "      <td>...</td>\n",
       "      <td>...</td>\n",
       "      <td>...</td>\n",
       "      <td>...</td>\n",
       "      <td>...</td>\n",
       "      <td>...</td>\n",
       "      <td>...</td>\n",
       "      <td>...</td>\n",
       "    </tr>\n",
       "    <tr>\n",
       "      <th>1138</th>\n",
       "      <td>1314410</td>\n",
       "      <td>1178</td>\n",
       "      <td>179977</td>\n",
       "      <td>45-49</td>\n",
       "      <td>F</td>\n",
       "      <td>109</td>\n",
       "      <td>1129773</td>\n",
       "      <td>252</td>\n",
       "      <td>358.189997</td>\n",
       "      <td>13</td>\n",
       "      <td>...</td>\n",
       "      <td>27.553077</td>\n",
       "      <td>179.094999</td>\n",
       "      <td>0.022305</td>\n",
       "      <td>1.421389</td>\n",
       "      <td>0.001151</td>\n",
       "      <td>0.000177</td>\n",
       "      <td>27.553077</td>\n",
       "      <td>0.051587</td>\n",
       "      <td>0.007937</td>\n",
       "      <td>0.153846</td>\n",
       "    </tr>\n",
       "    <tr>\n",
       "      <th>1139</th>\n",
       "      <td>1314411</td>\n",
       "      <td>1178</td>\n",
       "      <td>179978</td>\n",
       "      <td>45-49</td>\n",
       "      <td>F</td>\n",
       "      <td>110</td>\n",
       "      <td>637549</td>\n",
       "      <td>120</td>\n",
       "      <td>173.880003</td>\n",
       "      <td>3</td>\n",
       "      <td>...</td>\n",
       "      <td>57.960001</td>\n",
       "      <td>0.000000</td>\n",
       "      <td>0.018822</td>\n",
       "      <td>1.449000</td>\n",
       "      <td>0.000471</td>\n",
       "      <td>0.000000</td>\n",
       "      <td>57.960001</td>\n",
       "      <td>0.025000</td>\n",
       "      <td>0.000000</td>\n",
       "      <td>0.000000</td>\n",
       "    </tr>\n",
       "    <tr>\n",
       "      <th>1140</th>\n",
       "      <td>1314412</td>\n",
       "      <td>1178</td>\n",
       "      <td>179979</td>\n",
       "      <td>45-49</td>\n",
       "      <td>F</td>\n",
       "      <td>111</td>\n",
       "      <td>151531</td>\n",
       "      <td>28</td>\n",
       "      <td>40.289999</td>\n",
       "      <td>2</td>\n",
       "      <td>...</td>\n",
       "      <td>20.145000</td>\n",
       "      <td>0.000000</td>\n",
       "      <td>0.018478</td>\n",
       "      <td>1.438929</td>\n",
       "      <td>0.001320</td>\n",
       "      <td>0.000000</td>\n",
       "      <td>20.145000</td>\n",
       "      <td>0.071429</td>\n",
       "      <td>0.000000</td>\n",
       "      <td>0.000000</td>\n",
       "    </tr>\n",
       "    <tr>\n",
       "      <th>1141</th>\n",
       "      <td>1314414</td>\n",
       "      <td>1178</td>\n",
       "      <td>179981</td>\n",
       "      <td>45-49</td>\n",
       "      <td>F</td>\n",
       "      <td>113</td>\n",
       "      <td>790253</td>\n",
       "      <td>135</td>\n",
       "      <td>198.710001</td>\n",
       "      <td>8</td>\n",
       "      <td>...</td>\n",
       "      <td>24.838750</td>\n",
       "      <td>99.355000</td>\n",
       "      <td>0.017083</td>\n",
       "      <td>1.471926</td>\n",
       "      <td>0.001012</td>\n",
       "      <td>0.000253</td>\n",
       "      <td>24.838750</td>\n",
       "      <td>0.059259</td>\n",
       "      <td>0.014815</td>\n",
       "      <td>0.250000</td>\n",
       "    </tr>\n",
       "    <tr>\n",
       "      <th>1142</th>\n",
       "      <td>1314415</td>\n",
       "      <td>1178</td>\n",
       "      <td>179982</td>\n",
       "      <td>45-49</td>\n",
       "      <td>F</td>\n",
       "      <td>114</td>\n",
       "      <td>513161</td>\n",
       "      <td>114</td>\n",
       "      <td>165.609999</td>\n",
       "      <td>5</td>\n",
       "      <td>...</td>\n",
       "      <td>33.122000</td>\n",
       "      <td>82.804999</td>\n",
       "      <td>0.022215</td>\n",
       "      <td>1.452719</td>\n",
       "      <td>0.000974</td>\n",
       "      <td>0.000390</td>\n",
       "      <td>33.122000</td>\n",
       "      <td>0.043860</td>\n",
       "      <td>0.017544</td>\n",
       "      <td>0.400000</td>\n",
       "    </tr>\n",
       "  </tbody>\n",
       "</table>\n",
       "<p>1143 rows × 22 columns</p>\n",
       "</div>"
      ],
      "text/plain": [
       "        ad_id  xyz_campaign_id  fb_campaign_id    age gender  interest  \\\n",
       "0      708746              916          103916  30-34      M        15   \n",
       "1      708749              916          103917  30-34      M        16   \n",
       "2      708771              916          103920  30-34      M        20   \n",
       "3      708815              916          103928  30-34      M        28   \n",
       "4      708818              916          103928  30-34      M        28   \n",
       "...       ...              ...             ...    ...    ...       ...   \n",
       "1138  1314410             1178          179977  45-49      F       109   \n",
       "1139  1314411             1178          179978  45-49      F       110   \n",
       "1140  1314412             1178          179979  45-49      F       111   \n",
       "1141  1314414             1178          179981  45-49      F       113   \n",
       "1142  1314415             1178          179982  45-49      F       114   \n",
       "\n",
       "      Impressions  Clicks       Spent  Total_Conversion  ...        CPL  \\\n",
       "0            7350       1    1.430000                 2  ...   0.715000   \n",
       "1           17861       2    1.820000                 2  ...   0.910000   \n",
       "2             693       0    0.000000                 1  ...   0.000000   \n",
       "3            4259       1    1.250000                 1  ...   1.250000   \n",
       "4            4133       1    1.290000                 1  ...   1.290000   \n",
       "...           ...     ...         ...               ...  ...        ...   \n",
       "1138      1129773     252  358.189997                13  ...  27.553077   \n",
       "1139       637549     120  173.880003                 3  ...  57.960001   \n",
       "1140       151531      28   40.289999                 2  ...  20.145000   \n",
       "1141       790253     135  198.710001                 8  ...  24.838750   \n",
       "1142       513161     114  165.609999                 5  ...  33.122000   \n",
       "\n",
       "             CPA       CTR       CPC  Conversion_Rate_Lead  \\\n",
       "0       1.430000  0.013605  1.430000              0.027211   \n",
       "1       0.000000  0.011198  0.910000              0.011198   \n",
       "2       0.000000  0.000000  0.000000              0.144300   \n",
       "3       0.000000  0.023480  1.250000              0.023480   \n",
       "4       1.290000  0.024195  1.290000              0.024195   \n",
       "...          ...       ...       ...                   ...   \n",
       "1138  179.094999  0.022305  1.421389              0.001151   \n",
       "1139    0.000000  0.018822  1.449000              0.000471   \n",
       "1140    0.000000  0.018478  1.438929              0.001320   \n",
       "1141   99.355000  0.017083  1.471926              0.001012   \n",
       "1142   82.804999  0.022215  1.452719              0.000974   \n",
       "\n",
       "      Conversion_Rate_Sale  Pct_Spent_per_Conversion  \\\n",
       "0                 0.013605                  0.715000   \n",
       "1                 0.000000                  0.910000   \n",
       "2                 0.000000                  0.000000   \n",
       "3                 0.000000                  1.250000   \n",
       "4                 0.024195                  1.290000   \n",
       "...                    ...                       ...   \n",
       "1138              0.000177                 27.553077   \n",
       "1139              0.000000                 57.960001   \n",
       "1140              0.000000                 20.145000   \n",
       "1141              0.000253                 24.838750   \n",
       "1142              0.000390                 33.122000   \n",
       "\n",
       "      Pct_Conversion_per_Click  Approved_Conversion_Rate  \\\n",
       "0                     2.000000                  1.000000   \n",
       "1                     1.000000                  0.000000   \n",
       "2                     0.000000                  0.000000   \n",
       "3                     1.000000                  0.000000   \n",
       "4                     1.000000                  1.000000   \n",
       "...                        ...                       ...   \n",
       "1138                  0.051587                  0.007937   \n",
       "1139                  0.025000                  0.000000   \n",
       "1140                  0.071429                  0.000000   \n",
       "1141                  0.059259                  0.014815   \n",
       "1142                  0.043860                  0.017544   \n",
       "\n",
       "      Pct_Approved_Conversion  \n",
       "0                    0.500000  \n",
       "1                    0.000000  \n",
       "2                    0.000000  \n",
       "3                    0.000000  \n",
       "4                    1.000000  \n",
       "...                       ...  \n",
       "1138                 0.153846  \n",
       "1139                 0.000000  \n",
       "1140                 0.000000  \n",
       "1141                 0.250000  \n",
       "1142                 0.400000  \n",
       "\n",
       "[1143 rows x 22 columns]"
      ]
     },
     "execution_count": 72,
     "metadata": {},
     "output_type": "execute_result"
    }
   ],
   "source": [
    "df"
   ]
  },
  {
   "cell_type": "code",
   "execution_count": 73,
   "metadata": {},
   "outputs": [
    {
     "data": {
      "text/html": [
       "<div>\n",
       "<style scoped>\n",
       "    .dataframe tbody tr th:only-of-type {\n",
       "        vertical-align: middle;\n",
       "    }\n",
       "\n",
       "    .dataframe tbody tr th {\n",
       "        vertical-align: top;\n",
       "    }\n",
       "\n",
       "    .dataframe thead th {\n",
       "        text-align: right;\n",
       "    }\n",
       "</style>\n",
       "<table border=\"1\" class=\"dataframe\">\n",
       "  <thead>\n",
       "    <tr style=\"text-align: right;\">\n",
       "      <th></th>\n",
       "      <th>count</th>\n",
       "      <th>mean</th>\n",
       "      <th>std</th>\n",
       "      <th>25%</th>\n",
       "      <th>50%</th>\n",
       "      <th>75%</th>\n",
       "      <th>max</th>\n",
       "    </tr>\n",
       "  </thead>\n",
       "  <tbody>\n",
       "    <tr>\n",
       "      <th>Impressions</th>\n",
       "      <td>1143.0</td>\n",
       "      <td>186732.132983</td>\n",
       "      <td>312762.183208</td>\n",
       "      <td>6503.500000</td>\n",
       "      <td>51509.000000</td>\n",
       "      <td>221769.000000</td>\n",
       "      <td>3.052003e+06</td>\n",
       "    </tr>\n",
       "    <tr>\n",
       "      <th>Clicks</th>\n",
       "      <td>1143.0</td>\n",
       "      <td>33.390201</td>\n",
       "      <td>56.892438</td>\n",
       "      <td>1.000000</td>\n",
       "      <td>8.000000</td>\n",
       "      <td>37.500000</td>\n",
       "      <td>4.210000e+02</td>\n",
       "    </tr>\n",
       "    <tr>\n",
       "      <th>Spent</th>\n",
       "      <td>1143.0</td>\n",
       "      <td>51.360656</td>\n",
       "      <td>86.908418</td>\n",
       "      <td>1.480000</td>\n",
       "      <td>12.370000</td>\n",
       "      <td>60.025000</td>\n",
       "      <td>6.399500e+02</td>\n",
       "    </tr>\n",
       "    <tr>\n",
       "      <th>Total_Conversion</th>\n",
       "      <td>1143.0</td>\n",
       "      <td>2.855643</td>\n",
       "      <td>4.483593</td>\n",
       "      <td>1.000000</td>\n",
       "      <td>1.000000</td>\n",
       "      <td>3.000000</td>\n",
       "      <td>6.000000e+01</td>\n",
       "    </tr>\n",
       "    <tr>\n",
       "      <th>Approved_Conversion</th>\n",
       "      <td>1143.0</td>\n",
       "      <td>0.944007</td>\n",
       "      <td>1.737708</td>\n",
       "      <td>0.000000</td>\n",
       "      <td>1.000000</td>\n",
       "      <td>1.000000</td>\n",
       "      <td>2.100000e+01</td>\n",
       "    </tr>\n",
       "    <tr>\n",
       "      <th>CPM</th>\n",
       "      <td>1143.0</td>\n",
       "      <td>0.239387</td>\n",
       "      <td>0.160908</td>\n",
       "      <td>0.148742</td>\n",
       "      <td>0.248816</td>\n",
       "      <td>0.332700</td>\n",
       "      <td>1.504237e+00</td>\n",
       "    </tr>\n",
       "    <tr>\n",
       "      <th>CPL</th>\n",
       "      <td>1143.0</td>\n",
       "      <td>16.016721</td>\n",
       "      <td>24.297504</td>\n",
       "      <td>1.380000</td>\n",
       "      <td>8.190000</td>\n",
       "      <td>21.229286</td>\n",
       "      <td>3.329900e+02</td>\n",
       "    </tr>\n",
       "    <tr>\n",
       "      <th>CPA</th>\n",
       "      <td>1143.0</td>\n",
       "      <td>20.719900</td>\n",
       "      <td>43.761027</td>\n",
       "      <td>0.000000</td>\n",
       "      <td>0.000000</td>\n",
       "      <td>24.075000</td>\n",
       "      <td>3.524500e+02</td>\n",
       "    </tr>\n",
       "    <tr>\n",
       "      <th>CTR</th>\n",
       "      <td>1143.0</td>\n",
       "      <td>0.016420</td>\n",
       "      <td>0.011506</td>\n",
       "      <td>0.010022</td>\n",
       "      <td>0.015981</td>\n",
       "      <td>0.023364</td>\n",
       "      <td>1.059322e-01</td>\n",
       "    </tr>\n",
       "    <tr>\n",
       "      <th>CPC</th>\n",
       "      <td>1143.0</td>\n",
       "      <td>1.227812</td>\n",
       "      <td>0.614889</td>\n",
       "      <td>1.234500</td>\n",
       "      <td>1.450000</td>\n",
       "      <td>1.600000</td>\n",
       "      <td>2.212000e+00</td>\n",
       "    </tr>\n",
       "    <tr>\n",
       "      <th>Conversion_Rate_Lead</th>\n",
       "      <td>1143.0</td>\n",
       "      <td>0.025251</td>\n",
       "      <td>0.071205</td>\n",
       "      <td>0.001212</td>\n",
       "      <td>0.003070</td>\n",
       "      <td>0.016941</td>\n",
       "      <td>1.149425e+00</td>\n",
       "    </tr>\n",
       "    <tr>\n",
       "      <th>Conversion_Rate_Sale</th>\n",
       "      <td>1143.0</td>\n",
       "      <td>0.010236</td>\n",
       "      <td>0.056594</td>\n",
       "      <td>0.000000</td>\n",
       "      <td>0.000142</td>\n",
       "      <td>0.001091</td>\n",
       "      <td>1.149425e+00</td>\n",
       "    </tr>\n",
       "    <tr>\n",
       "      <th>Pct_Spent_per_Conversion</th>\n",
       "      <td>1143.0</td>\n",
       "      <td>16.016721</td>\n",
       "      <td>24.297504</td>\n",
       "      <td>1.380000</td>\n",
       "      <td>8.190000</td>\n",
       "      <td>21.229286</td>\n",
       "      <td>3.329900e+02</td>\n",
       "    </tr>\n",
       "    <tr>\n",
       "      <th>Pct_Conversion_per_Click</th>\n",
       "      <td>1143.0</td>\n",
       "      <td>0.241699</td>\n",
       "      <td>0.368381</td>\n",
       "      <td>0.028571</td>\n",
       "      <td>0.090909</td>\n",
       "      <td>0.250000</td>\n",
       "      <td>4.000000e+00</td>\n",
       "    </tr>\n",
       "    <tr>\n",
       "      <th>Approved_Conversion_Rate</th>\n",
       "      <td>1143.0</td>\n",
       "      <td>0.089285</td>\n",
       "      <td>0.227438</td>\n",
       "      <td>0.000000</td>\n",
       "      <td>0.000000</td>\n",
       "      <td>0.045455</td>\n",
       "      <td>2.000000e+00</td>\n",
       "    </tr>\n",
       "    <tr>\n",
       "      <th>Pct_Approved_Conversion</th>\n",
       "      <td>1143.0</td>\n",
       "      <td>0.336707</td>\n",
       "      <td>0.401143</td>\n",
       "      <td>0.000000</td>\n",
       "      <td>0.153846</td>\n",
       "      <td>0.545455</td>\n",
       "      <td>1.000000e+00</td>\n",
       "    </tr>\n",
       "  </tbody>\n",
       "</table>\n",
       "</div>"
      ],
      "text/plain": [
       "                           count           mean            std          25%  \\\n",
       "Impressions               1143.0  186732.132983  312762.183208  6503.500000   \n",
       "Clicks                    1143.0      33.390201      56.892438     1.000000   \n",
       "Spent                     1143.0      51.360656      86.908418     1.480000   \n",
       "Total_Conversion          1143.0       2.855643       4.483593     1.000000   \n",
       "Approved_Conversion       1143.0       0.944007       1.737708     0.000000   \n",
       "CPM                       1143.0       0.239387       0.160908     0.148742   \n",
       "CPL                       1143.0      16.016721      24.297504     1.380000   \n",
       "CPA                       1143.0      20.719900      43.761027     0.000000   \n",
       "CTR                       1143.0       0.016420       0.011506     0.010022   \n",
       "CPC                       1143.0       1.227812       0.614889     1.234500   \n",
       "Conversion_Rate_Lead      1143.0       0.025251       0.071205     0.001212   \n",
       "Conversion_Rate_Sale      1143.0       0.010236       0.056594     0.000000   \n",
       "Pct_Spent_per_Conversion  1143.0      16.016721      24.297504     1.380000   \n",
       "Pct_Conversion_per_Click  1143.0       0.241699       0.368381     0.028571   \n",
       "Approved_Conversion_Rate  1143.0       0.089285       0.227438     0.000000   \n",
       "Pct_Approved_Conversion   1143.0       0.336707       0.401143     0.000000   \n",
       "\n",
       "                                   50%            75%           max  \n",
       "Impressions               51509.000000  221769.000000  3.052003e+06  \n",
       "Clicks                        8.000000      37.500000  4.210000e+02  \n",
       "Spent                        12.370000      60.025000  6.399500e+02  \n",
       "Total_Conversion              1.000000       3.000000  6.000000e+01  \n",
       "Approved_Conversion           1.000000       1.000000  2.100000e+01  \n",
       "CPM                           0.248816       0.332700  1.504237e+00  \n",
       "CPL                           8.190000      21.229286  3.329900e+02  \n",
       "CPA                           0.000000      24.075000  3.524500e+02  \n",
       "CTR                           0.015981       0.023364  1.059322e-01  \n",
       "CPC                           1.450000       1.600000  2.212000e+00  \n",
       "Conversion_Rate_Lead          0.003070       0.016941  1.149425e+00  \n",
       "Conversion_Rate_Sale          0.000142       0.001091  1.149425e+00  \n",
       "Pct_Spent_per_Conversion      8.190000      21.229286  3.329900e+02  \n",
       "Pct_Conversion_per_Click      0.090909       0.250000  4.000000e+00  \n",
       "Approved_Conversion_Rate      0.000000       0.045455  2.000000e+00  \n",
       "Pct_Approved_Conversion       0.153846       0.545455  1.000000e+00  "
      ]
     },
     "execution_count": 73,
     "metadata": {},
     "output_type": "execute_result"
    }
   ],
   "source": [
    "df.iloc[:,6:].describe().T.drop(\"min\",axis=1)"
   ]
  },
  {
   "cell_type": "code",
   "execution_count": 74,
   "metadata": {},
   "outputs": [],
   "source": [
    "import numpy as np\n",
    "import pandas as pd\n",
    "\n",
    "def detect_outliers_mad(df, column, threshold=3.5):\n",
    "\n",
    "    numeric_data = pd.to_numeric(df[column], errors='coerce')\n",
    "    \n",
    "    \n",
    "    if len(numeric_data) == 0:\n",
    "        return df, np.nan  # Retorna el DataFrame original si no hay datos válidos\n",
    "    \n",
    "    median = numeric_data.median()\n",
    "    \n",
    "    # Calculate MAD\n",
    "    mad = np.median(np.abs(numeric_data - median))\n",
    "    \n",
    "    if mad == 0:\n",
    "        return df, 0  # Retorna el DataFrame original si MAD es 0\n",
    "    \n",
    "    # Calculate the modified Z-score\n",
    "    modified_z_score = 0.6745 * (numeric_data - median) / mad\n",
    "    \n",
    "    # Filter out outliers\n",
    "    mask = abs(modified_z_score) < threshold\n",
    "    df_no_outliers = df[mask]\n",
    "    \n",
    "    return df_no_outliers, mad\n"
   ]
  },
  {
   "cell_type": "code",
   "execution_count": 75,
   "metadata": {},
   "outputs": [
    {
     "name": "stdout",
     "output_type": "stream",
     "text": [
      "<class 'pandas.core.frame.DataFrame'>\n",
      "RangeIndex: 1143 entries, 0 to 1142\n",
      "Data columns (total 22 columns):\n",
      " #   Column                    Non-Null Count  Dtype  \n",
      "---  ------                    --------------  -----  \n",
      " 0   ad_id                     1143 non-null   int64  \n",
      " 1   xyz_campaign_id           1143 non-null   int64  \n",
      " 2   fb_campaign_id            1143 non-null   int64  \n",
      " 3   age                       1143 non-null   object \n",
      " 4   gender                    1143 non-null   object \n",
      " 5   interest                  1143 non-null   int64  \n",
      " 6   Impressions               1143 non-null   int64  \n",
      " 7   Clicks                    1143 non-null   int64  \n",
      " 8   Spent                     1143 non-null   float64\n",
      " 9   Total_Conversion          1143 non-null   int64  \n",
      " 10  Approved_Conversion       1143 non-null   int64  \n",
      " 11  CPM                       1143 non-null   float64\n",
      " 12  CPL                       1143 non-null   float64\n",
      " 13  CPA                       1143 non-null   float64\n",
      " 14  CTR                       1143 non-null   float64\n",
      " 15  CPC                       1143 non-null   float64\n",
      " 16  Conversion_Rate_Lead      1143 non-null   float64\n",
      " 17  Conversion_Rate_Sale      1143 non-null   float64\n",
      " 18  Pct_Spent_per_Conversion  1143 non-null   float64\n",
      " 19  Pct_Conversion_per_Click  1143 non-null   float64\n",
      " 20  Approved_Conversion_Rate  1143 non-null   float64\n",
      " 21  Pct_Approved_Conversion   1143 non-null   float64\n",
      "dtypes: float64(12), int64(8), object(2)\n",
      "memory usage: 196.6+ KB\n"
     ]
    }
   ],
   "source": [
    "df.info()"
   ]
  },
  {
   "cell_type": "code",
   "execution_count": 76,
   "metadata": {},
   "outputs": [
    {
     "data": {
      "text/html": [
       "<div>\n",
       "<style scoped>\n",
       "    .dataframe tbody tr th:only-of-type {\n",
       "        vertical-align: middle;\n",
       "    }\n",
       "\n",
       "    .dataframe tbody tr th {\n",
       "        vertical-align: top;\n",
       "    }\n",
       "\n",
       "    .dataframe thead th {\n",
       "        text-align: right;\n",
       "    }\n",
       "</style>\n",
       "<table border=\"1\" class=\"dataframe\">\n",
       "  <thead>\n",
       "    <tr style=\"text-align: right;\">\n",
       "      <th></th>\n",
       "      <th>Impressions</th>\n",
       "      <th>Clicks</th>\n",
       "      <th>Spent</th>\n",
       "      <th>Total_Conversion</th>\n",
       "      <th>Approved_Conversion</th>\n",
       "      <th>CPM</th>\n",
       "      <th>CPL</th>\n",
       "      <th>CPA</th>\n",
       "      <th>CTR</th>\n",
       "      <th>CPC</th>\n",
       "      <th>Conversion_Rate_Lead</th>\n",
       "      <th>Conversion_Rate_Sale</th>\n",
       "      <th>Pct_Spent_per_Conversion</th>\n",
       "      <th>Pct_Conversion_per_Click</th>\n",
       "      <th>Approved_Conversion_Rate</th>\n",
       "      <th>Pct_Approved_Conversion</th>\n",
       "    </tr>\n",
       "  </thead>\n",
       "  <tbody>\n",
       "    <tr>\n",
       "      <th>0</th>\n",
       "      <td>7350</td>\n",
       "      <td>1</td>\n",
       "      <td>1.430000</td>\n",
       "      <td>2</td>\n",
       "      <td>1</td>\n",
       "      <td>0.194558</td>\n",
       "      <td>0.715000</td>\n",
       "      <td>1.430000</td>\n",
       "      <td>0.013605</td>\n",
       "      <td>1.430000</td>\n",
       "      <td>0.027211</td>\n",
       "      <td>0.013605</td>\n",
       "      <td>0.715000</td>\n",
       "      <td>2.000000</td>\n",
       "      <td>1.000000</td>\n",
       "      <td>0.500000</td>\n",
       "    </tr>\n",
       "    <tr>\n",
       "      <th>1</th>\n",
       "      <td>17861</td>\n",
       "      <td>2</td>\n",
       "      <td>1.820000</td>\n",
       "      <td>2</td>\n",
       "      <td>0</td>\n",
       "      <td>0.101898</td>\n",
       "      <td>0.910000</td>\n",
       "      <td>0.000000</td>\n",
       "      <td>0.011198</td>\n",
       "      <td>0.910000</td>\n",
       "      <td>0.011198</td>\n",
       "      <td>0.000000</td>\n",
       "      <td>0.910000</td>\n",
       "      <td>1.000000</td>\n",
       "      <td>0.000000</td>\n",
       "      <td>0.000000</td>\n",
       "    </tr>\n",
       "    <tr>\n",
       "      <th>2</th>\n",
       "      <td>693</td>\n",
       "      <td>0</td>\n",
       "      <td>0.000000</td>\n",
       "      <td>1</td>\n",
       "      <td>0</td>\n",
       "      <td>0.000000</td>\n",
       "      <td>0.000000</td>\n",
       "      <td>0.000000</td>\n",
       "      <td>0.000000</td>\n",
       "      <td>0.000000</td>\n",
       "      <td>0.144300</td>\n",
       "      <td>0.000000</td>\n",
       "      <td>0.000000</td>\n",
       "      <td>0.000000</td>\n",
       "      <td>0.000000</td>\n",
       "      <td>0.000000</td>\n",
       "    </tr>\n",
       "    <tr>\n",
       "      <th>3</th>\n",
       "      <td>4259</td>\n",
       "      <td>1</td>\n",
       "      <td>1.250000</td>\n",
       "      <td>1</td>\n",
       "      <td>0</td>\n",
       "      <td>0.293496</td>\n",
       "      <td>1.250000</td>\n",
       "      <td>0.000000</td>\n",
       "      <td>0.023480</td>\n",
       "      <td>1.250000</td>\n",
       "      <td>0.023480</td>\n",
       "      <td>0.000000</td>\n",
       "      <td>1.250000</td>\n",
       "      <td>1.000000</td>\n",
       "      <td>0.000000</td>\n",
       "      <td>0.000000</td>\n",
       "    </tr>\n",
       "    <tr>\n",
       "      <th>4</th>\n",
       "      <td>4133</td>\n",
       "      <td>1</td>\n",
       "      <td>1.290000</td>\n",
       "      <td>1</td>\n",
       "      <td>1</td>\n",
       "      <td>0.312122</td>\n",
       "      <td>1.290000</td>\n",
       "      <td>1.290000</td>\n",
       "      <td>0.024195</td>\n",
       "      <td>1.290000</td>\n",
       "      <td>0.024195</td>\n",
       "      <td>0.024195</td>\n",
       "      <td>1.290000</td>\n",
       "      <td>1.000000</td>\n",
       "      <td>1.000000</td>\n",
       "      <td>1.000000</td>\n",
       "    </tr>\n",
       "    <tr>\n",
       "      <th>...</th>\n",
       "      <td>...</td>\n",
       "      <td>...</td>\n",
       "      <td>...</td>\n",
       "      <td>...</td>\n",
       "      <td>...</td>\n",
       "      <td>...</td>\n",
       "      <td>...</td>\n",
       "      <td>...</td>\n",
       "      <td>...</td>\n",
       "      <td>...</td>\n",
       "      <td>...</td>\n",
       "      <td>...</td>\n",
       "      <td>...</td>\n",
       "      <td>...</td>\n",
       "      <td>...</td>\n",
       "      <td>...</td>\n",
       "    </tr>\n",
       "    <tr>\n",
       "      <th>1137</th>\n",
       "      <td>212508</td>\n",
       "      <td>33</td>\n",
       "      <td>47.690000</td>\n",
       "      <td>4</td>\n",
       "      <td>1</td>\n",
       "      <td>0.224415</td>\n",
       "      <td>11.922500</td>\n",
       "      <td>47.690000</td>\n",
       "      <td>0.015529</td>\n",
       "      <td>1.445152</td>\n",
       "      <td>0.001882</td>\n",
       "      <td>0.000471</td>\n",
       "      <td>11.922500</td>\n",
       "      <td>0.121212</td>\n",
       "      <td>0.030303</td>\n",
       "      <td>0.250000</td>\n",
       "    </tr>\n",
       "    <tr>\n",
       "      <th>1138</th>\n",
       "      <td>1129773</td>\n",
       "      <td>252</td>\n",
       "      <td>358.189997</td>\n",
       "      <td>13</td>\n",
       "      <td>2</td>\n",
       "      <td>0.317046</td>\n",
       "      <td>27.553077</td>\n",
       "      <td>179.094999</td>\n",
       "      <td>0.022305</td>\n",
       "      <td>1.421389</td>\n",
       "      <td>0.001151</td>\n",
       "      <td>0.000177</td>\n",
       "      <td>27.553077</td>\n",
       "      <td>0.051587</td>\n",
       "      <td>0.007937</td>\n",
       "      <td>0.153846</td>\n",
       "    </tr>\n",
       "    <tr>\n",
       "      <th>1140</th>\n",
       "      <td>151531</td>\n",
       "      <td>28</td>\n",
       "      <td>40.289999</td>\n",
       "      <td>2</td>\n",
       "      <td>0</td>\n",
       "      <td>0.265886</td>\n",
       "      <td>20.145000</td>\n",
       "      <td>0.000000</td>\n",
       "      <td>0.018478</td>\n",
       "      <td>1.438929</td>\n",
       "      <td>0.001320</td>\n",
       "      <td>0.000000</td>\n",
       "      <td>20.145000</td>\n",
       "      <td>0.071429</td>\n",
       "      <td>0.000000</td>\n",
       "      <td>0.000000</td>\n",
       "    </tr>\n",
       "    <tr>\n",
       "      <th>1141</th>\n",
       "      <td>790253</td>\n",
       "      <td>135</td>\n",
       "      <td>198.710001</td>\n",
       "      <td>8</td>\n",
       "      <td>2</td>\n",
       "      <td>0.251451</td>\n",
       "      <td>24.838750</td>\n",
       "      <td>99.355000</td>\n",
       "      <td>0.017083</td>\n",
       "      <td>1.471926</td>\n",
       "      <td>0.001012</td>\n",
       "      <td>0.000253</td>\n",
       "      <td>24.838750</td>\n",
       "      <td>0.059259</td>\n",
       "      <td>0.014815</td>\n",
       "      <td>0.250000</td>\n",
       "    </tr>\n",
       "    <tr>\n",
       "      <th>1142</th>\n",
       "      <td>513161</td>\n",
       "      <td>114</td>\n",
       "      <td>165.609999</td>\n",
       "      <td>5</td>\n",
       "      <td>2</td>\n",
       "      <td>0.322725</td>\n",
       "      <td>33.122000</td>\n",
       "      <td>82.804999</td>\n",
       "      <td>0.022215</td>\n",
       "      <td>1.452719</td>\n",
       "      <td>0.000974</td>\n",
       "      <td>0.000390</td>\n",
       "      <td>33.122000</td>\n",
       "      <td>0.043860</td>\n",
       "      <td>0.017544</td>\n",
       "      <td>0.400000</td>\n",
       "    </tr>\n",
       "  </tbody>\n",
       "</table>\n",
       "<p>1063 rows × 16 columns</p>\n",
       "</div>"
      ],
      "text/plain": [
       "      Impressions  Clicks       Spent  Total_Conversion  Approved_Conversion  \\\n",
       "0            7350       1    1.430000                 2                    1   \n",
       "1           17861       2    1.820000                 2                    0   \n",
       "2             693       0    0.000000                 1                    0   \n",
       "3            4259       1    1.250000                 1                    0   \n",
       "4            4133       1    1.290000                 1                    1   \n",
       "...           ...     ...         ...               ...                  ...   \n",
       "1137       212508      33   47.690000                 4                    1   \n",
       "1138      1129773     252  358.189997                13                    2   \n",
       "1140       151531      28   40.289999                 2                    0   \n",
       "1141       790253     135  198.710001                 8                    2   \n",
       "1142       513161     114  165.609999                 5                    2   \n",
       "\n",
       "           CPM        CPL         CPA       CTR       CPC  \\\n",
       "0     0.194558   0.715000    1.430000  0.013605  1.430000   \n",
       "1     0.101898   0.910000    0.000000  0.011198  0.910000   \n",
       "2     0.000000   0.000000    0.000000  0.000000  0.000000   \n",
       "3     0.293496   1.250000    0.000000  0.023480  1.250000   \n",
       "4     0.312122   1.290000    1.290000  0.024195  1.290000   \n",
       "...        ...        ...         ...       ...       ...   \n",
       "1137  0.224415  11.922500   47.690000  0.015529  1.445152   \n",
       "1138  0.317046  27.553077  179.094999  0.022305  1.421389   \n",
       "1140  0.265886  20.145000    0.000000  0.018478  1.438929   \n",
       "1141  0.251451  24.838750   99.355000  0.017083  1.471926   \n",
       "1142  0.322725  33.122000   82.804999  0.022215  1.452719   \n",
       "\n",
       "      Conversion_Rate_Lead  Conversion_Rate_Sale  Pct_Spent_per_Conversion  \\\n",
       "0                 0.027211              0.013605                  0.715000   \n",
       "1                 0.011198              0.000000                  0.910000   \n",
       "2                 0.144300              0.000000                  0.000000   \n",
       "3                 0.023480              0.000000                  1.250000   \n",
       "4                 0.024195              0.024195                  1.290000   \n",
       "...                    ...                   ...                       ...   \n",
       "1137              0.001882              0.000471                 11.922500   \n",
       "1138              0.001151              0.000177                 27.553077   \n",
       "1140              0.001320              0.000000                 20.145000   \n",
       "1141              0.001012              0.000253                 24.838750   \n",
       "1142              0.000974              0.000390                 33.122000   \n",
       "\n",
       "      Pct_Conversion_per_Click  Approved_Conversion_Rate  \\\n",
       "0                     2.000000                  1.000000   \n",
       "1                     1.000000                  0.000000   \n",
       "2                     0.000000                  0.000000   \n",
       "3                     1.000000                  0.000000   \n",
       "4                     1.000000                  1.000000   \n",
       "...                        ...                       ...   \n",
       "1137                  0.121212                  0.030303   \n",
       "1138                  0.051587                  0.007937   \n",
       "1140                  0.071429                  0.000000   \n",
       "1141                  0.059259                  0.014815   \n",
       "1142                  0.043860                  0.017544   \n",
       "\n",
       "      Pct_Approved_Conversion  \n",
       "0                    0.500000  \n",
       "1                    0.000000  \n",
       "2                    0.000000  \n",
       "3                    0.000000  \n",
       "4                    1.000000  \n",
       "...                       ...  \n",
       "1137                 0.250000  \n",
       "1138                 0.153846  \n",
       "1140                 0.000000  \n",
       "1141                 0.250000  \n",
       "1142                 0.400000  \n",
       "\n",
       "[1063 rows x 16 columns]"
      ]
     },
     "execution_count": 76,
     "metadata": {},
     "output_type": "execute_result"
    }
   ],
   "source": [
    "\n",
    "df_filtrado = df.iloc[:,6:]\n",
    "cols = df_filtrado.columns.to_list()\n",
    "\n",
    "df_mad, valores = detect_outliers_mad(df_filtrado,\"CPL\")\n",
    "df_mad "
   ]
  },
  {
   "cell_type": "code",
   "execution_count": 77,
   "metadata": {},
   "outputs": [
    {
     "data": {
      "text/plain": [
       "np.float64(8.189999896666667)"
      ]
     },
     "execution_count": 77,
     "metadata": {},
     "output_type": "execute_result"
    }
   ],
   "source": [
    "valores"
   ]
  },
  {
   "cell_type": "code",
   "execution_count": 78,
   "metadata": {},
   "outputs": [
    {
     "data": {
      "text/html": [
       "<div>\n",
       "<style scoped>\n",
       "    .dataframe tbody tr th:only-of-type {\n",
       "        vertical-align: middle;\n",
       "    }\n",
       "\n",
       "    .dataframe tbody tr th {\n",
       "        vertical-align: top;\n",
       "    }\n",
       "\n",
       "    .dataframe thead th {\n",
       "        text-align: right;\n",
       "    }\n",
       "</style>\n",
       "<table border=\"1\" class=\"dataframe\">\n",
       "  <thead>\n",
       "    <tr style=\"text-align: right;\">\n",
       "      <th></th>\n",
       "      <th>ad_id</th>\n",
       "      <th>xyz_campaign_id</th>\n",
       "      <th>fb_campaign_id</th>\n",
       "      <th>age</th>\n",
       "      <th>gender</th>\n",
       "      <th>interest</th>\n",
       "      <th>Impressions</th>\n",
       "      <th>Clicks</th>\n",
       "      <th>Spent</th>\n",
       "      <th>Total_Conversion</th>\n",
       "      <th>...</th>\n",
       "      <th>CPL</th>\n",
       "      <th>CPA</th>\n",
       "      <th>CTR</th>\n",
       "      <th>CPC</th>\n",
       "      <th>Conversion_Rate_Lead</th>\n",
       "      <th>Conversion_Rate_Sale</th>\n",
       "      <th>Pct_Spent_per_Conversion</th>\n",
       "      <th>Pct_Conversion_per_Click</th>\n",
       "      <th>Approved_Conversion_Rate</th>\n",
       "      <th>Pct_Approved_Conversion</th>\n",
       "    </tr>\n",
       "  </thead>\n",
       "  <tbody>\n",
       "    <tr>\n",
       "      <th>2</th>\n",
       "      <td>708771</td>\n",
       "      <td>916</td>\n",
       "      <td>103920</td>\n",
       "      <td>30-34</td>\n",
       "      <td>M</td>\n",
       "      <td>20</td>\n",
       "      <td>693</td>\n",
       "      <td>0</td>\n",
       "      <td>0.000000</td>\n",
       "      <td>1</td>\n",
       "      <td>...</td>\n",
       "      <td>0.000000</td>\n",
       "      <td>0.00</td>\n",
       "      <td>0.000000</td>\n",
       "      <td>0.000000</td>\n",
       "      <td>0.144300</td>\n",
       "      <td>0.000000</td>\n",
       "      <td>0.000000</td>\n",
       "      <td>0.000000</td>\n",
       "      <td>0.000000</td>\n",
       "      <td>0.0</td>\n",
       "    </tr>\n",
       "    <tr>\n",
       "      <th>3</th>\n",
       "      <td>708815</td>\n",
       "      <td>916</td>\n",
       "      <td>103928</td>\n",
       "      <td>30-34</td>\n",
       "      <td>M</td>\n",
       "      <td>28</td>\n",
       "      <td>4259</td>\n",
       "      <td>1</td>\n",
       "      <td>1.250000</td>\n",
       "      <td>1</td>\n",
       "      <td>...</td>\n",
       "      <td>1.250000</td>\n",
       "      <td>0.00</td>\n",
       "      <td>0.023480</td>\n",
       "      <td>1.250000</td>\n",
       "      <td>0.023480</td>\n",
       "      <td>0.000000</td>\n",
       "      <td>1.250000</td>\n",
       "      <td>1.000000</td>\n",
       "      <td>0.000000</td>\n",
       "      <td>0.0</td>\n",
       "    </tr>\n",
       "    <tr>\n",
       "      <th>4</th>\n",
       "      <td>708818</td>\n",
       "      <td>916</td>\n",
       "      <td>103928</td>\n",
       "      <td>30-34</td>\n",
       "      <td>M</td>\n",
       "      <td>28</td>\n",
       "      <td>4133</td>\n",
       "      <td>1</td>\n",
       "      <td>1.290000</td>\n",
       "      <td>1</td>\n",
       "      <td>...</td>\n",
       "      <td>1.290000</td>\n",
       "      <td>1.29</td>\n",
       "      <td>0.024195</td>\n",
       "      <td>1.290000</td>\n",
       "      <td>0.024195</td>\n",
       "      <td>0.024195</td>\n",
       "      <td>1.290000</td>\n",
       "      <td>1.000000</td>\n",
       "      <td>1.000000</td>\n",
       "      <td>1.0</td>\n",
       "    </tr>\n",
       "    <tr>\n",
       "      <th>5</th>\n",
       "      <td>708820</td>\n",
       "      <td>916</td>\n",
       "      <td>103929</td>\n",
       "      <td>30-34</td>\n",
       "      <td>M</td>\n",
       "      <td>29</td>\n",
       "      <td>1915</td>\n",
       "      <td>0</td>\n",
       "      <td>0.000000</td>\n",
       "      <td>1</td>\n",
       "      <td>...</td>\n",
       "      <td>0.000000</td>\n",
       "      <td>0.00</td>\n",
       "      <td>0.000000</td>\n",
       "      <td>0.000000</td>\n",
       "      <td>0.052219</td>\n",
       "      <td>0.052219</td>\n",
       "      <td>0.000000</td>\n",
       "      <td>0.000000</td>\n",
       "      <td>0.000000</td>\n",
       "      <td>1.0</td>\n",
       "    </tr>\n",
       "    <tr>\n",
       "      <th>6</th>\n",
       "      <td>708889</td>\n",
       "      <td>916</td>\n",
       "      <td>103940</td>\n",
       "      <td>30-34</td>\n",
       "      <td>M</td>\n",
       "      <td>15</td>\n",
       "      <td>15615</td>\n",
       "      <td>3</td>\n",
       "      <td>4.770000</td>\n",
       "      <td>1</td>\n",
       "      <td>...</td>\n",
       "      <td>4.770000</td>\n",
       "      <td>0.00</td>\n",
       "      <td>0.019212</td>\n",
       "      <td>1.590000</td>\n",
       "      <td>0.006404</td>\n",
       "      <td>0.000000</td>\n",
       "      <td>4.770000</td>\n",
       "      <td>0.333333</td>\n",
       "      <td>0.000000</td>\n",
       "      <td>0.0</td>\n",
       "    </tr>\n",
       "    <tr>\n",
       "      <th>...</th>\n",
       "      <td>...</td>\n",
       "      <td>...</td>\n",
       "      <td>...</td>\n",
       "      <td>...</td>\n",
       "      <td>...</td>\n",
       "      <td>...</td>\n",
       "      <td>...</td>\n",
       "      <td>...</td>\n",
       "      <td>...</td>\n",
       "      <td>...</td>\n",
       "      <td>...</td>\n",
       "      <td>...</td>\n",
       "      <td>...</td>\n",
       "      <td>...</td>\n",
       "      <td>...</td>\n",
       "      <td>...</td>\n",
       "      <td>...</td>\n",
       "      <td>...</td>\n",
       "      <td>...</td>\n",
       "      <td>...</td>\n",
       "      <td>...</td>\n",
       "    </tr>\n",
       "    <tr>\n",
       "      <th>1114</th>\n",
       "      <td>1314385</td>\n",
       "      <td>1178</td>\n",
       "      <td>179952</td>\n",
       "      <td>35-39</td>\n",
       "      <td>F</td>\n",
       "      <td>114</td>\n",
       "      <td>90470</td>\n",
       "      <td>11</td>\n",
       "      <td>16.730000</td>\n",
       "      <td>1</td>\n",
       "      <td>...</td>\n",
       "      <td>16.730000</td>\n",
       "      <td>16.73</td>\n",
       "      <td>0.012159</td>\n",
       "      <td>1.520909</td>\n",
       "      <td>0.001105</td>\n",
       "      <td>0.001105</td>\n",
       "      <td>16.730000</td>\n",
       "      <td>0.090909</td>\n",
       "      <td>0.090909</td>\n",
       "      <td>1.0</td>\n",
       "    </tr>\n",
       "    <tr>\n",
       "      <th>1117</th>\n",
       "      <td>1314388</td>\n",
       "      <td>1178</td>\n",
       "      <td>179955</td>\n",
       "      <td>40-44</td>\n",
       "      <td>F</td>\n",
       "      <td>102</td>\n",
       "      <td>329333</td>\n",
       "      <td>48</td>\n",
       "      <td>67.609999</td>\n",
       "      <td>1</td>\n",
       "      <td>...</td>\n",
       "      <td>67.609999</td>\n",
       "      <td>0.00</td>\n",
       "      <td>0.014575</td>\n",
       "      <td>1.408542</td>\n",
       "      <td>0.000304</td>\n",
       "      <td>0.000000</td>\n",
       "      <td>67.609999</td>\n",
       "      <td>0.020833</td>\n",
       "      <td>0.000000</td>\n",
       "      <td>0.0</td>\n",
       "    </tr>\n",
       "    <tr>\n",
       "      <th>1126</th>\n",
       "      <td>1314397</td>\n",
       "      <td>1178</td>\n",
       "      <td>179964</td>\n",
       "      <td>40-44</td>\n",
       "      <td>F</td>\n",
       "      <td>111</td>\n",
       "      <td>402975</td>\n",
       "      <td>83</td>\n",
       "      <td>120.899998</td>\n",
       "      <td>1</td>\n",
       "      <td>...</td>\n",
       "      <td>120.899998</td>\n",
       "      <td>0.00</td>\n",
       "      <td>0.020597</td>\n",
       "      <td>1.456626</td>\n",
       "      <td>0.000248</td>\n",
       "      <td>0.000000</td>\n",
       "      <td>120.899998</td>\n",
       "      <td>0.012048</td>\n",
       "      <td>0.000000</td>\n",
       "      <td>0.0</td>\n",
       "    </tr>\n",
       "    <tr>\n",
       "      <th>1132</th>\n",
       "      <td>1314404</td>\n",
       "      <td>1178</td>\n",
       "      <td>179971</td>\n",
       "      <td>45-49</td>\n",
       "      <td>F</td>\n",
       "      <td>103</td>\n",
       "      <td>71982</td>\n",
       "      <td>11</td>\n",
       "      <td>16.340001</td>\n",
       "      <td>1</td>\n",
       "      <td>...</td>\n",
       "      <td>16.340001</td>\n",
       "      <td>0.00</td>\n",
       "      <td>0.015282</td>\n",
       "      <td>1.485455</td>\n",
       "      <td>0.001389</td>\n",
       "      <td>0.000000</td>\n",
       "      <td>16.340001</td>\n",
       "      <td>0.090909</td>\n",
       "      <td>0.000000</td>\n",
       "      <td>0.0</td>\n",
       "    </tr>\n",
       "    <tr>\n",
       "      <th>1135</th>\n",
       "      <td>1314407</td>\n",
       "      <td>1178</td>\n",
       "      <td>179974</td>\n",
       "      <td>45-49</td>\n",
       "      <td>F</td>\n",
       "      <td>106</td>\n",
       "      <td>107100</td>\n",
       "      <td>23</td>\n",
       "      <td>33.710001</td>\n",
       "      <td>1</td>\n",
       "      <td>...</td>\n",
       "      <td>33.710001</td>\n",
       "      <td>0.00</td>\n",
       "      <td>0.021475</td>\n",
       "      <td>1.465652</td>\n",
       "      <td>0.000934</td>\n",
       "      <td>0.000000</td>\n",
       "      <td>33.710001</td>\n",
       "      <td>0.043478</td>\n",
       "      <td>0.000000</td>\n",
       "      <td>0.0</td>\n",
       "    </tr>\n",
       "  </tbody>\n",
       "</table>\n",
       "<p>674 rows × 22 columns</p>\n",
       "</div>"
      ],
      "text/plain": [
       "        ad_id  xyz_campaign_id  fb_campaign_id    age gender  interest  \\\n",
       "2      708771              916          103920  30-34      M        20   \n",
       "3      708815              916          103928  30-34      M        28   \n",
       "4      708818              916          103928  30-34      M        28   \n",
       "5      708820              916          103929  30-34      M        29   \n",
       "6      708889              916          103940  30-34      M        15   \n",
       "...       ...              ...             ...    ...    ...       ...   \n",
       "1114  1314385             1178          179952  35-39      F       114   \n",
       "1117  1314388             1178          179955  40-44      F       102   \n",
       "1126  1314397             1178          179964  40-44      F       111   \n",
       "1132  1314404             1178          179971  45-49      F       103   \n",
       "1135  1314407             1178          179974  45-49      F       106   \n",
       "\n",
       "      Impressions  Clicks       Spent  Total_Conversion  ...         CPL  \\\n",
       "2             693       0    0.000000                 1  ...    0.000000   \n",
       "3            4259       1    1.250000                 1  ...    1.250000   \n",
       "4            4133       1    1.290000                 1  ...    1.290000   \n",
       "5            1915       0    0.000000                 1  ...    0.000000   \n",
       "6           15615       3    4.770000                 1  ...    4.770000   \n",
       "...           ...     ...         ...               ...  ...         ...   \n",
       "1114        90470      11   16.730000                 1  ...   16.730000   \n",
       "1117       329333      48   67.609999                 1  ...   67.609999   \n",
       "1126       402975      83  120.899998                 1  ...  120.899998   \n",
       "1132        71982      11   16.340001                 1  ...   16.340001   \n",
       "1135       107100      23   33.710001                 1  ...   33.710001   \n",
       "\n",
       "        CPA       CTR       CPC  Conversion_Rate_Lead  Conversion_Rate_Sale  \\\n",
       "2      0.00  0.000000  0.000000              0.144300              0.000000   \n",
       "3      0.00  0.023480  1.250000              0.023480              0.000000   \n",
       "4      1.29  0.024195  1.290000              0.024195              0.024195   \n",
       "5      0.00  0.000000  0.000000              0.052219              0.052219   \n",
       "6      0.00  0.019212  1.590000              0.006404              0.000000   \n",
       "...     ...       ...       ...                   ...                   ...   \n",
       "1114  16.73  0.012159  1.520909              0.001105              0.001105   \n",
       "1117   0.00  0.014575  1.408542              0.000304              0.000000   \n",
       "1126   0.00  0.020597  1.456626              0.000248              0.000000   \n",
       "1132   0.00  0.015282  1.485455              0.001389              0.000000   \n",
       "1135   0.00  0.021475  1.465652              0.000934              0.000000   \n",
       "\n",
       "      Pct_Spent_per_Conversion  Pct_Conversion_per_Click  \\\n",
       "2                     0.000000                  0.000000   \n",
       "3                     1.250000                  1.000000   \n",
       "4                     1.290000                  1.000000   \n",
       "5                     0.000000                  0.000000   \n",
       "6                     4.770000                  0.333333   \n",
       "...                        ...                       ...   \n",
       "1114                 16.730000                  0.090909   \n",
       "1117                 67.609999                  0.020833   \n",
       "1126                120.899998                  0.012048   \n",
       "1132                 16.340001                  0.090909   \n",
       "1135                 33.710001                  0.043478   \n",
       "\n",
       "      Approved_Conversion_Rate  Pct_Approved_Conversion  \n",
       "2                     0.000000                      0.0  \n",
       "3                     0.000000                      0.0  \n",
       "4                     1.000000                      1.0  \n",
       "5                     0.000000                      1.0  \n",
       "6                     0.000000                      0.0  \n",
       "...                        ...                      ...  \n",
       "1114                  0.090909                      1.0  \n",
       "1117                  0.000000                      0.0  \n",
       "1126                  0.000000                      0.0  \n",
       "1132                  0.000000                      0.0  \n",
       "1135                  0.000000                      0.0  \n",
       "\n",
       "[674 rows x 22 columns]"
      ]
     },
     "execution_count": 78,
     "metadata": {},
     "output_type": "execute_result"
    }
   ],
   "source": [
    "series =pd.to_numeric(df[\"Total_Conversion\"], errors='coerce')*0.6745\n",
    "df[abs(series) < 1]"
   ]
  },
  {
   "cell_type": "code",
   "execution_count": null,
   "metadata": {},
   "outputs": [],
   "source": []
  },
  {
   "cell_type": "code",
   "execution_count": 79,
   "metadata": {},
   "outputs": [],
   "source": [
    "\n",
    "\n",
    "#Se puede hacer con menos columnas pero dejamos todas.\n",
    "\n",
    "def encoder_one_hot(df,columns_to_encode):\n",
    "    encoder = OneHotEncoder()\n",
    "\n",
    "    encoded_cols = encoder.fit_transform(df[columns_to_encode])\n",
    "\n",
    "    new_columns = encoder.get_feature_names_out(columns_to_encode)\n",
    "\n",
    "    # Nuevo DataFrame con las columnas codificadas\n",
    "    encoded_df = pd.DataFrame(encoded_cols.toarray(), columns=new_columns, index=df.index)\n",
    "\n",
    "    # Concatenar el DataFrame original con las nuevas columnas codificadas\n",
    "    result_df = pd.concat([df.drop(columns=columns_to_encode), encoded_df], axis=1)\n",
    "\n",
    "    return result_df\n",
    "\n",
    "columns_to_encode = ['xyz_campaign_id','age', 'gender', 'interest']\n",
    "\n",
    "df_to_encode = df.drop([\"ad_id\",\"fb_campaign_id\"],axis=1)\n",
    "\n",
    "df_result = encoder_one_hot(df_to_encode,columns_to_encode)"
   ]
  },
  {
   "cell_type": "code",
   "execution_count": 81,
   "metadata": {},
   "outputs": [
    {
     "data": {
      "text/plain": [
       "['Impressions',\n",
       " 'Clicks',\n",
       " 'Spent',\n",
       " 'Total_Conversion',\n",
       " 'Approved_Conversion',\n",
       " 'CPM',\n",
       " 'CPL',\n",
       " 'CPA',\n",
       " 'CTR',\n",
       " 'CPC',\n",
       " 'Conversion_Rate_Lead',\n",
       " 'Conversion_Rate_Sale',\n",
       " 'Pct_Spent_per_Conversion',\n",
       " 'Pct_Conversion_per_Click',\n",
       " 'Approved_Conversion_Rate',\n",
       " 'Pct_Approved_Conversion',\n",
       " 'xyz_campaign_id_916',\n",
       " 'xyz_campaign_id_936',\n",
       " 'xyz_campaign_id_1178',\n",
       " 'age_30-34',\n",
       " 'age_35-39',\n",
       " 'age_40-44',\n",
       " 'age_45-49',\n",
       " 'gender_F',\n",
       " 'gender_M']"
      ]
     },
     "execution_count": 81,
     "metadata": {},
     "output_type": "execute_result"
    }
   ],
   "source": [
    "[col for col in df_result.columns if not col.startswith(\"interest\")]"
   ]
  },
  {
   "cell_type": "code",
   "execution_count": 88,
   "metadata": {},
   "outputs": [],
   "source": [
    "#df_result.to_csv(\"archive/datos_one_hot.csv\",index=False)\n",
    "df2 = pd.read_csv(\"archive/datos_one_hot.csv\")"
   ]
  },
  {
   "cell_type": "code",
   "execution_count": 103,
   "metadata": {},
   "outputs": [],
   "source": [
    "cols = [col for col in df2.columns if \"interest\" not in col]\n",
    "df2_no_int = df2[cols]"
   ]
  },
  {
   "cell_type": "code",
   "execution_count": 112,
   "metadata": {},
   "outputs": [
    {
     "data": {
      "application/vnd.plotly.v1+json": {
       "config": {
        "plotlyServerURL": "https://plot.ly"
       },
       "data": [
        {
         "colorscale": [
          [
           0,
           "#440154"
          ],
          [
           0.1111111111111111,
           "#482878"
          ],
          [
           0.2222222222222222,
           "#3e4989"
          ],
          [
           0.3333333333333333,
           "#31688e"
          ],
          [
           0.4444444444444444,
           "#26828e"
          ],
          [
           0.5555555555555556,
           "#1f9e89"
          ],
          [
           0.6666666666666666,
           "#35b779"
          ],
          [
           0.7777777777777778,
           "#6ece58"
          ],
          [
           0.8888888888888888,
           "#b5de2b"
          ],
          [
           1,
           "#fde725"
          ]
         ],
         "hoverongaps": false,
         "hovertemplate": "X: %{x}<br>Y: %{y}<br>Correlación: %{z}<extra></extra>",
         "type": "heatmap",
         "x": [
          "xyz_campaign_id_916",
          "xyz_campaign_id_936",
          "xyz_campaign_id_1178",
          "gender_F",
          "gender_M"
         ],
         "y": [
          "Impressions",
          "Clicks",
          "Spent",
          "Total_Conversion",
          "Approved_Conversion",
          "CPM",
          "CPL",
          "CPA",
          "CTR",
          "CPC"
         ],
         "z": [
          [
           -0.1266379418289093,
           -0.4474427505802775,
           0.495366197207192,
           0.06705917084742763,
           -0.06705917084742762
          ],
          [
           -0.12255459851807793,
           -0.4232203636301332,
           0.46973096737901343,
           0.16872496720026814,
           -0.168724967200268
          ],
          [
           -0.12454961946151138,
           -0.4294068885104323,
           0.4766841235523997,
           0.12502194079378315,
           -0.12502194079378304
          ],
          [
           -0.08852163262436465,
           -0.3132609790116157,
           0.3467534586678448,
           0.02755921475305265,
           -0.02755921475305255
          ],
          [
           -0.06404512522379342,
           -0.2615726570211242,
           0.28533217315671316,
           -0.025349977737493055,
           0.02534997773749314
          ],
          [
           0.0019596008442023093,
           -0.0781830043475513,
           0.0762909277446551,
           0.20900496207095043,
           -0.20900496207095037
          ],
          [
           -0.122199049445587,
           -0.3784496785159245,
           0.42541397792864644,
           0.13650339291240007,
           -0.13650339291240005
          ],
          [
           -0.098372480468178,
           -0.3530710985021082,
           0.3902237677256416,
           0.08072625101355024,
           -0.0807262510135502
          ],
          [
           0.03088399084280978,
           0.005881876679424805,
           -0.018964892272221145,
           0.24917542312204974,
           -0.2491754231220497
          ],
          [
           -0.13244059178641832,
           -0.5125334663523162,
           0.5620500372308287,
           -0.042440039557633945,
           0.042440039557634264
          ]
         ]
        }
       ],
       "layout": {
        "coloraxis": {
         "colorbar": {
          "title": {
           "text": "Correlación"
          }
         }
        },
        "template": {
         "data": {
          "bar": [
           {
            "error_x": {
             "color": "#2a3f5f"
            },
            "error_y": {
             "color": "#2a3f5f"
            },
            "marker": {
             "line": {
              "color": "#E5ECF6",
              "width": 0.5
             },
             "pattern": {
              "fillmode": "overlay",
              "size": 10,
              "solidity": 0.2
             }
            },
            "type": "bar"
           }
          ],
          "barpolar": [
           {
            "marker": {
             "line": {
              "color": "#E5ECF6",
              "width": 0.5
             },
             "pattern": {
              "fillmode": "overlay",
              "size": 10,
              "solidity": 0.2
             }
            },
            "type": "barpolar"
           }
          ],
          "carpet": [
           {
            "aaxis": {
             "endlinecolor": "#2a3f5f",
             "gridcolor": "white",
             "linecolor": "white",
             "minorgridcolor": "white",
             "startlinecolor": "#2a3f5f"
            },
            "baxis": {
             "endlinecolor": "#2a3f5f",
             "gridcolor": "white",
             "linecolor": "white",
             "minorgridcolor": "white",
             "startlinecolor": "#2a3f5f"
            },
            "type": "carpet"
           }
          ],
          "choropleth": [
           {
            "colorbar": {
             "outlinewidth": 0,
             "ticks": ""
            },
            "type": "choropleth"
           }
          ],
          "contour": [
           {
            "colorbar": {
             "outlinewidth": 0,
             "ticks": ""
            },
            "colorscale": [
             [
              0,
              "#0d0887"
             ],
             [
              0.1111111111111111,
              "#46039f"
             ],
             [
              0.2222222222222222,
              "#7201a8"
             ],
             [
              0.3333333333333333,
              "#9c179e"
             ],
             [
              0.4444444444444444,
              "#bd3786"
             ],
             [
              0.5555555555555556,
              "#d8576b"
             ],
             [
              0.6666666666666666,
              "#ed7953"
             ],
             [
              0.7777777777777778,
              "#fb9f3a"
             ],
             [
              0.8888888888888888,
              "#fdca26"
             ],
             [
              1,
              "#f0f921"
             ]
            ],
            "type": "contour"
           }
          ],
          "contourcarpet": [
           {
            "colorbar": {
             "outlinewidth": 0,
             "ticks": ""
            },
            "type": "contourcarpet"
           }
          ],
          "heatmap": [
           {
            "colorbar": {
             "outlinewidth": 0,
             "ticks": ""
            },
            "colorscale": [
             [
              0,
              "#0d0887"
             ],
             [
              0.1111111111111111,
              "#46039f"
             ],
             [
              0.2222222222222222,
              "#7201a8"
             ],
             [
              0.3333333333333333,
              "#9c179e"
             ],
             [
              0.4444444444444444,
              "#bd3786"
             ],
             [
              0.5555555555555556,
              "#d8576b"
             ],
             [
              0.6666666666666666,
              "#ed7953"
             ],
             [
              0.7777777777777778,
              "#fb9f3a"
             ],
             [
              0.8888888888888888,
              "#fdca26"
             ],
             [
              1,
              "#f0f921"
             ]
            ],
            "type": "heatmap"
           }
          ],
          "heatmapgl": [
           {
            "colorbar": {
             "outlinewidth": 0,
             "ticks": ""
            },
            "colorscale": [
             [
              0,
              "#0d0887"
             ],
             [
              0.1111111111111111,
              "#46039f"
             ],
             [
              0.2222222222222222,
              "#7201a8"
             ],
             [
              0.3333333333333333,
              "#9c179e"
             ],
             [
              0.4444444444444444,
              "#bd3786"
             ],
             [
              0.5555555555555556,
              "#d8576b"
             ],
             [
              0.6666666666666666,
              "#ed7953"
             ],
             [
              0.7777777777777778,
              "#fb9f3a"
             ],
             [
              0.8888888888888888,
              "#fdca26"
             ],
             [
              1,
              "#f0f921"
             ]
            ],
            "type": "heatmapgl"
           }
          ],
          "histogram": [
           {
            "marker": {
             "pattern": {
              "fillmode": "overlay",
              "size": 10,
              "solidity": 0.2
             }
            },
            "type": "histogram"
           }
          ],
          "histogram2d": [
           {
            "colorbar": {
             "outlinewidth": 0,
             "ticks": ""
            },
            "colorscale": [
             [
              0,
              "#0d0887"
             ],
             [
              0.1111111111111111,
              "#46039f"
             ],
             [
              0.2222222222222222,
              "#7201a8"
             ],
             [
              0.3333333333333333,
              "#9c179e"
             ],
             [
              0.4444444444444444,
              "#bd3786"
             ],
             [
              0.5555555555555556,
              "#d8576b"
             ],
             [
              0.6666666666666666,
              "#ed7953"
             ],
             [
              0.7777777777777778,
              "#fb9f3a"
             ],
             [
              0.8888888888888888,
              "#fdca26"
             ],
             [
              1,
              "#f0f921"
             ]
            ],
            "type": "histogram2d"
           }
          ],
          "histogram2dcontour": [
           {
            "colorbar": {
             "outlinewidth": 0,
             "ticks": ""
            },
            "colorscale": [
             [
              0,
              "#0d0887"
             ],
             [
              0.1111111111111111,
              "#46039f"
             ],
             [
              0.2222222222222222,
              "#7201a8"
             ],
             [
              0.3333333333333333,
              "#9c179e"
             ],
             [
              0.4444444444444444,
              "#bd3786"
             ],
             [
              0.5555555555555556,
              "#d8576b"
             ],
             [
              0.6666666666666666,
              "#ed7953"
             ],
             [
              0.7777777777777778,
              "#fb9f3a"
             ],
             [
              0.8888888888888888,
              "#fdca26"
             ],
             [
              1,
              "#f0f921"
             ]
            ],
            "type": "histogram2dcontour"
           }
          ],
          "mesh3d": [
           {
            "colorbar": {
             "outlinewidth": 0,
             "ticks": ""
            },
            "type": "mesh3d"
           }
          ],
          "parcoords": [
           {
            "line": {
             "colorbar": {
              "outlinewidth": 0,
              "ticks": ""
             }
            },
            "type": "parcoords"
           }
          ],
          "pie": [
           {
            "automargin": true,
            "type": "pie"
           }
          ],
          "scatter": [
           {
            "fillpattern": {
             "fillmode": "overlay",
             "size": 10,
             "solidity": 0.2
            },
            "type": "scatter"
           }
          ],
          "scatter3d": [
           {
            "line": {
             "colorbar": {
              "outlinewidth": 0,
              "ticks": ""
             }
            },
            "marker": {
             "colorbar": {
              "outlinewidth": 0,
              "ticks": ""
             }
            },
            "type": "scatter3d"
           }
          ],
          "scattercarpet": [
           {
            "marker": {
             "colorbar": {
              "outlinewidth": 0,
              "ticks": ""
             }
            },
            "type": "scattercarpet"
           }
          ],
          "scattergeo": [
           {
            "marker": {
             "colorbar": {
              "outlinewidth": 0,
              "ticks": ""
             }
            },
            "type": "scattergeo"
           }
          ],
          "scattergl": [
           {
            "marker": {
             "colorbar": {
              "outlinewidth": 0,
              "ticks": ""
             }
            },
            "type": "scattergl"
           }
          ],
          "scattermapbox": [
           {
            "marker": {
             "colorbar": {
              "outlinewidth": 0,
              "ticks": ""
             }
            },
            "type": "scattermapbox"
           }
          ],
          "scatterpolar": [
           {
            "marker": {
             "colorbar": {
              "outlinewidth": 0,
              "ticks": ""
             }
            },
            "type": "scatterpolar"
           }
          ],
          "scatterpolargl": [
           {
            "marker": {
             "colorbar": {
              "outlinewidth": 0,
              "ticks": ""
             }
            },
            "type": "scatterpolargl"
           }
          ],
          "scatterternary": [
           {
            "marker": {
             "colorbar": {
              "outlinewidth": 0,
              "ticks": ""
             }
            },
            "type": "scatterternary"
           }
          ],
          "surface": [
           {
            "colorbar": {
             "outlinewidth": 0,
             "ticks": ""
            },
            "colorscale": [
             [
              0,
              "#0d0887"
             ],
             [
              0.1111111111111111,
              "#46039f"
             ],
             [
              0.2222222222222222,
              "#7201a8"
             ],
             [
              0.3333333333333333,
              "#9c179e"
             ],
             [
              0.4444444444444444,
              "#bd3786"
             ],
             [
              0.5555555555555556,
              "#d8576b"
             ],
             [
              0.6666666666666666,
              "#ed7953"
             ],
             [
              0.7777777777777778,
              "#fb9f3a"
             ],
             [
              0.8888888888888888,
              "#fdca26"
             ],
             [
              1,
              "#f0f921"
             ]
            ],
            "type": "surface"
           }
          ],
          "table": [
           {
            "cells": {
             "fill": {
              "color": "#EBF0F8"
             },
             "line": {
              "color": "white"
             }
            },
            "header": {
             "fill": {
              "color": "#C8D4E3"
             },
             "line": {
              "color": "white"
             }
            },
            "type": "table"
           }
          ]
         },
         "layout": {
          "annotationdefaults": {
           "arrowcolor": "#2a3f5f",
           "arrowhead": 0,
           "arrowwidth": 1
          },
          "autotypenumbers": "strict",
          "coloraxis": {
           "colorbar": {
            "outlinewidth": 0,
            "ticks": ""
           }
          },
          "colorscale": {
           "diverging": [
            [
             0,
             "#8e0152"
            ],
            [
             0.1,
             "#c51b7d"
            ],
            [
             0.2,
             "#de77ae"
            ],
            [
             0.3,
             "#f1b6da"
            ],
            [
             0.4,
             "#fde0ef"
            ],
            [
             0.5,
             "#f7f7f7"
            ],
            [
             0.6,
             "#e6f5d0"
            ],
            [
             0.7,
             "#b8e186"
            ],
            [
             0.8,
             "#7fbc41"
            ],
            [
             0.9,
             "#4d9221"
            ],
            [
             1,
             "#276419"
            ]
           ],
           "sequential": [
            [
             0,
             "#0d0887"
            ],
            [
             0.1111111111111111,
             "#46039f"
            ],
            [
             0.2222222222222222,
             "#7201a8"
            ],
            [
             0.3333333333333333,
             "#9c179e"
            ],
            [
             0.4444444444444444,
             "#bd3786"
            ],
            [
             0.5555555555555556,
             "#d8576b"
            ],
            [
             0.6666666666666666,
             "#ed7953"
            ],
            [
             0.7777777777777778,
             "#fb9f3a"
            ],
            [
             0.8888888888888888,
             "#fdca26"
            ],
            [
             1,
             "#f0f921"
            ]
           ],
           "sequentialminus": [
            [
             0,
             "#0d0887"
            ],
            [
             0.1111111111111111,
             "#46039f"
            ],
            [
             0.2222222222222222,
             "#7201a8"
            ],
            [
             0.3333333333333333,
             "#9c179e"
            ],
            [
             0.4444444444444444,
             "#bd3786"
            ],
            [
             0.5555555555555556,
             "#d8576b"
            ],
            [
             0.6666666666666666,
             "#ed7953"
            ],
            [
             0.7777777777777778,
             "#fb9f3a"
            ],
            [
             0.8888888888888888,
             "#fdca26"
            ],
            [
             1,
             "#f0f921"
            ]
           ]
          },
          "colorway": [
           "#636efa",
           "#EF553B",
           "#00cc96",
           "#ab63fa",
           "#FFA15A",
           "#19d3f3",
           "#FF6692",
           "#B6E880",
           "#FF97FF",
           "#FECB52"
          ],
          "font": {
           "color": "#2a3f5f"
          },
          "geo": {
           "bgcolor": "white",
           "lakecolor": "white",
           "landcolor": "#E5ECF6",
           "showlakes": true,
           "showland": true,
           "subunitcolor": "white"
          },
          "hoverlabel": {
           "align": "left"
          },
          "hovermode": "closest",
          "mapbox": {
           "style": "light"
          },
          "paper_bgcolor": "white",
          "plot_bgcolor": "#E5ECF6",
          "polar": {
           "angularaxis": {
            "gridcolor": "white",
            "linecolor": "white",
            "ticks": ""
           },
           "bgcolor": "#E5ECF6",
           "radialaxis": {
            "gridcolor": "white",
            "linecolor": "white",
            "ticks": ""
           }
          },
          "scene": {
           "xaxis": {
            "backgroundcolor": "#E5ECF6",
            "gridcolor": "white",
            "gridwidth": 2,
            "linecolor": "white",
            "showbackground": true,
            "ticks": "",
            "zerolinecolor": "white"
           },
           "yaxis": {
            "backgroundcolor": "#E5ECF6",
            "gridcolor": "white",
            "gridwidth": 2,
            "linecolor": "white",
            "showbackground": true,
            "ticks": "",
            "zerolinecolor": "white"
           },
           "zaxis": {
            "backgroundcolor": "#E5ECF6",
            "gridcolor": "white",
            "gridwidth": 2,
            "linecolor": "white",
            "showbackground": true,
            "ticks": "",
            "zerolinecolor": "white"
           }
          },
          "shapedefaults": {
           "line": {
            "color": "#2a3f5f"
           }
          },
          "ternary": {
           "aaxis": {
            "gridcolor": "white",
            "linecolor": "white",
            "ticks": ""
           },
           "baxis": {
            "gridcolor": "white",
            "linecolor": "white",
            "ticks": ""
           },
           "bgcolor": "#E5ECF6",
           "caxis": {
            "gridcolor": "white",
            "linecolor": "white",
            "ticks": ""
           }
          },
          "title": {
           "x": 0.05
          },
          "xaxis": {
           "automargin": true,
           "gridcolor": "white",
           "linecolor": "white",
           "ticks": "",
           "title": {
            "standoff": 15
           },
           "zerolinecolor": "white",
           "zerolinewidth": 2
          },
          "yaxis": {
           "automargin": true,
           "gridcolor": "white",
           "linecolor": "white",
           "ticks": "",
           "title": {
            "standoff": 15
           },
           "zerolinecolor": "white",
           "zerolinewidth": 2
          }
         }
        },
        "title": {
         "text": "Heatmap de Correlaciones"
        },
        "xaxis": {
         "title": {
          "text": "Variables X"
         }
        },
        "yaxis": {
         "title": {
          "text": "Variables Y"
         }
        }
       }
      }
     },
     "metadata": {},
     "output_type": "display_data"
    }
   ],
   "source": [
    "import pandas as pd\n",
    "import plotly.express as px\n",
    "import plotly.graph_objects as go\n",
    "\n",
    "def crear_heatmap_correlaciones3(df, variables_x=None, variables_y=None):\n",
    "    # Calcular la matriz de correlación completa\n",
    "    corr_matrix = df.corr()\n",
    "    \n",
    "    # Si no se especifican variables, usar todas\n",
    "    if variables_x is None:\n",
    "        variables_x = corr_matrix.columns\n",
    "    if variables_y is None:\n",
    "        variables_y = corr_matrix.columns\n",
    "    \n",
    "    # Filtrar la matriz de correlación\n",
    "    corr_filtered = corr_matrix.loc[variables_y, variables_x]\n",
    "    \n",
    "    # Crear el heatmap\n",
    "    fig = go.Figure(data=go.Heatmap(\n",
    "        z=corr_filtered.values,  # Valores de la matriz de correlación filtrada\n",
    "        x=corr_filtered.columns,  # Nombres de las columnas para el eje X\n",
    "        y=corr_filtered.index,  # Nombres de las columnas para el eje Y\n",
    "        colorscale='Viridis',  # Escala de colores\n",
    "        hoverongaps=False,  # Para evitar gaps en los hover labels\n",
    "        hovertemplate='X: %{x}<br>Y: %{y}<br>Correlación: %{z}<extra></extra>'  # Texto personalizado para hover\n",
    "    ))\n",
    "\n",
    "    # Personalización del layout\n",
    "    fig.update_layout(\n",
    "        title='Heatmap de Correlaciones',\n",
    "        xaxis_title='Variables X',\n",
    "        yaxis_title='Variables Y',\n",
    "        coloraxis_colorbar=dict(\n",
    "            title=\"Correlación\"\n",
    "        )\n",
    "    )\n",
    "    \n",
    "    fig.show()\n",
    "crear_heatmap_correlaciones3(df2_no_int,\n",
    "                             variables_x=['xyz_campaign_id_916','xyz_campaign_id_936', 'xyz_campaign_id_1178','gender_F','gender_M'],\n",
    "                            variables_y=['Impressions','Clicks','Spent','Total_Conversion','Approved_Conversion','CPM','CPL','CPA','CTR','CPC'])\n",
    "\n"
   ]
  },
  {
   "cell_type": "code",
   "execution_count": 111,
   "metadata": {},
   "outputs": [
    {
     "data": {
      "application/vnd.plotly.v1+json": {
       "config": {
        "plotlyServerURL": "https://plot.ly"
       },
       "data": [
        {
         "colorscale": [
          [
           0,
           "#440154"
          ],
          [
           0.1111111111111111,
           "#482878"
          ],
          [
           0.2222222222222222,
           "#3e4989"
          ],
          [
           0.3333333333333333,
           "#31688e"
          ],
          [
           0.4444444444444444,
           "#26828e"
          ],
          [
           0.5555555555555556,
           "#1f9e89"
          ],
          [
           0.6666666666666666,
           "#35b779"
          ],
          [
           0.7777777777777778,
           "#6ece58"
          ],
          [
           0.8888888888888888,
           "#b5de2b"
          ],
          [
           1,
           "#fde725"
          ]
         ],
         "hoverongaps": false,
         "hovertemplate": "X: %{x}<br>Y: %{y}<br>Correlación: %{z}<extra></extra>",
         "type": "heatmap",
         "x": [
          "xyz_campaign_id_916",
          "xyz_campaign_id_936",
          "xyz_campaign_id_1178",
          "gender_F",
          "gender_M"
         ],
         "y": [
          "Impressions",
          "Clicks",
          "Spent",
          "Total_Conversion",
          "Approved_Conversion",
          "CPM",
          "CPL",
          "CPA",
          "CTR",
          "CPC"
         ],
         "z": [
          [
           -0.1266379418289093,
           -0.4474427505802775,
           0.495366197207192,
           0.06705917084742763,
           -0.06705917084742762
          ],
          [
           -0.12255459851807793,
           -0.4232203636301332,
           0.46973096737901343,
           0.16872496720026814,
           -0.168724967200268
          ],
          [
           -0.12454961946151138,
           -0.4294068885104323,
           0.4766841235523997,
           0.12502194079378315,
           -0.12502194079378304
          ],
          [
           -0.08852163262436465,
           -0.3132609790116157,
           0.3467534586678448,
           0.02755921475305265,
           -0.02755921475305255
          ],
          [
           -0.06404512522379342,
           -0.2615726570211242,
           0.28533217315671316,
           -0.025349977737493055,
           0.02534997773749314
          ],
          [
           0.0019596008442023093,
           -0.0781830043475513,
           0.0762909277446551,
           0.20900496207095043,
           -0.20900496207095037
          ],
          [
           -0.122199049445587,
           -0.3784496785159245,
           0.42541397792864644,
           0.13650339291240007,
           -0.13650339291240005
          ],
          [
           -0.098372480468178,
           -0.3530710985021082,
           0.3902237677256416,
           0.08072625101355024,
           -0.0807262510135502
          ],
          [
           0.03088399084280978,
           0.005881876679424805,
           -0.018964892272221145,
           0.24917542312204974,
           -0.2491754231220497
          ],
          [
           -0.13244059178641832,
           -0.5125334663523162,
           0.5620500372308287,
           -0.042440039557633945,
           0.042440039557634264
          ]
         ]
        }
       ],
       "layout": {
        "coloraxis": {
         "colorbar": {
          "title": {
           "text": "Correlación"
          }
         }
        },
        "template": {
         "data": {
          "bar": [
           {
            "error_x": {
             "color": "#2a3f5f"
            },
            "error_y": {
             "color": "#2a3f5f"
            },
            "marker": {
             "line": {
              "color": "#E5ECF6",
              "width": 0.5
             },
             "pattern": {
              "fillmode": "overlay",
              "size": 10,
              "solidity": 0.2
             }
            },
            "type": "bar"
           }
          ],
          "barpolar": [
           {
            "marker": {
             "line": {
              "color": "#E5ECF6",
              "width": 0.5
             },
             "pattern": {
              "fillmode": "overlay",
              "size": 10,
              "solidity": 0.2
             }
            },
            "type": "barpolar"
           }
          ],
          "carpet": [
           {
            "aaxis": {
             "endlinecolor": "#2a3f5f",
             "gridcolor": "white",
             "linecolor": "white",
             "minorgridcolor": "white",
             "startlinecolor": "#2a3f5f"
            },
            "baxis": {
             "endlinecolor": "#2a3f5f",
             "gridcolor": "white",
             "linecolor": "white",
             "minorgridcolor": "white",
             "startlinecolor": "#2a3f5f"
            },
            "type": "carpet"
           }
          ],
          "choropleth": [
           {
            "colorbar": {
             "outlinewidth": 0,
             "ticks": ""
            },
            "type": "choropleth"
           }
          ],
          "contour": [
           {
            "colorbar": {
             "outlinewidth": 0,
             "ticks": ""
            },
            "colorscale": [
             [
              0,
              "#0d0887"
             ],
             [
              0.1111111111111111,
              "#46039f"
             ],
             [
              0.2222222222222222,
              "#7201a8"
             ],
             [
              0.3333333333333333,
              "#9c179e"
             ],
             [
              0.4444444444444444,
              "#bd3786"
             ],
             [
              0.5555555555555556,
              "#d8576b"
             ],
             [
              0.6666666666666666,
              "#ed7953"
             ],
             [
              0.7777777777777778,
              "#fb9f3a"
             ],
             [
              0.8888888888888888,
              "#fdca26"
             ],
             [
              1,
              "#f0f921"
             ]
            ],
            "type": "contour"
           }
          ],
          "contourcarpet": [
           {
            "colorbar": {
             "outlinewidth": 0,
             "ticks": ""
            },
            "type": "contourcarpet"
           }
          ],
          "heatmap": [
           {
            "colorbar": {
             "outlinewidth": 0,
             "ticks": ""
            },
            "colorscale": [
             [
              0,
              "#0d0887"
             ],
             [
              0.1111111111111111,
              "#46039f"
             ],
             [
              0.2222222222222222,
              "#7201a8"
             ],
             [
              0.3333333333333333,
              "#9c179e"
             ],
             [
              0.4444444444444444,
              "#bd3786"
             ],
             [
              0.5555555555555556,
              "#d8576b"
             ],
             [
              0.6666666666666666,
              "#ed7953"
             ],
             [
              0.7777777777777778,
              "#fb9f3a"
             ],
             [
              0.8888888888888888,
              "#fdca26"
             ],
             [
              1,
              "#f0f921"
             ]
            ],
            "type": "heatmap"
           }
          ],
          "heatmapgl": [
           {
            "colorbar": {
             "outlinewidth": 0,
             "ticks": ""
            },
            "colorscale": [
             [
              0,
              "#0d0887"
             ],
             [
              0.1111111111111111,
              "#46039f"
             ],
             [
              0.2222222222222222,
              "#7201a8"
             ],
             [
              0.3333333333333333,
              "#9c179e"
             ],
             [
              0.4444444444444444,
              "#bd3786"
             ],
             [
              0.5555555555555556,
              "#d8576b"
             ],
             [
              0.6666666666666666,
              "#ed7953"
             ],
             [
              0.7777777777777778,
              "#fb9f3a"
             ],
             [
              0.8888888888888888,
              "#fdca26"
             ],
             [
              1,
              "#f0f921"
             ]
            ],
            "type": "heatmapgl"
           }
          ],
          "histogram": [
           {
            "marker": {
             "pattern": {
              "fillmode": "overlay",
              "size": 10,
              "solidity": 0.2
             }
            },
            "type": "histogram"
           }
          ],
          "histogram2d": [
           {
            "colorbar": {
             "outlinewidth": 0,
             "ticks": ""
            },
            "colorscale": [
             [
              0,
              "#0d0887"
             ],
             [
              0.1111111111111111,
              "#46039f"
             ],
             [
              0.2222222222222222,
              "#7201a8"
             ],
             [
              0.3333333333333333,
              "#9c179e"
             ],
             [
              0.4444444444444444,
              "#bd3786"
             ],
             [
              0.5555555555555556,
              "#d8576b"
             ],
             [
              0.6666666666666666,
              "#ed7953"
             ],
             [
              0.7777777777777778,
              "#fb9f3a"
             ],
             [
              0.8888888888888888,
              "#fdca26"
             ],
             [
              1,
              "#f0f921"
             ]
            ],
            "type": "histogram2d"
           }
          ],
          "histogram2dcontour": [
           {
            "colorbar": {
             "outlinewidth": 0,
             "ticks": ""
            },
            "colorscale": [
             [
              0,
              "#0d0887"
             ],
             [
              0.1111111111111111,
              "#46039f"
             ],
             [
              0.2222222222222222,
              "#7201a8"
             ],
             [
              0.3333333333333333,
              "#9c179e"
             ],
             [
              0.4444444444444444,
              "#bd3786"
             ],
             [
              0.5555555555555556,
              "#d8576b"
             ],
             [
              0.6666666666666666,
              "#ed7953"
             ],
             [
              0.7777777777777778,
              "#fb9f3a"
             ],
             [
              0.8888888888888888,
              "#fdca26"
             ],
             [
              1,
              "#f0f921"
             ]
            ],
            "type": "histogram2dcontour"
           }
          ],
          "mesh3d": [
           {
            "colorbar": {
             "outlinewidth": 0,
             "ticks": ""
            },
            "type": "mesh3d"
           }
          ],
          "parcoords": [
           {
            "line": {
             "colorbar": {
              "outlinewidth": 0,
              "ticks": ""
             }
            },
            "type": "parcoords"
           }
          ],
          "pie": [
           {
            "automargin": true,
            "type": "pie"
           }
          ],
          "scatter": [
           {
            "fillpattern": {
             "fillmode": "overlay",
             "size": 10,
             "solidity": 0.2
            },
            "type": "scatter"
           }
          ],
          "scatter3d": [
           {
            "line": {
             "colorbar": {
              "outlinewidth": 0,
              "ticks": ""
             }
            },
            "marker": {
             "colorbar": {
              "outlinewidth": 0,
              "ticks": ""
             }
            },
            "type": "scatter3d"
           }
          ],
          "scattercarpet": [
           {
            "marker": {
             "colorbar": {
              "outlinewidth": 0,
              "ticks": ""
             }
            },
            "type": "scattercarpet"
           }
          ],
          "scattergeo": [
           {
            "marker": {
             "colorbar": {
              "outlinewidth": 0,
              "ticks": ""
             }
            },
            "type": "scattergeo"
           }
          ],
          "scattergl": [
           {
            "marker": {
             "colorbar": {
              "outlinewidth": 0,
              "ticks": ""
             }
            },
            "type": "scattergl"
           }
          ],
          "scattermapbox": [
           {
            "marker": {
             "colorbar": {
              "outlinewidth": 0,
              "ticks": ""
             }
            },
            "type": "scattermapbox"
           }
          ],
          "scatterpolar": [
           {
            "marker": {
             "colorbar": {
              "outlinewidth": 0,
              "ticks": ""
             }
            },
            "type": "scatterpolar"
           }
          ],
          "scatterpolargl": [
           {
            "marker": {
             "colorbar": {
              "outlinewidth": 0,
              "ticks": ""
             }
            },
            "type": "scatterpolargl"
           }
          ],
          "scatterternary": [
           {
            "marker": {
             "colorbar": {
              "outlinewidth": 0,
              "ticks": ""
             }
            },
            "type": "scatterternary"
           }
          ],
          "surface": [
           {
            "colorbar": {
             "outlinewidth": 0,
             "ticks": ""
            },
            "colorscale": [
             [
              0,
              "#0d0887"
             ],
             [
              0.1111111111111111,
              "#46039f"
             ],
             [
              0.2222222222222222,
              "#7201a8"
             ],
             [
              0.3333333333333333,
              "#9c179e"
             ],
             [
              0.4444444444444444,
              "#bd3786"
             ],
             [
              0.5555555555555556,
              "#d8576b"
             ],
             [
              0.6666666666666666,
              "#ed7953"
             ],
             [
              0.7777777777777778,
              "#fb9f3a"
             ],
             [
              0.8888888888888888,
              "#fdca26"
             ],
             [
              1,
              "#f0f921"
             ]
            ],
            "type": "surface"
           }
          ],
          "table": [
           {
            "cells": {
             "fill": {
              "color": "#EBF0F8"
             },
             "line": {
              "color": "white"
             }
            },
            "header": {
             "fill": {
              "color": "#C8D4E3"
             },
             "line": {
              "color": "white"
             }
            },
            "type": "table"
           }
          ]
         },
         "layout": {
          "annotationdefaults": {
           "arrowcolor": "#2a3f5f",
           "arrowhead": 0,
           "arrowwidth": 1
          },
          "autotypenumbers": "strict",
          "coloraxis": {
           "colorbar": {
            "outlinewidth": 0,
            "ticks": ""
           }
          },
          "colorscale": {
           "diverging": [
            [
             0,
             "#8e0152"
            ],
            [
             0.1,
             "#c51b7d"
            ],
            [
             0.2,
             "#de77ae"
            ],
            [
             0.3,
             "#f1b6da"
            ],
            [
             0.4,
             "#fde0ef"
            ],
            [
             0.5,
             "#f7f7f7"
            ],
            [
             0.6,
             "#e6f5d0"
            ],
            [
             0.7,
             "#b8e186"
            ],
            [
             0.8,
             "#7fbc41"
            ],
            [
             0.9,
             "#4d9221"
            ],
            [
             1,
             "#276419"
            ]
           ],
           "sequential": [
            [
             0,
             "#0d0887"
            ],
            [
             0.1111111111111111,
             "#46039f"
            ],
            [
             0.2222222222222222,
             "#7201a8"
            ],
            [
             0.3333333333333333,
             "#9c179e"
            ],
            [
             0.4444444444444444,
             "#bd3786"
            ],
            [
             0.5555555555555556,
             "#d8576b"
            ],
            [
             0.6666666666666666,
             "#ed7953"
            ],
            [
             0.7777777777777778,
             "#fb9f3a"
            ],
            [
             0.8888888888888888,
             "#fdca26"
            ],
            [
             1,
             "#f0f921"
            ]
           ],
           "sequentialminus": [
            [
             0,
             "#0d0887"
            ],
            [
             0.1111111111111111,
             "#46039f"
            ],
            [
             0.2222222222222222,
             "#7201a8"
            ],
            [
             0.3333333333333333,
             "#9c179e"
            ],
            [
             0.4444444444444444,
             "#bd3786"
            ],
            [
             0.5555555555555556,
             "#d8576b"
            ],
            [
             0.6666666666666666,
             "#ed7953"
            ],
            [
             0.7777777777777778,
             "#fb9f3a"
            ],
            [
             0.8888888888888888,
             "#fdca26"
            ],
            [
             1,
             "#f0f921"
            ]
           ]
          },
          "colorway": [
           "#636efa",
           "#EF553B",
           "#00cc96",
           "#ab63fa",
           "#FFA15A",
           "#19d3f3",
           "#FF6692",
           "#B6E880",
           "#FF97FF",
           "#FECB52"
          ],
          "font": {
           "color": "#2a3f5f"
          },
          "geo": {
           "bgcolor": "white",
           "lakecolor": "white",
           "landcolor": "#E5ECF6",
           "showlakes": true,
           "showland": true,
           "subunitcolor": "white"
          },
          "hoverlabel": {
           "align": "left"
          },
          "hovermode": "closest",
          "mapbox": {
           "style": "light"
          },
          "paper_bgcolor": "white",
          "plot_bgcolor": "#E5ECF6",
          "polar": {
           "angularaxis": {
            "gridcolor": "white",
            "linecolor": "white",
            "ticks": ""
           },
           "bgcolor": "#E5ECF6",
           "radialaxis": {
            "gridcolor": "white",
            "linecolor": "white",
            "ticks": ""
           }
          },
          "scene": {
           "xaxis": {
            "backgroundcolor": "#E5ECF6",
            "gridcolor": "white",
            "gridwidth": 2,
            "linecolor": "white",
            "showbackground": true,
            "ticks": "",
            "zerolinecolor": "white"
           },
           "yaxis": {
            "backgroundcolor": "#E5ECF6",
            "gridcolor": "white",
            "gridwidth": 2,
            "linecolor": "white",
            "showbackground": true,
            "ticks": "",
            "zerolinecolor": "white"
           },
           "zaxis": {
            "backgroundcolor": "#E5ECF6",
            "gridcolor": "white",
            "gridwidth": 2,
            "linecolor": "white",
            "showbackground": true,
            "ticks": "",
            "zerolinecolor": "white"
           }
          },
          "shapedefaults": {
           "line": {
            "color": "#2a3f5f"
           }
          },
          "ternary": {
           "aaxis": {
            "gridcolor": "white",
            "linecolor": "white",
            "ticks": ""
           },
           "baxis": {
            "gridcolor": "white",
            "linecolor": "white",
            "ticks": ""
           },
           "bgcolor": "#E5ECF6",
           "caxis": {
            "gridcolor": "white",
            "linecolor": "white",
            "ticks": ""
           }
          },
          "title": {
           "x": 0.05
          },
          "xaxis": {
           "automargin": true,
           "gridcolor": "white",
           "linecolor": "white",
           "ticks": "",
           "title": {
            "standoff": 15
           },
           "zerolinecolor": "white",
           "zerolinewidth": 2
          },
          "yaxis": {
           "automargin": true,
           "gridcolor": "white",
           "linecolor": "white",
           "ticks": "",
           "title": {
            "standoff": 15
           },
           "zerolinecolor": "white",
           "zerolinewidth": 2
          }
         }
        },
        "title": {
         "text": "Heatmap de Correlaciones"
        },
        "xaxis": {
         "title": {
          "text": "Variables X"
         }
        },
        "yaxis": {
         "title": {
          "text": "Variables Y"
         }
        }
       }
      }
     },
     "metadata": {},
     "output_type": "display_data"
    }
   ],
   "source": [
    "def crear_heatmap_correlaciones3(df, variables_x=None, variables_y=None):\n",
    "    # Calcular la matriz de correlación completa\n",
    "    corr_matrix = df.corr()\n",
    "    \n",
    "    # Si no se especifican variables, usar todas\n",
    "    if variables_x is None:\n",
    "        variables_x = corr_matrix.columns\n",
    "    if variables_y is None:\n",
    "        variables_y = corr_matrix.columns\n",
    "    \n",
    "    # Filtrar la matriz de correlación\n",
    "    corr_filtered = corr_matrix.loc[variables_y, variables_x]\n",
    "    \n",
    "    # Crear el heatmap\n",
    "    fig = go.Figure(data=go.Heatmap(\n",
    "        z=corr_filtered.values,  # Valores de la matriz de correlación filtrada\n",
    "        x=corr_filtered.columns,  # Nombres de las columnas para el eje X\n",
    "        y=corr_filtered.index,  # Nombres de las columnas para el eje Y\n",
    "        colorscale='Viridis',  # Escala de colores\n",
    "        hoverongaps=False,  # Para evitar gaps en los hover labels\n",
    "        hovertemplate='X: %{x}<br>Y: %{y}<br>Correlación: %{z}<extra></extra>'  # Texto personalizado para hover\n",
    "    ))\n",
    "\n",
    "    # Personalización del layout\n",
    "    fig.update_layout(\n",
    "        title='Heatmap de Correlaciones',\n",
    "        xaxis_title='Variables X',\n",
    "        yaxis_title='Variables Y',\n",
    "        coloraxis_colorbar=dict(\n",
    "            title=\"Correlación\"\n",
    "        )\n",
    "    )\n",
    "    \n",
    "    fig.show()\n",
    "crear_heatmap_correlaciones3(df2_no_int,\n",
    "                             variables_x=['xyz_campaign_id_916','xyz_campaign_id_936', 'xyz_campaign_id_1178','gender_F','gender_M'],\n",
    "                            variables_y=['Impressions','Clicks','Spent','Total_Conversion','Approved_Conversion','CPM','CPL','CPA','CTR','CPC'])\n"
   ]
  },
  {
   "cell_type": "code",
   "execution_count": 87,
   "metadata": {},
   "outputs": [
    {
     "data": {
      "application/vnd.plotly.v1+json": {
       "config": {
        "plotlyServerURL": "https://plot.ly"
       },
       "data": [
        {
         "colorscale": [
          [
           0,
           "#440154"
          ],
          [
           0.1111111111111111,
           "#482878"
          ],
          [
           0.2222222222222222,
           "#3e4989"
          ],
          [
           0.3333333333333333,
           "#31688e"
          ],
          [
           0.4444444444444444,
           "#26828e"
          ],
          [
           0.5555555555555556,
           "#1f9e89"
          ],
          [
           0.6666666666666666,
           "#35b779"
          ],
          [
           0.7777777777777778,
           "#6ece58"
          ],
          [
           0.8888888888888888,
           "#b5de2b"
          ],
          [
           1,
           "#fde725"
          ]
         ],
         "type": "heatmap",
         "x": [
          "A",
          "B",
          "C",
          "D"
         ],
         "y": [
          "W",
          "X",
          "Y",
          "Z"
         ],
         "z": [
          1,
          20,
          30,
          40
         ]
        }
       ],
       "layout": {
        "template": {
         "data": {
          "bar": [
           {
            "error_x": {
             "color": "#2a3f5f"
            },
            "error_y": {
             "color": "#2a3f5f"
            },
            "marker": {
             "line": {
              "color": "#E5ECF6",
              "width": 0.5
             },
             "pattern": {
              "fillmode": "overlay",
              "size": 10,
              "solidity": 0.2
             }
            },
            "type": "bar"
           }
          ],
          "barpolar": [
           {
            "marker": {
             "line": {
              "color": "#E5ECF6",
              "width": 0.5
             },
             "pattern": {
              "fillmode": "overlay",
              "size": 10,
              "solidity": 0.2
             }
            },
            "type": "barpolar"
           }
          ],
          "carpet": [
           {
            "aaxis": {
             "endlinecolor": "#2a3f5f",
             "gridcolor": "white",
             "linecolor": "white",
             "minorgridcolor": "white",
             "startlinecolor": "#2a3f5f"
            },
            "baxis": {
             "endlinecolor": "#2a3f5f",
             "gridcolor": "white",
             "linecolor": "white",
             "minorgridcolor": "white",
             "startlinecolor": "#2a3f5f"
            },
            "type": "carpet"
           }
          ],
          "choropleth": [
           {
            "colorbar": {
             "outlinewidth": 0,
             "ticks": ""
            },
            "type": "choropleth"
           }
          ],
          "contour": [
           {
            "colorbar": {
             "outlinewidth": 0,
             "ticks": ""
            },
            "colorscale": [
             [
              0,
              "#0d0887"
             ],
             [
              0.1111111111111111,
              "#46039f"
             ],
             [
              0.2222222222222222,
              "#7201a8"
             ],
             [
              0.3333333333333333,
              "#9c179e"
             ],
             [
              0.4444444444444444,
              "#bd3786"
             ],
             [
              0.5555555555555556,
              "#d8576b"
             ],
             [
              0.6666666666666666,
              "#ed7953"
             ],
             [
              0.7777777777777778,
              "#fb9f3a"
             ],
             [
              0.8888888888888888,
              "#fdca26"
             ],
             [
              1,
              "#f0f921"
             ]
            ],
            "type": "contour"
           }
          ],
          "contourcarpet": [
           {
            "colorbar": {
             "outlinewidth": 0,
             "ticks": ""
            },
            "type": "contourcarpet"
           }
          ],
          "heatmap": [
           {
            "colorbar": {
             "outlinewidth": 0,
             "ticks": ""
            },
            "colorscale": [
             [
              0,
              "#0d0887"
             ],
             [
              0.1111111111111111,
              "#46039f"
             ],
             [
              0.2222222222222222,
              "#7201a8"
             ],
             [
              0.3333333333333333,
              "#9c179e"
             ],
             [
              0.4444444444444444,
              "#bd3786"
             ],
             [
              0.5555555555555556,
              "#d8576b"
             ],
             [
              0.6666666666666666,
              "#ed7953"
             ],
             [
              0.7777777777777778,
              "#fb9f3a"
             ],
             [
              0.8888888888888888,
              "#fdca26"
             ],
             [
              1,
              "#f0f921"
             ]
            ],
            "type": "heatmap"
           }
          ],
          "heatmapgl": [
           {
            "colorbar": {
             "outlinewidth": 0,
             "ticks": ""
            },
            "colorscale": [
             [
              0,
              "#0d0887"
             ],
             [
              0.1111111111111111,
              "#46039f"
             ],
             [
              0.2222222222222222,
              "#7201a8"
             ],
             [
              0.3333333333333333,
              "#9c179e"
             ],
             [
              0.4444444444444444,
              "#bd3786"
             ],
             [
              0.5555555555555556,
              "#d8576b"
             ],
             [
              0.6666666666666666,
              "#ed7953"
             ],
             [
              0.7777777777777778,
              "#fb9f3a"
             ],
             [
              0.8888888888888888,
              "#fdca26"
             ],
             [
              1,
              "#f0f921"
             ]
            ],
            "type": "heatmapgl"
           }
          ],
          "histogram": [
           {
            "marker": {
             "pattern": {
              "fillmode": "overlay",
              "size": 10,
              "solidity": 0.2
             }
            },
            "type": "histogram"
           }
          ],
          "histogram2d": [
           {
            "colorbar": {
             "outlinewidth": 0,
             "ticks": ""
            },
            "colorscale": [
             [
              0,
              "#0d0887"
             ],
             [
              0.1111111111111111,
              "#46039f"
             ],
             [
              0.2222222222222222,
              "#7201a8"
             ],
             [
              0.3333333333333333,
              "#9c179e"
             ],
             [
              0.4444444444444444,
              "#bd3786"
             ],
             [
              0.5555555555555556,
              "#d8576b"
             ],
             [
              0.6666666666666666,
              "#ed7953"
             ],
             [
              0.7777777777777778,
              "#fb9f3a"
             ],
             [
              0.8888888888888888,
              "#fdca26"
             ],
             [
              1,
              "#f0f921"
             ]
            ],
            "type": "histogram2d"
           }
          ],
          "histogram2dcontour": [
           {
            "colorbar": {
             "outlinewidth": 0,
             "ticks": ""
            },
            "colorscale": [
             [
              0,
              "#0d0887"
             ],
             [
              0.1111111111111111,
              "#46039f"
             ],
             [
              0.2222222222222222,
              "#7201a8"
             ],
             [
              0.3333333333333333,
              "#9c179e"
             ],
             [
              0.4444444444444444,
              "#bd3786"
             ],
             [
              0.5555555555555556,
              "#d8576b"
             ],
             [
              0.6666666666666666,
              "#ed7953"
             ],
             [
              0.7777777777777778,
              "#fb9f3a"
             ],
             [
              0.8888888888888888,
              "#fdca26"
             ],
             [
              1,
              "#f0f921"
             ]
            ],
            "type": "histogram2dcontour"
           }
          ],
          "mesh3d": [
           {
            "colorbar": {
             "outlinewidth": 0,
             "ticks": ""
            },
            "type": "mesh3d"
           }
          ],
          "parcoords": [
           {
            "line": {
             "colorbar": {
              "outlinewidth": 0,
              "ticks": ""
             }
            },
            "type": "parcoords"
           }
          ],
          "pie": [
           {
            "automargin": true,
            "type": "pie"
           }
          ],
          "scatter": [
           {
            "fillpattern": {
             "fillmode": "overlay",
             "size": 10,
             "solidity": 0.2
            },
            "type": "scatter"
           }
          ],
          "scatter3d": [
           {
            "line": {
             "colorbar": {
              "outlinewidth": 0,
              "ticks": ""
             }
            },
            "marker": {
             "colorbar": {
              "outlinewidth": 0,
              "ticks": ""
             }
            },
            "type": "scatter3d"
           }
          ],
          "scattercarpet": [
           {
            "marker": {
             "colorbar": {
              "outlinewidth": 0,
              "ticks": ""
             }
            },
            "type": "scattercarpet"
           }
          ],
          "scattergeo": [
           {
            "marker": {
             "colorbar": {
              "outlinewidth": 0,
              "ticks": ""
             }
            },
            "type": "scattergeo"
           }
          ],
          "scattergl": [
           {
            "marker": {
             "colorbar": {
              "outlinewidth": 0,
              "ticks": ""
             }
            },
            "type": "scattergl"
           }
          ],
          "scattermapbox": [
           {
            "marker": {
             "colorbar": {
              "outlinewidth": 0,
              "ticks": ""
             }
            },
            "type": "scattermapbox"
           }
          ],
          "scatterpolar": [
           {
            "marker": {
             "colorbar": {
              "outlinewidth": 0,
              "ticks": ""
             }
            },
            "type": "scatterpolar"
           }
          ],
          "scatterpolargl": [
           {
            "marker": {
             "colorbar": {
              "outlinewidth": 0,
              "ticks": ""
             }
            },
            "type": "scatterpolargl"
           }
          ],
          "scatterternary": [
           {
            "marker": {
             "colorbar": {
              "outlinewidth": 0,
              "ticks": ""
             }
            },
            "type": "scatterternary"
           }
          ],
          "surface": [
           {
            "colorbar": {
             "outlinewidth": 0,
             "ticks": ""
            },
            "colorscale": [
             [
              0,
              "#0d0887"
             ],
             [
              0.1111111111111111,
              "#46039f"
             ],
             [
              0.2222222222222222,
              "#7201a8"
             ],
             [
              0.3333333333333333,
              "#9c179e"
             ],
             [
              0.4444444444444444,
              "#bd3786"
             ],
             [
              0.5555555555555556,
              "#d8576b"
             ],
             [
              0.6666666666666666,
              "#ed7953"
             ],
             [
              0.7777777777777778,
              "#fb9f3a"
             ],
             [
              0.8888888888888888,
              "#fdca26"
             ],
             [
              1,
              "#f0f921"
             ]
            ],
            "type": "surface"
           }
          ],
          "table": [
           {
            "cells": {
             "fill": {
              "color": "#EBF0F8"
             },
             "line": {
              "color": "white"
             }
            },
            "header": {
             "fill": {
              "color": "#C8D4E3"
             },
             "line": {
              "color": "white"
             }
            },
            "type": "table"
           }
          ]
         },
         "layout": {
          "annotationdefaults": {
           "arrowcolor": "#2a3f5f",
           "arrowhead": 0,
           "arrowwidth": 1
          },
          "autotypenumbers": "strict",
          "coloraxis": {
           "colorbar": {
            "outlinewidth": 0,
            "ticks": ""
           }
          },
          "colorscale": {
           "diverging": [
            [
             0,
             "#8e0152"
            ],
            [
             0.1,
             "#c51b7d"
            ],
            [
             0.2,
             "#de77ae"
            ],
            [
             0.3,
             "#f1b6da"
            ],
            [
             0.4,
             "#fde0ef"
            ],
            [
             0.5,
             "#f7f7f7"
            ],
            [
             0.6,
             "#e6f5d0"
            ],
            [
             0.7,
             "#b8e186"
            ],
            [
             0.8,
             "#7fbc41"
            ],
            [
             0.9,
             "#4d9221"
            ],
            [
             1,
             "#276419"
            ]
           ],
           "sequential": [
            [
             0,
             "#0d0887"
            ],
            [
             0.1111111111111111,
             "#46039f"
            ],
            [
             0.2222222222222222,
             "#7201a8"
            ],
            [
             0.3333333333333333,
             "#9c179e"
            ],
            [
             0.4444444444444444,
             "#bd3786"
            ],
            [
             0.5555555555555556,
             "#d8576b"
            ],
            [
             0.6666666666666666,
             "#ed7953"
            ],
            [
             0.7777777777777778,
             "#fb9f3a"
            ],
            [
             0.8888888888888888,
             "#fdca26"
            ],
            [
             1,
             "#f0f921"
            ]
           ],
           "sequentialminus": [
            [
             0,
             "#0d0887"
            ],
            [
             0.1111111111111111,
             "#46039f"
            ],
            [
             0.2222222222222222,
             "#7201a8"
            ],
            [
             0.3333333333333333,
             "#9c179e"
            ],
            [
             0.4444444444444444,
             "#bd3786"
            ],
            [
             0.5555555555555556,
             "#d8576b"
            ],
            [
             0.6666666666666666,
             "#ed7953"
            ],
            [
             0.7777777777777778,
             "#fb9f3a"
            ],
            [
             0.8888888888888888,
             "#fdca26"
            ],
            [
             1,
             "#f0f921"
            ]
           ]
          },
          "colorway": [
           "#636efa",
           "#EF553B",
           "#00cc96",
           "#ab63fa",
           "#FFA15A",
           "#19d3f3",
           "#FF6692",
           "#B6E880",
           "#FF97FF",
           "#FECB52"
          ],
          "font": {
           "color": "#2a3f5f"
          },
          "geo": {
           "bgcolor": "white",
           "lakecolor": "white",
           "landcolor": "#E5ECF6",
           "showlakes": true,
           "showland": true,
           "subunitcolor": "white"
          },
          "hoverlabel": {
           "align": "left"
          },
          "hovermode": "closest",
          "mapbox": {
           "style": "light"
          },
          "paper_bgcolor": "white",
          "plot_bgcolor": "#E5ECF6",
          "polar": {
           "angularaxis": {
            "gridcolor": "white",
            "linecolor": "white",
            "ticks": ""
           },
           "bgcolor": "#E5ECF6",
           "radialaxis": {
            "gridcolor": "white",
            "linecolor": "white",
            "ticks": ""
           }
          },
          "scene": {
           "xaxis": {
            "backgroundcolor": "#E5ECF6",
            "gridcolor": "white",
            "gridwidth": 2,
            "linecolor": "white",
            "showbackground": true,
            "ticks": "",
            "zerolinecolor": "white"
           },
           "yaxis": {
            "backgroundcolor": "#E5ECF6",
            "gridcolor": "white",
            "gridwidth": 2,
            "linecolor": "white",
            "showbackground": true,
            "ticks": "",
            "zerolinecolor": "white"
           },
           "zaxis": {
            "backgroundcolor": "#E5ECF6",
            "gridcolor": "white",
            "gridwidth": 2,
            "linecolor": "white",
            "showbackground": true,
            "ticks": "",
            "zerolinecolor": "white"
           }
          },
          "shapedefaults": {
           "line": {
            "color": "#2a3f5f"
           }
          },
          "ternary": {
           "aaxis": {
            "gridcolor": "white",
            "linecolor": "white",
            "ticks": ""
           },
           "baxis": {
            "gridcolor": "white",
            "linecolor": "white",
            "ticks": ""
           },
           "bgcolor": "#E5ECF6",
           "caxis": {
            "gridcolor": "white",
            "linecolor": "white",
            "ticks": ""
           }
          },
          "title": {
           "x": 0.05
          },
          "xaxis": {
           "automargin": true,
           "gridcolor": "white",
           "linecolor": "white",
           "ticks": "",
           "title": {
            "standoff": 15
           },
           "zerolinecolor": "white",
           "zerolinewidth": 2
          },
          "yaxis": {
           "automargin": true,
           "gridcolor": "white",
           "linecolor": "white",
           "ticks": "",
           "title": {
            "standoff": 15
           },
           "zerolinecolor": "white",
           "zerolinewidth": 2
          }
         }
        },
        "title": {
         "text": "Heatmap con Plotly Graph Objects"
        },
        "xaxis": {
         "nticks": 36
        },
        "yaxis": {
         "nticks": 36
        }
       }
      }
     },
     "metadata": {},
     "output_type": "display_data"
    }
   ],
   "source": [
    "fig = go.Figure(data=go.Heatmap(\n",
    "                   z=df['Values'],\n",
    "                   x=df['X'],\n",
    "                   y=df['Y'],\n",
    "                   colorscale='Viridis'))\n",
    "\n",
    "fig.update_layout(\n",
    "    title='Heatmap con Plotly Graph Objects',\n",
    "    xaxis_nticks=36,\n",
    "    yaxis_nticks=36\n",
    ")\n",
    "\n",
    "fig.show()\n"
   ]
  }
 ],
 "metadata": {
  "kernelspec": {
   "display_name": "venv",
   "language": "python",
   "name": "python3"
  },
  "language_info": {
   "codemirror_mode": {
    "name": "ipython",
    "version": 3
   },
   "file_extension": ".py",
   "mimetype": "text/x-python",
   "name": "python",
   "nbconvert_exporter": "python",
   "pygments_lexer": "ipython3",
   "version": "3.10.12"
  }
 },
 "nbformat": 4,
 "nbformat_minor": 2
}
